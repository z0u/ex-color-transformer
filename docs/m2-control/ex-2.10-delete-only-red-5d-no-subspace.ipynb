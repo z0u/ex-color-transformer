{
 "cells": [
  {
   "cell_type": "markdown",
   "id": "191d5190",
   "metadata": {},
   "source": [
    "# Experiment 2.10: Delete only red with fewer regularization terms\n",
    "\n",
    "In [Ex 2.9](ex-2.9-delete-only-red-5d.ipynb), succeed in deleting _red_ without deleting _cyan_ or other colors, with precision similar to an intervention with a cosine falloff. In that experiment, we used a subspace regularizer to attract desaturated colors to the last three dimensions. Let's see if we can get similar results without that regularizer. We'll also try removing the unitarity regularizer to verify that it's still needed.\n",
    "\n",
    "## Hypothesis 1: subspace regularization is not needed\n",
    "\n",
    "If we remove the subspace regularizer but keep unitarity, the anchor, and anti-anchor terms, the model will warp latent space enough to isolate _red_, and we will be able to delete _red_ without also deleting other colors. We should see error vs. color curves similar to those achieved in 2.9.\n",
    "\n",
    "## Hypothesis 2: unitarity is still needed\n",
    "\n",
    "If we remove unitarity in addition to the subspace term, the model latent space won't be regular enough to warp latent space enough to isolate _red_. Deleting red would also affect other colors.\n",
    "\n",
    "In both cases, the bottleneck will be explicitly normalized."
   ]
  },
  {
   "cell_type": "code",
   "execution_count": 1,
   "id": "db26371c",
   "metadata": {},
   "outputs": [],
   "source": [
    "from __future__ import annotations\n",
    "\n",
    "nbid = '2.10'  # ID for tagging assets\n",
    "nbname = 'Ablate red (only), 5D, fewer regularizers'\n",
    "experiment_name = f'Ex {nbid}: {nbname}'\n",
    "project = 'ex-color-transformer'"
   ]
  },
  {
   "cell_type": "code",
   "execution_count": 2,
   "id": "eaf0edd7",
   "metadata": {},
   "outputs": [],
   "source": [
    "# Basic setup: Logging, Experiment (Modal)\n",
    "import logging\n",
    "\n",
    "import modal\n",
    "\n",
    "from infra.requirements import freeze, project_packages\n",
    "from mini.experiment import Experiment\n",
    "from utils.logging import SimpleLoggingConfig\n",
    "\n",
    "logging_config = (\n",
    "    SimpleLoggingConfig()\n",
    "    .info('notebook', 'utils', 'mini', 'ex_color')\n",
    "    .error('matplotlib.axes')  # Silence warnings about set_aspect\n",
    ")\n",
    "logging_config.apply()\n",
    "\n",
    "# This is the logger for this notebook\n",
    "log = logging.getLogger(f'notebook.{nbid}')\n",
    "\n",
    "run = Experiment(experiment_name, project=project)\n",
    "run.image = modal.Image.debian_slim().pip_install(*freeze(all=True)).add_local_python_source(*project_packages())\n",
    "run.before_each(logging_config.apply)\n",
    "None  # prevent auto-display of this cell"
   ]
  },
  {
   "cell_type": "markdown",
   "id": "89b2028d",
   "metadata": {},
   "source": [
    "## Regularizers\n",
    "\n",
    "Like Ex 2.9:\n",
    "\n",
    "- **Anchor:** pins `red` to $(1,0,0,0,0)$ (5D)\n",
    "- **Anti-anchor:** repels everything from $(-1,0,0,0,0)$ (5D)\n",
    "- **Separate:** angular repulsion to reduce global clumping (applied within each batch)\n",
    "\n",
    "But unlike 2.9:\n",
    "- **AxisAlignedSubspace:** has been removed, relying on anti-anchor to keep other concepts clear of the dimension to be ablated.\n",
    "- **Unitarity:** is present in this list, but we'll do a run without it too."
   ]
  },
  {
   "cell_type": "code",
   "execution_count": 3,
   "id": "ac781a07",
   "metadata": {},
   "outputs": [],
   "source": [
    "import torch\n",
    "\n",
    "from mini.temporal.dopesheet import Dopesheet\n",
    "from ex_color.loss import AngularAnchor, AntiAnchor, Separate, Unitarity, RegularizerConfig\n",
    "\n",
    "from ex_color.training import TrainingModule\n",
    "\n",
    "K = 5  # bottleneck dimensionality\n",
    "RED = (1, 0, 0, 0, 0)\n",
    "ANTI_RED = tuple(-c for c in RED)\n",
    "assert len(RED) == len(ANTI_RED) == K\n",
    "\n",
    "ALL_REGULARIZERS = [\n",
    "    RegularizerConfig(\n",
    "        name='reg-unit',\n",
    "        compute_loss_term=Unitarity(),\n",
    "        label_affinities=None,\n",
    "        layer_affinities=['encoder'],\n",
    "    ),\n",
    "    RegularizerConfig(\n",
    "        name='reg-anchor',\n",
    "        compute_loss_term=AngularAnchor(torch.tensor(RED, dtype=torch.float32)),\n",
    "        label_affinities={'red': 1.0},\n",
    "        layer_affinities=['bottleneck'],\n",
    "    ),\n",
    "    RegularizerConfig(\n",
    "        name='reg-separate',\n",
    "        compute_loss_term=Separate(power=100.0, shift=True),\n",
    "        label_affinities=None,\n",
    "        layer_affinities=['bottleneck'],\n",
    "    ),\n",
    "    RegularizerConfig(\n",
    "        name='reg-anti-anchor',\n",
    "        compute_loss_term=AntiAnchor(torch.tensor(ANTI_RED, dtype=torch.float32)),\n",
    "        label_affinities=None,\n",
    "        layer_affinities=['bottleneck'],\n",
    "    ),\n",
    "]"
   ]
  },
  {
   "cell_type": "markdown",
   "id": "22376072",
   "metadata": {},
   "source": [
    "## Data\n",
    "\n",
    "Data is the same as last time: color cubes with values in RGB.\n"
   ]
  },
  {
   "cell_type": "code",
   "execution_count": 4,
   "id": "de07fe37",
   "metadata": {},
   "outputs": [],
   "source": [
    "from functools import partial\n",
    "from torch import Tensor\n",
    "from torch.utils.data import DataLoader, TensorDataset, WeightedRandomSampler\n",
    "import numpy as np\n",
    "\n",
    "from ex_color.data.color_cube import ColorCube\n",
    "from ex_color.data.cube_sampler import vibrancy\n",
    "from ex_color.data.cyclic import arange_cyclic\n",
    "from ex_color.labelling import collate_with_generated_labels\n",
    "\n",
    "\n",
    "def prep_data() -> tuple[DataLoader, Tensor]:\n",
    "    \"\"\"\n",
    "    Prepare data for training.\n",
    "\n",
    "    Returns: (train, val)\n",
    "    \"\"\"\n",
    "    hsv_cube = ColorCube.from_hsv(\n",
    "        h=arange_cyclic(step_size=10 / 360),\n",
    "        s=np.linspace(0, 1, 10),\n",
    "        v=np.linspace(0, 1, 10),\n",
    "    )\n",
    "    hsv_tensor = torch.tensor(hsv_cube.rgb_grid.reshape(-1, 3), dtype=torch.float32)\n",
    "    vibrancy_tensor = torch.tensor(vibrancy(hsv_cube).flatten(), dtype=torch.float32)\n",
    "    hsv_dataset = TensorDataset(hsv_tensor, vibrancy_tensor)\n",
    "\n",
    "    labeller = partial(\n",
    "        collate_with_generated_labels,\n",
    "        soft=False,  # Use binary labels (stochastic) to simulate the labelling of internet text\n",
    "        red=0.5,\n",
    "    )\n",
    "    # Desaturated and dark colors are over-represented in the cube, so we use a weighted sampler to balance them out\n",
    "    hsv_loader = DataLoader(\n",
    "        hsv_dataset,\n",
    "        batch_size=64,\n",
    "        num_workers=2,\n",
    "        sampler=WeightedRandomSampler(\n",
    "            weights=hsv_cube.bias.flatten().tolist(),\n",
    "            num_samples=len(hsv_dataset),\n",
    "            replacement=True,\n",
    "        ),\n",
    "        collate_fn=labeller,\n",
    "    )\n",
    "\n",
    "    rgb_cube = ColorCube.from_rgb(\n",
    "        r=np.linspace(0, 1, 8),\n",
    "        g=np.linspace(0, 1, 8),\n",
    "        b=np.linspace(0, 1, 8),\n",
    "    )\n",
    "    rgb_tensor = torch.tensor(rgb_cube.rgb_grid.reshape(-1, 3), dtype=torch.float32)\n",
    "    return hsv_loader, rgb_tensor"
   ]
  },
  {
   "cell_type": "markdown",
   "id": "7fecb906",
   "metadata": {},
   "source": [
    "## Training\n",
    "\n",
    "Like in Ex 2.2, the model is trained with PyTorch Lightning, with regularizers applied as custom hooks.\n",
    "\n",
    "Unlike earlier experiments, the model now has two nonlinear activation functions in the encoder and decoder, to allow the latent space to be warped more."
   ]
  },
  {
   "cell_type": "code",
   "execution_count": 5,
   "id": "73c22398",
   "metadata": {},
   "outputs": [],
   "source": [
    "import wandb\n",
    "from ex_color.model import CNColorMLP\n",
    "\n",
    "\n",
    "# @run.thither(env={'WANDB_API_KEY': wandb.Api().api_key})\n",
    "async def train(\n",
    "    dopesheet: Dopesheet,\n",
    "    regularizers: list[RegularizerConfig],\n",
    "    k_bottleneck: int,\n",
    ") -> CNColorMLP:\n",
    "    \"\"\"Train the model with the given dopesheet and variant.\"\"\"\n",
    "    import lightning as L\n",
    "    from lightning.pytorch.loggers import WandbLogger\n",
    "\n",
    "    from ex_color.seed import set_deterministic_mode\n",
    "\n",
    "    from utils.progress.lightning import LightningProgress\n",
    "\n",
    "    log.info(f'Training with: {[r.name for r in regularizers]}')\n",
    "\n",
    "    seed = 0\n",
    "    set_deterministic_mode(seed)\n",
    "\n",
    "    hsv_loader, _ = prep_data()\n",
    "\n",
    "    model = CNColorMLP(k_bottleneck, n_nonlinear=2)\n",
    "    total_params = sum(p.numel() for p in model.parameters() if p.requires_grad)\n",
    "    log.debug(f'Model initialized with {total_params:,} trainable parameters.')\n",
    "\n",
    "    training_module = TrainingModule(model, dopesheet, torch.nn.MSELoss(), regularizers)\n",
    "\n",
    "    logger = WandbLogger(experiment_name, project='ex-color-transformer')\n",
    "\n",
    "    trainer = L.Trainer(\n",
    "        max_steps=len(dopesheet),\n",
    "        callbacks=[\n",
    "            LightningProgress(),\n",
    "        ],\n",
    "        enable_checkpointing=False,\n",
    "        enable_model_summary=False,\n",
    "        # enable_progress_bar=True,\n",
    "        logger=logger,\n",
    "    )\n",
    "\n",
    "    print(f'max_steps: {len(dopesheet)}, hsv_loader length: {len(hsv_loader)}')\n",
    "\n",
    "    # Train the model\n",
    "    try:\n",
    "        trainer.fit(training_module, hsv_loader)\n",
    "    finally:\n",
    "        wandb.finish()\n",
    "    # This is only a small model, so it's OK to return it rather than storing and loading a checkpoint remotely\n",
    "    return model"
   ]
  },
  {
   "cell_type": "markdown",
   "id": "b9688ac3",
   "metadata": {},
   "source": [
    "## Inference utils\n",
    "\n",
    "We wrap the model that we trained above in an `InferenceModule`. We won't be using its intervention features.\n"
   ]
  },
  {
   "cell_type": "code",
   "execution_count": 6,
   "id": "76d2de53",
   "metadata": {},
   "outputs": [],
   "source": [
    "from ex_color.inference import InferenceModule\n",
    "\n",
    "\n",
    "async def infer(\n",
    "    model: CNColorMLP,\n",
    "    test_data: Tensor,\n",
    ") -> Tensor:\n",
    "    \"\"\"Run inference with the given model.\"\"\"\n",
    "    import lightning as L\n",
    "\n",
    "    inference_module = InferenceModule(model, [])\n",
    "    trainer = L.Trainer(\n",
    "        enable_checkpointing=False,\n",
    "        enable_model_summary=False,\n",
    "        enable_progress_bar=True,\n",
    "    )\n",
    "    reconstructed_colors_batches = trainer.predict(\n",
    "        inference_module,\n",
    "        DataLoader(\n",
    "            TensorDataset(test_data.reshape((-1, 3))),\n",
    "            batch_size=64,\n",
    "            collate_fn=lambda batch: torch.stack([row[0] for row in batch], 0),\n",
    "        ),\n",
    "    )\n",
    "    assert reconstructed_colors_batches is not None\n",
    "    # Flatten the list of batches to a single list of tensors\n",
    "    reconstructed_colors = [item for batch in reconstructed_colors_batches for item in batch]\n",
    "    # Reshape to match input\n",
    "    return torch.cat(reconstructed_colors).reshape(test_data.shape)"
   ]
  },
  {
   "cell_type": "code",
   "execution_count": 7,
   "id": "89ec7e6a",
   "metadata": {},
   "outputs": [],
   "source": [
    "import torch\n",
    "import numpy as np\n",
    "\n",
    "from ex_color.inference import InferenceModule\n",
    "\n",
    "\n",
    "async def infer_with_latent_capture(\n",
    "    model: CNColorMLP,\n",
    "    test_data: Tensor,\n",
    "    layer_name: str = 'bottleneck',\n",
    ") -> tuple[Tensor, Tensor]:\n",
    "    module = InferenceModule(model, [], capture_layers=[layer_name])\n",
    "    import lightning as L\n",
    "\n",
    "    trainer = L.Trainer(enable_checkpointing=False, enable_model_summary=False, enable_progress_bar=False)\n",
    "    batches = trainer.predict(\n",
    "        module,\n",
    "        DataLoader(\n",
    "            TensorDataset(test_data.reshape((-1, 3))),\n",
    "            batch_size=64,\n",
    "            collate_fn=lambda batch: torch.stack([row[0] for row in batch], 0),\n",
    "        ),\n",
    "    )\n",
    "    assert batches is not None\n",
    "    preds = [item for batch in batches for item in batch]\n",
    "    y = torch.cat(preds).reshape(test_data.shape)\n",
    "    # Read captured activations as a flat [N, D] tensor\n",
    "    latents = module.read_captured(layer_name)\n",
    "    return y, latents"
   ]
  },
  {
   "cell_type": "code",
   "execution_count": 8,
   "id": "4381b363",
   "metadata": {},
   "outputs": [
    {
     "data": {
      "text/html": [
       "<picture>\n",
       "  <source srcset=\"large-assets/ex-2.10-true-colors.dark.png?v=1NFnfHAY6aEp48OPJBKFiOa8-jL3hGm7HskMtDuZHkM\" media=\"(prefers-color-scheme: dark)\" />\n",
       "  <source srcset=\"large-assets/ex-2.10-true-colors.png?v=1NFnfHAY6aEp48OPJBKFiOa8-jL3hGm7HskMtDuZHkM\" media=\"(prefers-color-scheme: light)\" />\n",
       "  <img src=\"large-assets/ex-2.10-true-colors.png?v=1NFnfHAY6aEp48OPJBKFiOa8-jL3hGm7HskMtDuZHkM\" alt=\"Plot showing four slices of the HSV cube, titled &quot;True colors · V vs H by S&quot;. Each slice has constant saturation, but varies in value (brightness) from top to bottom, and in hue from left to right. The first slice shows a grayscale gradient from black to white; the last shows the fully-saturated color spectrum.\" />\n",
       "</picture>"
      ],
      "text/plain": [
       "Plot showing four slices of the HSV cube, titled \"True colors · V vs H by S\". Each slice has constant saturation, but varies in value (brightness) from top to bottom, and in hue from left to right. The first slice shows a grayscale gradient from black to white; the last shows the fully-saturated color spectrum."
      ]
     },
     "metadata": {},
     "output_type": "display_data"
    }
   ],
   "source": [
    "from IPython.display import clear_output\n",
    "\n",
    "from ex_color.vis import plot_colors\n",
    "from utils.nb import displayer_mpl\n",
    "\n",
    "\n",
    "hsv_cube = ColorCube.from_hsv(\n",
    "    h=arange_cyclic(step_size=1 / 24),\n",
    "    s=np.linspace(0, 1, 4),\n",
    "    v=np.linspace(0, 1, 8),\n",
    ").permute('svh')\n",
    "x_hsv = torch.tensor(hsv_cube.rgb_grid, dtype=torch.float32)\n",
    "\n",
    "hd_hsv_cube = ColorCube.from_hsv(\n",
    "    h=arange_cyclic(step_size=1 / 240),\n",
    "    s=np.linspace(0, 1, 48),\n",
    "    v=np.linspace(0, 1, 48),\n",
    ")\n",
    "hd_x_hsv = torch.tensor(hd_hsv_cube.rgb_grid, dtype=torch.float32)\n",
    "\n",
    "rgb_cube = ColorCube.from_rgb(\n",
    "    r=np.linspace(0, 1, 20),\n",
    "    g=np.linspace(0, 1, 20),\n",
    "    b=np.linspace(0, 1, 20),\n",
    ")\n",
    "x_rgb = torch.tensor(rgb_cube.rgb_grid, dtype=torch.float32)\n",
    "\n",
    "with displayer_mpl(\n",
    "    f'large-assets/ex-{nbid}-true-colors.png',\n",
    "    alt_text=\"\"\"Plot showing four slices of the HSV cube, titled \"{title}\". Each slice has constant saturation, but varies in value (brightness) from top to bottom, and in hue from left to right. The first slice shows a grayscale gradient from black to white; the last shows the fully-saturated color spectrum.\"\"\",\n",
    ") as show:\n",
    "    show(lambda: plot_colors(hsv_cube, title='True colors', colors=x_hsv.numpy()))"
   ]
  },
  {
   "cell_type": "markdown",
   "id": "6d8fcb76",
   "metadata": {},
   "source": [
    "## No subspace\n",
    "\n",
    "The first model we'll test is one that is trained without the subspace term, but with the unitarity regularization term included."
   ]
  },
  {
   "cell_type": "code",
   "execution_count": 9,
   "id": "c6b26721",
   "metadata": {},
   "outputs": [
    {
     "name": "stdout",
     "output_type": "stream",
     "text": [
      "I 23.7 no.2.10:Training with: ['reg-unit', 'reg-anchor', 'reg-separate', 'reg-anti-anchor']\n"
     ]
    },
    {
     "name": "stderr",
     "output_type": "stream",
     "text": [
      "INFO: Seed set to 0\n"
     ]
    },
    {
     "name": "stdout",
     "output_type": "stream",
     "text": [
      "I 23.7 li.fa.ut.se:Seed set to 0\n",
      "I 23.7 ex.se:  PyTorch set to deterministic mode\n"
     ]
    },
    {
     "name": "stderr",
     "output_type": "stream",
     "text": [
      "INFO: GPU available: False, used: False\n"
     ]
    },
    {
     "name": "stdout",
     "output_type": "stream",
     "text": [
      "I 23.8 li.py.ut.ra:GPU available: False, used: False\n"
     ]
    },
    {
     "name": "stderr",
     "output_type": "stream",
     "text": [
      "INFO: TPU available: False, using: 0 TPU cores\n"
     ]
    },
    {
     "name": "stdout",
     "output_type": "stream",
     "text": [
      "I 23.8 li.py.ut.ra:TPU available: False, using: 0 TPU cores\n"
     ]
    },
    {
     "name": "stderr",
     "output_type": "stream",
     "text": [
      "INFO: HPU available: False, using: 0 HPUs\n"
     ]
    },
    {
     "name": "stdout",
     "output_type": "stream",
     "text": [
      "I 23.8 li.py.ut.ra:HPU available: False, using: 0 HPUs\n",
      "max_steps: 3001, hsv_loader length: 57\n"
     ]
    },
    {
     "name": "stderr",
     "output_type": "stream",
     "text": [
      "\u001b[34m\u001b[1mwandb\u001b[0m: Currently logged in as: \u001b[33mz0r\u001b[0m to \u001b[32mhttps://api.wandb.ai\u001b[0m. Use \u001b[1m`wandb login --relogin`\u001b[0m to force relogin\n"
     ]
    },
    {
     "data": {
      "text/html": [
       "creating run (4.1s)"
      ],
      "text/plain": [
       "<IPython.core.display.HTML object>"
      ]
     },
     "metadata": {},
     "output_type": "display_data"
    },
    {
     "data": {
      "text/html": [
       "Tracking run with wandb version 0.21.0"
      ],
      "text/plain": [
       "<IPython.core.display.HTML object>"
      ]
     },
     "metadata": {},
     "output_type": "display_data"
    },
    {
     "data": {
      "text/html": [
       "Run data is saved locally in <code>./wandb/run-20250912_053830-60s4zqdy</code>"
      ],
      "text/plain": [
       "<IPython.core.display.HTML object>"
      ]
     },
     "metadata": {},
     "output_type": "display_data"
    },
    {
     "data": {
      "text/html": [
       "Syncing run <strong><a href='https://wandb.ai/z0r/ex-color-transformer/runs/60s4zqdy' target=\"_blank\">Ex 2.10: Ablate red (only), 5D, fewer regularizers</a></strong> to <a href='https://wandb.ai/z0r/ex-color-transformer' target=\"_blank\">Weights & Biases</a> (<a href='https://wandb.me/developer-guide' target=\"_blank\">docs</a>)<br>"
      ],
      "text/plain": [
       "<IPython.core.display.HTML object>"
      ]
     },
     "metadata": {},
     "output_type": "display_data"
    },
    {
     "data": {
      "text/html": [
       " View project at <a href='https://wandb.ai/z0r/ex-color-transformer' target=\"_blank\">https://wandb.ai/z0r/ex-color-transformer</a>"
      ],
      "text/plain": [
       "<IPython.core.display.HTML object>"
      ]
     },
     "metadata": {},
     "output_type": "display_data"
    },
    {
     "data": {
      "text/html": [
       " View run at <a href='https://wandb.ai/z0r/ex-color-transformer/runs/60s4zqdy' target=\"_blank\">https://wandb.ai/z0r/ex-color-transformer/runs/60s4zqdy</a>"
      ],
      "text/plain": [
       "<IPython.core.display.HTML object>"
      ]
     },
     "metadata": {},
     "output_type": "display_data"
    },
    {
     "data": {
      "text/html": [
       "<div style=\"width: 100%; padding: 5px 0; font-family: monospace\">\n",
       "  <div style=\"position: relative; height: calc(1em * 5/3); width: 100%; margin-bottom: 2em\">\n",
       "    <div style=\"position: absolute; top: 100%; height: 3.5px; left: 0; width: 100%; background: linear-gradient(to right, var(--h1) 0.0%, var(--h0) 2.0%, var(--h0) 4.1%, var(--h0) 6.1%, var(--h0) 8.2%, var(--h0) 10.2%, var(--h0) 12.2%, var(--h0) 14.3%, var(--h0) 16.3%, var(--h0) 18.4%, var(--h0) 20.4%, var(--h0) 22.4%, var(--h0) 24.5%, var(--h0) 26.5%, var(--h0) 28.6%, var(--h0) 30.6%, var(--h0) 32.7%, var(--h0) 34.7%, var(--h1) 36.7%, var(--h0) 38.8%, var(--h0) 40.8%, var(--h0) 42.9%, var(--h0) 44.9%, var(--h0) 46.9%, var(--h0) 49.0%, var(--h0) 51.0%, var(--h0) 53.1%, var(--h0) 55.1%, var(--h0) 57.1%, var(--h0) 59.2%, var(--h0) 61.2%, var(--h0) 63.3%, var(--h0) 65.3%, var(--h0) 67.3%, var(--h0) 69.4%, var(--h0) 71.4%, var(--h0) 73.5%, var(--h1) 75.5%, var(--h0) 77.6%, var(--h0) 79.6%, var(--h0) 81.6%, var(--h0) 83.7%, var(--h0) 85.7%, var(--h0) 87.8%, var(--h0) 89.8%, var(--h0) 91.8%, var(--h0) 93.9%, var(--h0) 95.9%, var(--h0) 98.0%, var(--h1) 100.0%);--h0:color(from currentColor srgb r g b / 0.11);--h1:color(from currentColor srgb r g b / 0.44)\"></div>\n",
       "    <div style=\"position: absolute; top: 100%; font-size: 70%; padding: 3px 2px 0; left: 1.9%; border-left: 0.5px solid currentColor\">0.0094</div>\n",
       "    <div style=\"position: absolute; top: 100%; font-size: 70%; padding: 3px 2px 0; left: 13.3%; border-left: 0.5px solid currentColor\">0.0026</div>\n",
       "    <div style=\"position: absolute; top: 100%; font-size: 70%; padding: 3px 2px 0; left: 24.7%; border-left: 0.5px solid currentColor\">0.0049</div>\n",
       "    <div style=\"position: absolute; top: 100%; font-size: 70%; padding: 3px 2px 0; left: 36.1%; border-left: 0.5px solid currentColor\">0.0016</div>\n",
       "    <div style=\"position: absolute; top: 100%; font-size: 70%; padding: 3px 2px 0; left: 47.5%; border-left: 0.5px solid currentColor\">0.0015</div>\n",
       "    <div style=\"position: absolute; top: 100%; font-size: 70%; padding: 3px 2px 0; left: 58.8%; border-left: 0.5px solid currentColor\">0.0006</div>\n",
       "    <div style=\"position: absolute; top: 100%; font-size: 70%; padding: 3px 2px 0; left: 70.2%; border-left: 0.5px solid currentColor\">0.0008</div>\n",
       "    <div style=\"position: absolute; top: 100%; font-size: 70%; padding: 3px 2px 0; left: 81.6%; border-left: 0.5px solid currentColor\">0.0001</div>\n",
       "    <div style=\"position: absolute; top: 100%; font-size: 70%; padding: 3px 2px 0; right: 0.0%; border-right: 0.5px solid currentColor\">0.0000</div>\n",
       "    <div style=\"position: absolute; bottom: -4px; left: calc(100.0% - 4px)\">\n",
       "      <div style=\"border-left: 4px solid transparent; border-right: 4px solid transparent; border-bottom: 4px solid currentColor\"></div>\n",
       "    </div>\n",
       "    <div style=\"position: absolute; height: 100%; width: 100.0%; background-color: color(from currentColor srgb r g b / 0.1); border-bottom: 1px solid currentColor\"></div>\n",
       "    <div style=\"position: absolute; width: 100%; height: 100%; text-align: center; line-height: calc((1em * 5/3) / 0.9); font-size: 90%; white-space: nowrap; overflow: hidden; text-overflow: ellipsis; border-bottom: 1px dashed color(from currentColor srgb r g b / 0.5)\"><b>Training</b>: 100.0% [3001/3001] [<b>00:37</b>/<00:00, 79.93 it/s]</div>\n",
       "  </div>\n",
       "  <div style=\"display: grid; grid-template-columns: repeat(2, minmax(80px, 1fr)); gap: 5px 0px; width: 100%; margin: 1em 0; font-size: 0.85em\">\n",
       "    <div style=\"font-weight: bold; border-bottom: 0.5px solid currentColor; padding: 2px 10px; text-align: left; overflow: hidden; text-overflow: ellipsis; white-space: nowrap\">v_num</div>\n",
       "    <div style=\"font-weight: bold; border-bottom: 0.5px solid currentColor; padding: 2px 10px; text-align: left; overflow: hidden; text-overflow: ellipsis; white-space: nowrap\">train_loss</div>\n",
       "    <div style=\"padding: 2px 10px; text-align: left; overflow: hidden; text-overflow: ellipsis; white-space: nowrap\">zqdy</div>\n",
       "    <div style=\"padding: 2px 10px; text-align: left; overflow: hidden; text-overflow: ellipsis; white-space: nowrap\">1.747e-05</div>\n",
       "  </div>\n",
       "</div>"
      ],
      "text/plain": [
       "Training: 100.0% [3001/3001]"
      ]
     },
     "metadata": {},
     "output_type": "display_data"
    },
    {
     "name": "stdout",
     "output_type": "stream",
     "text": [
      "Starting phase: Train\n"
     ]
    },
    {
     "name": "stderr",
     "output_type": "stream",
     "text": [
      "INFO: `Trainer.fit` stopped: `max_steps=3001` reached.\n"
     ]
    },
    {
     "name": "stdout",
     "output_type": "stream",
     "text": [
      "I 69.1 li.py.ut.ra:`Trainer.fit` stopped: `max_steps=3001` reached.\n"
     ]
    },
    {
     "data": {
      "text/html": [],
      "text/plain": [
       "<IPython.core.display.HTML object>"
      ]
     },
     "metadata": {},
     "output_type": "display_data"
    },
    {
     "data": {
      "text/html": [
       "<br>    <style><br>        .wandb-row {<br>            display: flex;<br>            flex-direction: row;<br>            flex-wrap: wrap;<br>            justify-content: flex-start;<br>            width: 100%;<br>        }<br>        .wandb-col {<br>            display: flex;<br>            flex-direction: column;<br>            flex-basis: 100%;<br>            flex: 1;<br>            padding: 10px;<br>        }<br>    </style><br><div class=\"wandb-row\"><div class=\"wandb-col\"><h3>Run history:</h3><br/><table class=\"wandb\"><tr><td>epoch</td><td>▁▁▁▁▂▂▂▂▃▃▃▃▃▃▄▄▄▄▄▅▅▅▅▅▆▆▆▆▆▆▇▇▇▇▇▇████</td></tr><tr><td>train_loss</td><td>█▆▅▄▄▄▃▃▃▂▅▃▃▃▂▃▂▂▃▂▂▂▂▂▂▂▁▁▁▁▁▁▁▁▁▁▁▁▁▁</td></tr><tr><td>train_recon</td><td>█▄▃▂▁▂▃▂▂▂▃▂▂▃▄▂▂▂▂▂▂▂▃▂▂▁▂▁▁▁▁▁▁▁▁▁▁▁▁▁</td></tr><tr><td>train_reg-anchor</td><td>▁▁▁▇▁▁▁▁▁▁█▁▁▁▁▁▁▁▁▁▁▁▁▁▁▁▁▁▁▂▁▁▁▁▁▂▁▁▁▁</td></tr><tr><td>train_reg-anti-anchor</td><td>▁▁▁▁▂▂▃▆█▅▆▂▁▂▁▁▁▂▁▂▁▂▁▁▁▁▁▂▁▁▁▁▁▁▁▁▁▁▁▁</td></tr><tr><td>train_reg-separate</td><td>█▅▅▄▅▃▃▂▃▃▂▂▃▂▂▃▂▁▂▂▁▂▁▂▁▁▁▂▂▁▁▁▁▁▁▁▂▂▂▁</td></tr><tr><td>train_reg-unit</td><td>█▇▅▄▂▁▁▂▁▁▁▁▁▁▁▁▁▁▁▁▁▁▁▁▁▁▁▁▁▁▁▁▁▁▁▁▁▁▁▁</td></tr><tr><td>trainer/global_step</td><td>▁▁▁▁▁▂▂▂▂▃▃▃▃▃▃▄▄▄▄▄▅▅▅▅▅▆▆▆▆▆▆▆▇▇▇▇████</td></tr></table><br/></div><div class=\"wandb-col\"><h3>Run summary:</h3><br/><table class=\"wandb\"><tr><td>epoch</td><td>52</td></tr><tr><td>train_loss</td><td>2e-05</td></tr><tr><td>train_recon</td><td>2e-05</td></tr><tr><td>train_reg-anchor</td><td>0</td></tr><tr><td>train_reg-anti-anchor</td><td>0.00115</td></tr><tr><td>train_reg-separate</td><td>0.11513</td></tr><tr><td>train_reg-unit</td><td>0.00318</td></tr><tr><td>trainer/global_step</td><td>2999</td></tr></table><br/></div></div>"
      ],
      "text/plain": [
       "<IPython.core.display.HTML object>"
      ]
     },
     "metadata": {},
     "output_type": "display_data"
    },
    {
     "data": {
      "text/html": [
       " View run <strong style=\"color:#cdcd00\">Ex 2.10: Ablate red (only), 5D, fewer regularizers</strong> at: <a href='https://wandb.ai/z0r/ex-color-transformer/runs/60s4zqdy' target=\"_blank\">https://wandb.ai/z0r/ex-color-transformer/runs/60s4zqdy</a><br> View project at: <a href='https://wandb.ai/z0r/ex-color-transformer' target=\"_blank\">https://wandb.ai/z0r/ex-color-transformer</a><br>Synced 5 W&B file(s), 0 media file(s), 0 artifact file(s) and 0 other file(s)"
      ],
      "text/plain": [
       "<IPython.core.display.HTML object>"
      ]
     },
     "metadata": {},
     "output_type": "display_data"
    },
    {
     "data": {
      "text/html": [
       "Find logs at: <code>./wandb/run-20250912_053830-60s4zqdy/logs</code>"
      ],
      "text/plain": [
       "<IPython.core.display.HTML object>"
      ]
     },
     "metadata": {},
     "output_type": "display_data"
    }
   ],
   "source": [
    "async with run():\n",
    "    model_unit = await train(Dopesheet.from_csv(f'./ex-{nbid}-dopesheet.csv'), ALL_REGULARIZERS, K)"
   ]
  },
  {
   "cell_type": "code",
   "execution_count": 10,
   "id": "14da6f03",
   "metadata": {},
   "outputs": [
    {
     "data": {
      "text/html": [
       "<picture>\n",
       "  <source srcset=\"large-assets/ex-2.10-pred-colors-no-intervention-unit.dark.png?v=U6baJJgdt5_Ct2rcz-anj2fks0mqIkrpE80o6T-8fG8\" media=\"(prefers-color-scheme: dark)\" />\n",
       "  <source srcset=\"large-assets/ex-2.10-pred-colors-no-intervention-unit.png?v=U6baJJgdt5_Ct2rcz-anj2fks0mqIkrpE80o6T-8fG8\" media=\"(prefers-color-scheme: light)\" />\n",
       "  <img src=\"large-assets/ex-2.10-pred-colors-no-intervention-unit.png?v=U6baJJgdt5_Ct2rcz-anj2fks0mqIkrpE80o6T-8fG8\" alt=\"Plot showing four slices of the HSV cube, titled &quot;Predicted colors · no intervention · no subspace · V vs H by S&quot;. Nominally, each slice has constant saturation, but varies in value (brightness) from top to bottom, and in hue from left to right. Each color value is represented as a square patch of that color. The outer portion of the patches shows the color as reconstructed by the model; the inner portion shows the true (input) color. The reconstructed and true colors agree fairly well, but some slight differences are visible; for example, &quot;white&quot; is slightly gray, and many of the fully-saturated colors are less saturated than they should be.\" />\n",
       "</picture>"
      ],
      "text/plain": [
       "Plot showing four slices of the HSV cube, titled \"Predicted colors · no intervention · no subspace · V vs H by S\". Nominally, each slice has constant saturation, but varies in value (brightness) from top to bottom, and in hue from left to right. Each color value is represented as a square patch of that color. The outer portion of the patches shows the color as reconstructed by the model; the inner portion shows the true (input) color. The reconstructed and true colors agree fairly well, but some slight differences are visible; for example, \"white\" is slightly gray, and many of the fully-saturated colors are less saturated than they should be."
      ]
     },
     "metadata": {},
     "output_type": "display_data"
    },
    {
     "data": {
      "text/html": [
       "<picture>\n",
       "  <source srcset=\"large-assets/ex-2.10-loss-colors-no-intervention-unit.dark.png?v=iH2B7lspc2MzeXTcjtJS6cu6UckVN-CMIugRE-1JsLE\" media=\"(prefers-color-scheme: dark)\" />\n",
       "  <source srcset=\"large-assets/ex-2.10-loss-colors-no-intervention-unit.png?v=iH2B7lspc2MzeXTcjtJS6cu6UckVN-CMIugRE-1JsLE\" media=\"(prefers-color-scheme: light)\" />\n",
       "  <img src=\"large-assets/ex-2.10-loss-colors-no-intervention-unit.png?v=iH2B7lspc2MzeXTcjtJS6cu6UckVN-CMIugRE-1JsLE\" alt=\"Line chart showing loss per color, titled &quot;Reconstruction error · no intervention · no subspace&quot;. Y-axis: mean square error, ranging from zero to 0.00023. X-axis: hue. The range of loss values is small, but there are two notable peaks at red, yellow, green, and cyan. Between those points the lines are wavy, reminiscent of an audio waveform.\" />\n",
       "</picture>"
      ],
      "text/plain": [
       "Line chart showing loss per color, titled \"Reconstruction error · no intervention · no subspace\". Y-axis: mean square error, ranging from zero to 0.00023. X-axis: hue. The range of loss values is small, but there are two notable peaks at red, yellow, green, and cyan. Between those points the lines are wavy, reminiscent of an audio waveform."
      ]
     },
     "metadata": {},
     "output_type": "display_data"
    },
    {
     "name": "stdout",
     "output_type": "stream",
     "text": [
      "Max loss: 0.00023\n",
      "Median MSE: 1.5e-05\n"
     ]
    }
   ],
   "source": [
    "from IPython.display import clear_output\n",
    "from torch.nn import functional as F\n",
    "\n",
    "from ex_color.vis import plot_colors, plot_cube_series\n",
    "\n",
    "\n",
    "interventions = []\n",
    "y_hsv = await infer(model_unit, x_hsv)\n",
    "hd_y_hsv = await infer(model_unit, hd_x_hsv)\n",
    "clear_output()\n",
    "\n",
    "with displayer_mpl(\n",
    "    f'large-assets/ex-{nbid}-pred-colors-no-intervention-unit.png',\n",
    "    alt_text=\"\"\"Plot showing four slices of the HSV cube, titled \"{title}\". Nominally, each slice has constant saturation, but varies in value (brightness) from top to bottom, and in hue from left to right. Each color value is represented as a square patch of that color. The outer portion of the patches shows the color as reconstructed by the model; the inner portion shows the true (input) color. The reconstructed and true colors agree fairly well, but some slight differences are visible; for example, \"white\" is slightly gray, and many of the fully-saturated colors are less saturated than they should be.\"\"\",\n",
    ") as show:\n",
    "    show(\n",
    "        lambda: plot_colors(\n",
    "            hsv_cube,\n",
    "            title='Predicted colors · no intervention · no subspace',\n",
    "            colors=y_hsv.numpy(),\n",
    "            colors_compare=x_hsv.numpy(),\n",
    "        )\n",
    "    )\n",
    "\n",
    "per_color_loss = F.mse_loss(hd_y_hsv, hd_x_hsv, reduction='none').mean(dim=-1)\n",
    "loss_cube = hd_hsv_cube.assign('MSE', per_color_loss.numpy().reshape(hd_hsv_cube.shape))\n",
    "max_loss = per_color_loss.max().item()\n",
    "median_loss = per_color_loss.median().item()\n",
    "\n",
    "with displayer_mpl(\n",
    "    f'large-assets/ex-{nbid}-loss-colors-no-intervention-unit.png',\n",
    "    alt_text=f\"\"\"Line chart showing loss per color, titled \"{{title}}\". Y-axis: mean square error, ranging from zero to {max_loss:.2g}. X-axis: hue. The range of loss values is small, but there are two notable peaks at red, yellow, green, and cyan. Between those points the lines are wavy, reminiscent of an audio waveform.\"\"\",\n",
    ") as show:\n",
    "    show(\n",
    "        lambda: plot_cube_series(\n",
    "            loss_cube.permute('hsv')[:, -1:, :: (loss_cube.shape[2] // -5)],\n",
    "            loss_cube.permute('svh')[:, -1:, :: -(loss_cube.shape[0] // -3)],\n",
    "            loss_cube.permute('vsh')[:, -1:, :: -(loss_cube.shape[0] // -3)],\n",
    "            title='Reconstruction error · no intervention · no subspace',\n",
    "            var='MSE',\n",
    "            figsize=(12, 3),\n",
    "        )\n",
    "    )\n",
    "print(f'Max loss: {max_loss:.2g}')\n",
    "print(f'Median MSE: {median_loss:.2g}')"
   ]
  },
  {
   "cell_type": "markdown",
   "id": "6456fd4b",
   "metadata": {},
   "source": [
    "Reconstruction loss looks about as good as last time."
   ]
  },
  {
   "cell_type": "code",
   "execution_count": 11,
   "id": "41643004",
   "metadata": {},
   "outputs": [],
   "source": [
    "# # Generate a list of dimensions to visualize\n",
    "# from itertools import combinations\n",
    "# [\n",
    "#     (\n",
    "#         b,\n",
    "#         a,\n",
    "#         (a + 1) % 5 if (a + 1) % 5 not in (a, b) else (a + 2) % 5,\n",
    "#     )\n",
    "#     for a, b in combinations((0, 1, 2, 3, 4), 2)\n",
    "# ]"
   ]
  },
  {
   "cell_type": "code",
   "execution_count": 12,
   "id": "4b4aa8a9",
   "metadata": {},
   "outputs": [
    {
     "data": {
      "text/html": [
       "<picture>\n",
       "  <source srcset=\"large-assets/ex-2.10-latents-no-intervention-unit.dark.png?v=MtZo9V2sbrHcL3pgITh-sAruLh6hnstLZmF2QagBPQQ\" media=\"(prefers-color-scheme: dark)\" />\n",
       "  <source srcset=\"large-assets/ex-2.10-latents-no-intervention-unit.png?v=MtZo9V2sbrHcL3pgITh-sAruLh6hnstLZmF2QagBPQQ\" media=\"(prefers-color-scheme: light)\" />\n",
       "  <img src=\"large-assets/ex-2.10-latents-no-intervention-unit.png?v=MtZo9V2sbrHcL3pgITh-sAruLh6hnstLZmF2QagBPQQ\" alt=\"Two rows of three spherical plots, titled &quot;Latents · no intervention · no subspace&quot;. Each plot shows a vibrant collection of colored circles or balls scattered over the surface of a sphere. On the top row, the first plot shows a thick curve — like a tongue seen from the side — touching the top and right side of the sphere and passing through the middle. It is red at the top, purple and blue in the middle, and cyan on the right. The sphere is empty elsewhere. The other plots in the top row show different views of the same space, all with red at the top but a different horizontal axis. They look much more dome-shaped. The second row shows still more views, focused on the other dimensions. These are more spherical and almost look like color wheels, but with the colors out of order.\" />\n",
       "</picture>"
      ],
      "text/plain": [
       "Two rows of three spherical plots, titled \"Latents · no intervention · no subspace\". Each plot shows a vibrant collection of colored circles or balls scattered over the surface of a sphere. On the top row, the first plot shows a thick curve — like a tongue seen from the side — touching the top and right side of the sphere and passing through the middle. It is red at the top, purple and blue in the middle, and cyan on the right. The sphere is empty elsewhere. The other plots in the top row show different views of the same space, all with red at the top but a different horizontal axis. They look much more dome-shaped. The second row shows still more views, focused on the other dimensions. These are more spherical and almost look like color wheels, but with the colors out of order."
      ]
     },
     "metadata": {},
     "output_type": "display_data"
    }
   ],
   "source": [
    "from IPython.display import clear_output\n",
    "\n",
    "from ex_color.vis import plot_latent_grid_3d\n",
    "\n",
    "y_rgb, h_rgb = await infer_with_latent_capture(model_unit, x_rgb, 'bottleneck')\n",
    "clear_output()\n",
    "\n",
    "with displayer_mpl(\n",
    "    f'large-assets/ex-{nbid}-latents-no-intervention-unit.png',\n",
    "    alt_text=\"\"\"Two rows of three spherical plots, titled \"{title}\". Each plot shows a vibrant collection of colored circles or balls scattered over the surface of a sphere. On the top row, the first plot shows a thick curve — like a tongue seen from the side — touching the top and right side of the sphere and passing through the middle. It is red at the top, purple and blue in the middle, and cyan on the right. The sphere is empty elsewhere. The other plots in the top row show different views of the same space, all with red at the top but a different horizontal axis. They look much more dome-shaped. The second row shows still more views, focused on the other dimensions. These are more spherical and almost look like color wheels, but with the colors out of order.\"\"\",\n",
    ") as show:\n",
    "    show(\n",
    "        lambda theme: plot_latent_grid_3d(\n",
    "            h_rgb,\n",
    "            y_rgb,\n",
    "            x_rgb,\n",
    "            title='Latents · no intervention · no subspace',\n",
    "            dims=[\n",
    "                (1, 0, 2),\n",
    "                (2, 0, 1),\n",
    "                (3, 0, 1),\n",
    "                # (4, 0, 1),\n",
    "                # (2, 1, 3),\n",
    "                # (3, 1, 2),\n",
    "                (4, 1, 2),\n",
    "                (3, 2, 4),\n",
    "                # (4, 2, 3),\n",
    "                (4, 3, 0),\n",
    "            ],\n",
    "            dot_radius=10,\n",
    "            theme=theme,\n",
    "        )\n",
    "    )"
   ]
  },
  {
   "cell_type": "markdown",
   "id": "7cc54bc3",
   "metadata": {},
   "source": [
    "Latent space looks suprisingly good: the area opposing red is clear, and there's a pronounced collection of reds near the anchor point."
   ]
  },
  {
   "cell_type": "markdown",
   "id": "d8b4f1dc",
   "metadata": {},
   "source": [
    "### Ablation"
   ]
  },
  {
   "cell_type": "code",
   "execution_count": 13,
   "id": "4b8cecb3",
   "metadata": {},
   "outputs": [
    {
     "data": {
      "text/html": [
       "<picture>\n",
       "  <source srcset=\"large-assets/ex-2.10-pred-colors-ablated-unit.dark.png?v=MRULG3GdfhVXh_M6NeXHNFjbPnJl_p55T7FZnqxg1mA\" media=\"(prefers-color-scheme: dark)\" />\n",
       "  <source srcset=\"large-assets/ex-2.10-pred-colors-ablated-unit.png?v=MRULG3GdfhVXh_M6NeXHNFjbPnJl_p55T7FZnqxg1mA\" media=\"(prefers-color-scheme: light)\" />\n",
       "  <img src=\"large-assets/ex-2.10-pred-colors-ablated-unit.png?v=MRULG3GdfhVXh_M6NeXHNFjbPnJl_p55T7FZnqxg1mA\" alt=\"Plot showing four slices of the HSV cube, titled &quot;Predicted colors · ablated · no subspace · V vs H by S&quot;. Nominally, each slice has constant saturation, but varies in value (brightness) from top to bottom, and in hue from left to right. Each color value is represented as a square patch of that color. The outer portion of the patches shows the color as reconstructed by the model; the inner portion shows the true (input) color. The reconstructed and true colors agree fairly well up to yellow and purple, but disagree significantly near red. Desaturated colors and grays are almost unchanged.\" />\n",
       "</picture>"
      ],
      "text/plain": [
       "Plot showing four slices of the HSV cube, titled \"Predicted colors · ablated · no subspace · V vs H by S\". Nominally, each slice has constant saturation, but varies in value (brightness) from top to bottom, and in hue from left to right. Each color value is represented as a square patch of that color. The outer portion of the patches shows the color as reconstructed by the model; the inner portion shows the true (input) color. The reconstructed and true colors agree fairly well up to yellow and purple, but disagree significantly near red. Desaturated colors and grays are almost unchanged."
      ]
     },
     "metadata": {},
     "output_type": "display_data"
    },
    {
     "data": {
      "text/html": [
       "<picture>\n",
       "  <source srcset=\"large-assets/ex-2.10-loss-colors-ablated-unit.dark.png?v=qV-2ZhA1SI8EfkFoqIDnMOhkdlKf0tdYMmJ_RuBFcmw\" media=\"(prefers-color-scheme: dark)\" />\n",
       "  <source srcset=\"large-assets/ex-2.10-loss-colors-ablated-unit.png?v=qV-2ZhA1SI8EfkFoqIDnMOhkdlKf0tdYMmJ_RuBFcmw\" media=\"(prefers-color-scheme: light)\" />\n",
       "  <img src=\"large-assets/ex-2.10-loss-colors-ablated-unit.png?v=qV-2ZhA1SI8EfkFoqIDnMOhkdlKf0tdYMmJ_RuBFcmw\" alt=\"Line chart showing loss per color, titled &quot;Reconstruction error · ablated · no subspace&quot;. Y-axis: mean square error, ranging from zero to 0.36. X-axis: hue. There is very low error at yellow-green, green, cyan, blue, and purple; high error at red, and moderate error at yellow and magenta. Saturation and value show low error at white and black, with error levels gradually increasing toward vibrant red. The curves are fairly smooth, but show a high-frequency dip very close to red. In fact red-orange has higher error than pure red.\" />\n",
       "</picture>"
      ],
      "text/plain": [
       "Line chart showing loss per color, titled \"Reconstruction error · ablated · no subspace\". Y-axis: mean square error, ranging from zero to 0.36. X-axis: hue. There is very low error at yellow-green, green, cyan, blue, and purple; high error at red, and moderate error at yellow and magenta. Saturation and value show low error at white and black, with error levels gradually increasing toward vibrant red. The curves are fairly smooth, but show a high-frequency dip very close to red. In fact red-orange has higher error than pure red."
      ]
     },
     "metadata": {},
     "output_type": "display_data"
    },
    {
     "name": "stdout",
     "output_type": "stream",
     "text": [
      "Max loss: 0.36\n",
      "Median MSE: 0.00043\n"
     ]
    }
   ],
   "source": [
    "from ex_color.surgery import ablate\n",
    "\n",
    "ablated_model = ablate(model_unit, 'bottleneck', [0])\n",
    "\n",
    "y_hsv = await infer(ablated_model, x_hsv)\n",
    "hd_y_hsv = await infer(ablated_model, hd_x_hsv)\n",
    "clear_output()\n",
    "\n",
    "with displayer_mpl(\n",
    "    f'large-assets/ex-{nbid}-pred-colors-ablated-unit.png',\n",
    "    alt_text=\"\"\"Plot showing four slices of the HSV cube, titled \"{title}\". Nominally, each slice has constant saturation, but varies in value (brightness) from top to bottom, and in hue from left to right. Each color value is represented as a square patch of that color. The outer portion of the patches shows the color as reconstructed by the model; the inner portion shows the true (input) color. The reconstructed and true colors agree fairly well up to yellow and purple, but disagree significantly near red. Desaturated colors and grays are almost unchanged.\"\"\",\n",
    ") as show:\n",
    "    show(\n",
    "        lambda: plot_colors(\n",
    "            hsv_cube,\n",
    "            title='Predicted colors · ablated · no subspace',\n",
    "            colors=y_hsv.numpy(),\n",
    "            colors_compare=x_hsv.numpy(),\n",
    "        )\n",
    "    )\n",
    "\n",
    "per_color_loss = F.mse_loss(hd_y_hsv, hd_x_hsv, reduction='none').mean(dim=-1)\n",
    "loss_cube = hd_hsv_cube.assign('MSE', per_color_loss.numpy().reshape(hd_hsv_cube.shape))\n",
    "max_loss = per_color_loss.max().item()\n",
    "median_loss = per_color_loss.median().item()\n",
    "with displayer_mpl(\n",
    "    f'large-assets/ex-{nbid}-loss-colors-ablated-unit.png',\n",
    "    alt_text=f\"\"\"Line chart showing loss per color, titled \"{{title}}\". Y-axis: mean square error, ranging from zero to {max_loss:.2g}. X-axis: hue. There is very low error at yellow-green, green, cyan, blue, and purple; high error at red, and moderate error at yellow and magenta. Saturation and value show low error at white and black, with error levels gradually increasing toward vibrant red. The curves are fairly smooth, but show a high-frequency dip very close to red. In fact red-orange has higher error than pure red.\"\"\",\n",
    ") as show:\n",
    "    show(\n",
    "        lambda: plot_cube_series(\n",
    "            loss_cube.permute('hsv')[:, -1:, :: (loss_cube.shape[2] // -5)],\n",
    "            loss_cube.permute('svh')[:, -1:, :: -(loss_cube.shape[0] // -6)],\n",
    "            loss_cube.permute('vsh')[:, -1:, :: -(loss_cube.shape[0] // -6)],\n",
    "            title='Reconstruction error · ablated · no subspace',\n",
    "            var='MSE',\n",
    "            figsize=(12, 3),\n",
    "        )\n",
    "    )\n",
    "print(f'Max loss: {max_loss:.2g}')\n",
    "print(f'Median MSE: {median_loss:.2g}')"
   ]
  },
  {
   "cell_type": "markdown",
   "id": "6975aef1",
   "metadata": {},
   "source": [
    "Red has certainly been ablated, but cyan has been somewhat perturbed, especially the darker shades. The effect is very visible in the cube slices (top). Surprisingly, the loss curves are pretty low (but clearly non-zero) at green, cyan, and blue. I would have expected them to be higher, given how obviously perturbed the reconstructed colors are to the eye.\n",
    "\n",
    "These results are clearly worse than [Ex 2.9](ex-2.9-delete-only-red-5d.ipynb) — so removing the subspace constraint seems to have harmed the model."
   ]
  },
  {
   "cell_type": "code",
   "execution_count": 14,
   "id": "9ec409f4",
   "metadata": {},
   "outputs": [
    {
     "data": {
      "text/html": [
       "<picture>\n",
       "  <source srcset=\"large-assets/ex-2.10-latents-ablated-unit.dark.png?v=DxgicotjbtiIE7rC2wh58BkVkhSrKkh8WOiwBMKgh-E\" media=\"(prefers-color-scheme: dark)\" />\n",
       "  <source srcset=\"large-assets/ex-2.10-latents-ablated-unit.png?v=DxgicotjbtiIE7rC2wh58BkVkhSrKkh8WOiwBMKgh-E\" media=\"(prefers-color-scheme: light)\" />\n",
       "  <img src=\"large-assets/ex-2.10-latents-ablated-unit.png?v=DxgicotjbtiIE7rC2wh58BkVkhSrKkh8WOiwBMKgh-E\" alt=\"Two rows of three spherical plots, titled &quot;Latents · ablated · no subspace&quot;. Each plot shows a vibrant collection of colored circles or balls scattered over the surface of a sphere. The vertical axis of each plot in the top row is the first dimension of latent space. The plots in the top row all have a line across the equator varying between purple, blue, green, and white. The bottom row shows similar colors, but with more of a ball-like appearance. Each circle has a point in the middle showing the true color of the sample; the bottom row shows that many of the warmer colors have been shifted to purple or black.\" />\n",
       "</picture>"
      ],
      "text/plain": [
       "Two rows of three spherical plots, titled \"Latents · ablated · no subspace\". Each plot shows a vibrant collection of colored circles or balls scattered over the surface of a sphere. The vertical axis of each plot in the top row is the first dimension of latent space. The plots in the top row all have a line across the equator varying between purple, blue, green, and white. The bottom row shows similar colors, but with more of a ball-like appearance. Each circle has a point in the middle showing the true color of the sample; the bottom row shows that many of the warmer colors have been shifted to purple or black."
      ]
     },
     "metadata": {},
     "output_type": "display_data"
    }
   ],
   "source": [
    "from IPython.display import clear_output\n",
    "\n",
    "from ex_color.vis import plot_latent_grid_3d\n",
    "\n",
    "y_rgb, h_rgb = await infer_with_latent_capture(ablated_model, x_rgb, 'bottleneck')\n",
    "clear_output()\n",
    "\n",
    "with displayer_mpl(\n",
    "    f'large-assets/ex-{nbid}-latents-ablated-unit.png',\n",
    "    alt_text=\"\"\"Two rows of three spherical plots, titled \"{title}\". Each plot shows a vibrant collection of colored circles or balls scattered over the surface of a sphere. The vertical axis of each plot in the top row is the first dimension of latent space. The plots in the top row all have a line across the equator varying between purple, blue, green, and white. The bottom row shows similar colors, but with more of a ball-like appearance. Each circle has a point in the middle showing the true color of the sample; the bottom row shows that many of the warmer colors have been shifted to purple or black.\"\"\",\n",
    ") as show:\n",
    "    show(\n",
    "        lambda theme: plot_latent_grid_3d(\n",
    "            h_rgb,\n",
    "            y_rgb,\n",
    "            x_rgb,\n",
    "            title='Latents · ablated · no subspace',\n",
    "            dims=[\n",
    "                (1, 0, 2),\n",
    "                (2, 0, 1),\n",
    "                (3, 0, 1),\n",
    "                # (4, 0, 1),\n",
    "                # (2, 1, 3),\n",
    "                # (3, 1, 2),\n",
    "                (4, 1, 2),\n",
    "                (3, 2, 4),\n",
    "                # (4, 2, 3),\n",
    "                (4, 3, 0),\n",
    "            ],\n",
    "            dot_radius=10,\n",
    "            theme=theme,\n",
    "        )\n",
    "    )"
   ]
  },
  {
   "cell_type": "markdown",
   "id": "ef6e2649",
   "metadata": {},
   "source": [
    "## No subspace, no unitarity"
   ]
  },
  {
   "cell_type": "code",
   "execution_count": 15,
   "id": "68d49db6",
   "metadata": {},
   "outputs": [
    {
     "name": "stdout",
     "output_type": "stream",
     "text": [
      "I 122.4 no.2.10:Training with: ['reg-anchor', 'reg-separate', 'reg-anti-anchor']\n"
     ]
    },
    {
     "name": "stderr",
     "output_type": "stream",
     "text": [
      "INFO: Seed set to 0\n"
     ]
    },
    {
     "name": "stdout",
     "output_type": "stream",
     "text": [
      "I 122.4 li.fa.ut.se:Seed set to 0\n",
      "I 122.4 ex.se: PyTorch set to deterministic mode\n"
     ]
    },
    {
     "name": "stderr",
     "output_type": "stream",
     "text": [
      "INFO: GPU available: False, used: False\n"
     ]
    },
    {
     "name": "stdout",
     "output_type": "stream",
     "text": [
      "I 122.4 li.py.ut.ra:GPU available: False, used: False\n"
     ]
    },
    {
     "name": "stderr",
     "output_type": "stream",
     "text": [
      "INFO: TPU available: False, using: 0 TPU cores\n"
     ]
    },
    {
     "name": "stdout",
     "output_type": "stream",
     "text": [
      "I 122.4 li.py.ut.ra:TPU available: False, using: 0 TPU cores\n"
     ]
    },
    {
     "name": "stderr",
     "output_type": "stream",
     "text": [
      "INFO: HPU available: False, using: 0 HPUs\n"
     ]
    },
    {
     "name": "stdout",
     "output_type": "stream",
     "text": [
      "I 122.4 li.py.ut.ra:HPU available: False, using: 0 HPUs\n",
      "max_steps: 3001, hsv_loader length: 57\n"
     ]
    },
    {
     "data": {
      "text/html": [
       "creating run (0.8s)"
      ],
      "text/plain": [
       "<IPython.core.display.HTML object>"
      ]
     },
     "metadata": {},
     "output_type": "display_data"
    },
    {
     "data": {
      "text/html": [
       "Tracking run with wandb version 0.21.0"
      ],
      "text/plain": [
       "<IPython.core.display.HTML object>"
      ]
     },
     "metadata": {},
     "output_type": "display_data"
    },
    {
     "data": {
      "text/html": [
       "Run data is saved locally in <code>./wandb/run-20250912_054006-9laghiq9</code>"
      ],
      "text/plain": [
       "<IPython.core.display.HTML object>"
      ]
     },
     "metadata": {},
     "output_type": "display_data"
    },
    {
     "data": {
      "text/html": [
       "Syncing run <strong><a href='https://wandb.ai/z0r/ex-color-transformer/runs/9laghiq9' target=\"_blank\">Ex 2.10: Ablate red (only), 5D, fewer regularizers</a></strong> to <a href='https://wandb.ai/z0r/ex-color-transformer' target=\"_blank\">Weights & Biases</a> (<a href='https://wandb.me/developer-guide' target=\"_blank\">docs</a>)<br>"
      ],
      "text/plain": [
       "<IPython.core.display.HTML object>"
      ]
     },
     "metadata": {},
     "output_type": "display_data"
    },
    {
     "data": {
      "text/html": [
       " View project at <a href='https://wandb.ai/z0r/ex-color-transformer' target=\"_blank\">https://wandb.ai/z0r/ex-color-transformer</a>"
      ],
      "text/plain": [
       "<IPython.core.display.HTML object>"
      ]
     },
     "metadata": {},
     "output_type": "display_data"
    },
    {
     "data": {
      "text/html": [
       " View run at <a href='https://wandb.ai/z0r/ex-color-transformer/runs/9laghiq9' target=\"_blank\">https://wandb.ai/z0r/ex-color-transformer/runs/9laghiq9</a>"
      ],
      "text/plain": [
       "<IPython.core.display.HTML object>"
      ]
     },
     "metadata": {},
     "output_type": "display_data"
    },
    {
     "data": {
      "text/html": [
       "<div style=\"width: 100%; padding: 5px 0; font-family: monospace\">\n",
       "  <div style=\"position: relative; height: calc(1em * 5/3); width: 100%; margin-bottom: 2em\">\n",
       "    <div style=\"position: absolute; top: 100%; height: 3.5px; left: 0; width: 100%; background: linear-gradient(to right, var(--h1) 0.0%, var(--h0) 2.0%, var(--h0) 4.1%, var(--h0) 6.1%, var(--h0) 8.2%, var(--h0) 10.2%, var(--h0) 12.2%, var(--h0) 14.3%, var(--h0) 16.3%, var(--h0) 18.4%, var(--h0) 20.4%, var(--h0) 22.4%, var(--h0) 24.5%, var(--h0) 26.5%, var(--h0) 28.6%, var(--h0) 30.6%, var(--h0) 32.7%, var(--h0) 34.7%, var(--h1) 36.7%, var(--h0) 38.8%, var(--h0) 40.8%, var(--h0) 42.9%, var(--h0) 44.9%, var(--h0) 46.9%, var(--h0) 49.0%, var(--h0) 51.0%, var(--h0) 53.1%, var(--h0) 55.1%, var(--h0) 57.1%, var(--h0) 59.2%, var(--h0) 61.2%, var(--h0) 63.3%, var(--h0) 65.3%, var(--h0) 67.3%, var(--h0) 69.4%, var(--h0) 71.4%, var(--h0) 73.5%, var(--h1) 75.5%, var(--h0) 77.6%, var(--h0) 79.6%, var(--h0) 81.6%, var(--h0) 83.7%, var(--h0) 85.7%, var(--h0) 87.8%, var(--h0) 89.8%, var(--h0) 91.8%, var(--h0) 93.9%, var(--h0) 95.9%, var(--h0) 98.0%, var(--h1) 100.0%);--h0:color(from currentColor srgb r g b / 0.11);--h1:color(from currentColor srgb r g b / 0.44)\"></div>\n",
       "    <div style=\"position: absolute; top: 100%; font-size: 70%; padding: 3px 2px 0; left: 1.9%; border-left: 0.5px solid currentColor\">0.0071</div>\n",
       "    <div style=\"position: absolute; top: 100%; font-size: 70%; padding: 3px 2px 0; left: 13.3%; border-left: 0.5px solid currentColor\">0.0024</div>\n",
       "    <div style=\"position: absolute; top: 100%; font-size: 70%; padding: 3px 2px 0; left: 24.7%; border-left: 0.5px solid currentColor\">0.0042</div>\n",
       "    <div style=\"position: absolute; top: 100%; font-size: 70%; padding: 3px 2px 0; left: 36.1%; border-left: 0.5px solid currentColor\">0.0004</div>\n",
       "    <div style=\"position: absolute; top: 100%; font-size: 70%; padding: 3px 2px 0; left: 47.5%; border-left: 0.5px solid currentColor\">0.0012</div>\n",
       "    <div style=\"position: absolute; top: 100%; font-size: 70%; padding: 3px 2px 0; left: 58.8%; border-left: 0.5px solid currentColor\">0.0008</div>\n",
       "    <div style=\"position: absolute; top: 100%; font-size: 70%; padding: 3px 2px 0; left: 70.2%; border-left: 0.5px solid currentColor\">0.0005</div>\n",
       "    <div style=\"position: absolute; top: 100%; font-size: 70%; padding: 3px 2px 0; left: 81.6%; border-left: 0.5px solid currentColor\">0.0001</div>\n",
       "    <div style=\"position: absolute; top: 100%; font-size: 70%; padding: 3px 2px 0; right: 0.0%; border-right: 0.5px solid currentColor\">0.0000</div>\n",
       "    <div style=\"position: absolute; bottom: -4px; left: calc(100.0% - 4px)\">\n",
       "      <div style=\"border-left: 4px solid transparent; border-right: 4px solid transparent; border-bottom: 4px solid currentColor\"></div>\n",
       "    </div>\n",
       "    <div style=\"position: absolute; height: 100%; width: 100.0%; background-color: color(from currentColor srgb r g b / 0.1); border-bottom: 1px solid currentColor\"></div>\n",
       "    <div style=\"position: absolute; width: 100%; height: 100%; text-align: center; line-height: calc((1em * 5/3) / 0.9); font-size: 90%; white-space: nowrap; overflow: hidden; text-overflow: ellipsis; border-bottom: 1px dashed color(from currentColor srgb r g b / 0.5)\"><b>Training</b>: 100.0% [3001/3001] [<b>00:17</b>/<00:00, 173.60 it/s]</div>\n",
       "  </div>\n",
       "  <div style=\"display: grid; grid-template-columns: repeat(2, minmax(80px, 1fr)); gap: 5px 0px; width: 100%; margin: 1em 0; font-size: 0.85em\">\n",
       "    <div style=\"font-weight: bold; border-bottom: 0.5px solid currentColor; padding: 2px 10px; text-align: left; overflow: hidden; text-overflow: ellipsis; white-space: nowrap\">v_num</div>\n",
       "    <div style=\"font-weight: bold; border-bottom: 0.5px solid currentColor; padding: 2px 10px; text-align: left; overflow: hidden; text-overflow: ellipsis; white-space: nowrap\">train_loss</div>\n",
       "    <div style=\"padding: 2px 10px; text-align: left; overflow: hidden; text-overflow: ellipsis; white-space: nowrap\">hiq9</div>\n",
       "    <div style=\"padding: 2px 10px; text-align: left; overflow: hidden; text-overflow: ellipsis; white-space: nowrap\">2.496e-05</div>\n",
       "  </div>\n",
       "</div>"
      ],
      "text/plain": [
       "Training: 100.0% [3001/3001]"
      ]
     },
     "metadata": {},
     "output_type": "display_data"
    },
    {
     "name": "stdout",
     "output_type": "stream",
     "text": [
      "Starting phase: Train\n"
     ]
    },
    {
     "name": "stderr",
     "output_type": "stream",
     "text": [
      "INFO: `Trainer.fit` stopped: `max_steps=3001` reached.\n"
     ]
    },
    {
     "name": "stdout",
     "output_type": "stream",
     "text": [
      "I 141.5 li.py.ut.ra:`Trainer.fit` stopped: `max_steps=3001` reached.\n"
     ]
    },
    {
     "data": {
      "text/html": [],
      "text/plain": [
       "<IPython.core.display.HTML object>"
      ]
     },
     "metadata": {},
     "output_type": "display_data"
    },
    {
     "data": {
      "text/html": [
       "<br>    <style><br>        .wandb-row {<br>            display: flex;<br>            flex-direction: row;<br>            flex-wrap: wrap;<br>            justify-content: flex-start;<br>            width: 100%;<br>        }<br>        .wandb-col {<br>            display: flex;<br>            flex-direction: column;<br>            flex-basis: 100%;<br>            flex: 1;<br>            padding: 10px;<br>        }<br>    </style><br><div class=\"wandb-row\"><div class=\"wandb-col\"><h3>Run history:</h3><br/><table class=\"wandb\"><tr><td>epoch</td><td>▁▁▁▁▂▂▂▂▂▂▃▃▃▃▃▄▄▄▄▄▄▅▅▅▅▅▆▆▆▆▆▆▆▆▇▇▇▇██</td></tr><tr><td>train_loss</td><td>█▆▅▃▃▃▂▄▅▂▃▃▃▂▃▃▂▄▂▂▂▂▂▂▂▂▁▁▁▁▁▁▁▁▁▁▁▁▁▁</td></tr><tr><td>train_recon</td><td>█▃▂▂▂▂▂▃▄▅▂▂▂▂▂▃▄▂▃▂▂▂▁▁▁▁▁▁▁▁▁▁▁▁▁▁▁▁▁▁</td></tr><tr><td>train_reg-anchor</td><td>▁▁▁▁▁▁▁▁▁▁▁█▁▁▁▁▁▁▁▁▁▁▁▁▁▁▁▁▁▁▂▂▁▁▂▁▁▁▁▁</td></tr><tr><td>train_reg-anti-anchor</td><td>▁▁▁▁▁▅▅▃▄▄█▄▄▁▁▂▁▁▁▁▁▁▁▁▁▁▁▁▁▁▁▁▁▁▁▁▁▁▁▁</td></tr><tr><td>train_reg-separate</td><td>██▆▄▃▃▂▃▄▃▂▂▂▃▂▂▂▂▁▂▂▁▂▁▂▁▂▁▁▁▁▁▁▁▁▂▁▂▂▁</td></tr><tr><td>trainer/global_step</td><td>▁▁▁▁▂▂▂▂▂▂▃▃▃▃▃▃▄▄▄▄▅▅▅▅▅▅▆▆▆▆▆▆▇▇▇▇████</td></tr></table><br/></div><div class=\"wandb-col\"><h3>Run summary:</h3><br/><table class=\"wandb\"><tr><td>epoch</td><td>52</td></tr><tr><td>train_loss</td><td>5e-05</td></tr><tr><td>train_recon</td><td>5e-05</td></tr><tr><td>train_reg-anchor</td><td>0</td></tr><tr><td>train_reg-anti-anchor</td><td>0.0017</td></tr><tr><td>train_reg-separate</td><td>0.0947</td></tr><tr><td>trainer/global_step</td><td>2999</td></tr></table><br/></div></div>"
      ],
      "text/plain": [
       "<IPython.core.display.HTML object>"
      ]
     },
     "metadata": {},
     "output_type": "display_data"
    },
    {
     "data": {
      "text/html": [
       " View run <strong style=\"color:#cdcd00\">Ex 2.10: Ablate red (only), 5D, fewer regularizers</strong> at: <a href='https://wandb.ai/z0r/ex-color-transformer/runs/9laghiq9' target=\"_blank\">https://wandb.ai/z0r/ex-color-transformer/runs/9laghiq9</a><br> View project at: <a href='https://wandb.ai/z0r/ex-color-transformer' target=\"_blank\">https://wandb.ai/z0r/ex-color-transformer</a><br>Synced 5 W&B file(s), 0 media file(s), 0 artifact file(s) and 0 other file(s)"
      ],
      "text/plain": [
       "<IPython.core.display.HTML object>"
      ]
     },
     "metadata": {},
     "output_type": "display_data"
    },
    {
     "data": {
      "text/html": [
       "Find logs at: <code>./wandb/run-20250912_054006-9laghiq9/logs</code>"
      ],
      "text/plain": [
       "<IPython.core.display.HTML object>"
      ]
     },
     "metadata": {},
     "output_type": "display_data"
    }
   ],
   "source": [
    "async with run():\n",
    "    model_no_unit = await train(\n",
    "        Dopesheet.from_csv(f'./ex-{nbid}-dopesheet.csv'),\n",
    "        [r for r in ALL_REGULARIZERS if not isinstance(r.compute_loss_term, Unitarity)],\n",
    "        K,\n",
    "    )"
   ]
  },
  {
   "cell_type": "code",
   "execution_count": 16,
   "id": "af153b19",
   "metadata": {},
   "outputs": [
    {
     "data": {
      "text/html": [
       "<picture>\n",
       "  <source srcset=\"large-assets/ex-2.10-pred-colors-no-intervention-no-unit.dark.png?v=swjk25dOGxfKm4X1YPIAFMo2T_NYRIn4_df9RrMeJWQ\" media=\"(prefers-color-scheme: dark)\" />\n",
       "  <source srcset=\"large-assets/ex-2.10-pred-colors-no-intervention-no-unit.png?v=swjk25dOGxfKm4X1YPIAFMo2T_NYRIn4_df9RrMeJWQ\" media=\"(prefers-color-scheme: light)\" />\n",
       "  <img src=\"large-assets/ex-2.10-pred-colors-no-intervention-no-unit.png?v=swjk25dOGxfKm4X1YPIAFMo2T_NYRIn4_df9RrMeJWQ\" alt=\"Plot showing four slices of the HSV cube, titled &quot;Predicted colors · no intervention · no subspace, no unitarity · V vs H by S&quot;. Nominally, each slice has constant saturation, but varies in value (brightness) from top to bottom, and in hue from left to right. Each color value is represented as a square patch of that color. The outer portion of the patches shows the color as reconstructed by the model; the inner portion shows the true (input) color. The reconstructed and true colors agree fairly well, but some slight differences are visible; for example, &quot;white&quot; is slightly gray, and many of the fully-saturated colors are less saturated than they should be.\" />\n",
       "</picture>"
      ],
      "text/plain": [
       "Plot showing four slices of the HSV cube, titled \"Predicted colors · no intervention · no subspace, no unitarity · V vs H by S\". Nominally, each slice has constant saturation, but varies in value (brightness) from top to bottom, and in hue from left to right. Each color value is represented as a square patch of that color. The outer portion of the patches shows the color as reconstructed by the model; the inner portion shows the true (input) color. The reconstructed and true colors agree fairly well, but some slight differences are visible; for example, \"white\" is slightly gray, and many of the fully-saturated colors are less saturated than they should be."
      ]
     },
     "metadata": {},
     "output_type": "display_data"
    },
    {
     "data": {
      "text/html": [
       "<picture>\n",
       "  <source srcset=\"large-assets/ex-2.10-loss-colors-no-intervention-no-unit.dark.png?v=9t-oFXvtQhg0PBSYG14FsPpjOGsvtdiGIJPl2kb_R3Q\" media=\"(prefers-color-scheme: dark)\" />\n",
       "  <source srcset=\"large-assets/ex-2.10-loss-colors-no-intervention-no-unit.png?v=9t-oFXvtQhg0PBSYG14FsPpjOGsvtdiGIJPl2kb_R3Q\" media=\"(prefers-color-scheme: light)\" />\n",
       "  <img src=\"large-assets/ex-2.10-loss-colors-no-intervention-no-unit.png?v=9t-oFXvtQhg0PBSYG14FsPpjOGsvtdiGIJPl2kb_R3Q\" alt=\"Line chart showing loss per color, titled &quot;Reconstruction error · no intervention · no subspace, no unitarity&quot;. Y-axis: mean square error, ranging from zero to 0.00031. X-axis: hue. The range of loss values is small, but there are two notable peaks at red, yellow, green, and cyan. Between those points the lines are wavy, reminiscent of an audio waveform.\" />\n",
       "</picture>"
      ],
      "text/plain": [
       "Line chart showing loss per color, titled \"Reconstruction error · no intervention · no subspace, no unitarity\". Y-axis: mean square error, ranging from zero to 0.00031. X-axis: hue. The range of loss values is small, but there are two notable peaks at red, yellow, green, and cyan. Between those points the lines are wavy, reminiscent of an audio waveform."
      ]
     },
     "metadata": {},
     "output_type": "display_data"
    },
    {
     "name": "stdout",
     "output_type": "stream",
     "text": [
      "Max loss: 0.00031\n",
      "Median MSE: 2.5e-05\n"
     ]
    }
   ],
   "source": [
    "from IPython.display import clear_output\n",
    "from torch.nn import functional as F\n",
    "\n",
    "from ex_color.vis import plot_colors, plot_cube_series\n",
    "\n",
    "\n",
    "interventions = []\n",
    "y_hsv = await infer(model_no_unit, x_hsv)\n",
    "hd_y_hsv = await infer(model_no_unit, hd_x_hsv)\n",
    "clear_output()\n",
    "\n",
    "with displayer_mpl(\n",
    "    f'large-assets/ex-{nbid}-pred-colors-no-intervention-no-unit.png',\n",
    "    alt_text=\"\"\"Plot showing four slices of the HSV cube, titled \"{title}\". Nominally, each slice has constant saturation, but varies in value (brightness) from top to bottom, and in hue from left to right. Each color value is represented as a square patch of that color. The outer portion of the patches shows the color as reconstructed by the model; the inner portion shows the true (input) color. The reconstructed and true colors agree fairly well, but some slight differences are visible; for example, \"white\" is slightly gray, and many of the fully-saturated colors are less saturated than they should be.\"\"\",\n",
    ") as show:\n",
    "    show(\n",
    "        lambda: plot_colors(\n",
    "            hsv_cube,\n",
    "            title='Predicted colors · no intervention · no subspace, no unitarity',\n",
    "            colors=y_hsv.numpy(),\n",
    "            colors_compare=x_hsv.numpy(),\n",
    "        )\n",
    "    )\n",
    "\n",
    "per_color_loss = F.mse_loss(hd_y_hsv, hd_x_hsv, reduction='none').mean(dim=-1)\n",
    "loss_cube = hd_hsv_cube.assign('MSE', per_color_loss.numpy().reshape(hd_hsv_cube.shape))\n",
    "max_loss = per_color_loss.max().item()\n",
    "median_loss = per_color_loss.median().item()\n",
    "\n",
    "with displayer_mpl(\n",
    "    f'large-assets/ex-{nbid}-loss-colors-no-intervention-no-unit.png',\n",
    "    alt_text=f\"\"\"Line chart showing loss per color, titled \"{{title}}\". Y-axis: mean square error, ranging from zero to {max_loss:.2g}. X-axis: hue. The range of loss values is small, but there are two notable peaks at red, yellow, green, and cyan. Between those points the lines are wavy, reminiscent of an audio waveform.\"\"\",\n",
    ") as show:\n",
    "    show(\n",
    "        lambda: plot_cube_series(\n",
    "            loss_cube.permute('hsv')[:, -1:, :: (loss_cube.shape[2] // -5)],\n",
    "            loss_cube.permute('svh')[:, -1:, :: -(loss_cube.shape[0] // -3)],\n",
    "            loss_cube.permute('vsh')[:, -1:, :: -(loss_cube.shape[0] // -3)],\n",
    "            title='Reconstruction error · no intervention · no subspace, no unitarity',\n",
    "            var='MSE',\n",
    "            figsize=(12, 3),\n",
    "        )\n",
    "    )\n",
    "print(f'Max loss: {max_loss:.2g}')\n",
    "print(f'Median MSE: {median_loss:.2g}')"
   ]
  },
  {
   "cell_type": "markdown",
   "id": "4af68820",
   "metadata": {},
   "source": [
    "The reconstruction loss for the model without unitarity is pretty good — roughly on par with the model with no unitarity constraint. That's a bit surprising, because I expected the explicit normalization to not allow enough signal to pass to the encoder. Let's see what latent space looks like."
   ]
  },
  {
   "cell_type": "code",
   "execution_count": 17,
   "id": "f65671ad",
   "metadata": {},
   "outputs": [
    {
     "data": {
      "text/html": [
       "<picture>\n",
       "  <source srcset=\"large-assets/ex-2.10-latents-no-intervention-no-unit.dark.png?v=BwsVLrLux-DmVJQkYZF6BpLb8EFEVDPmcHb5EKZHd-k\" media=\"(prefers-color-scheme: dark)\" />\n",
       "  <source srcset=\"large-assets/ex-2.10-latents-no-intervention-no-unit.png?v=BwsVLrLux-DmVJQkYZF6BpLb8EFEVDPmcHb5EKZHd-k\" media=\"(prefers-color-scheme: light)\" />\n",
       "  <img src=\"large-assets/ex-2.10-latents-no-intervention-no-unit.png?v=BwsVLrLux-DmVJQkYZF6BpLb8EFEVDPmcHb5EKZHd-k\" alt=\"Two rows of three spherical plots, titled &quot;Latents · no intervention · no subspace, no unitarity&quot;. Each plot shows a vibrant collection of colored circles or balls scattered over the surface of a sphere. On the top row, the first plot shows a thick curve — like a tongue seen from the side — touching the top and right side of the sphere and passing through the middle. It is red at the top, purple and blue in the middle, and cyan on the right. The sphere is empty elsewhere. The other plots in the top row show different views of the same space, all with red at the top but a different horizontal axis. They look much more dome-shaped. The second row shows still more views, focused on the other dimensions. These are more spherical and almost look like color wheels, but with the colors out of order.\" />\n",
       "</picture>"
      ],
      "text/plain": [
       "Two rows of three spherical plots, titled \"Latents · no intervention · no subspace, no unitarity\". Each plot shows a vibrant collection of colored circles or balls scattered over the surface of a sphere. On the top row, the first plot shows a thick curve — like a tongue seen from the side — touching the top and right side of the sphere and passing through the middle. It is red at the top, purple and blue in the middle, and cyan on the right. The sphere is empty elsewhere. The other plots in the top row show different views of the same space, all with red at the top but a different horizontal axis. They look much more dome-shaped. The second row shows still more views, focused on the other dimensions. These are more spherical and almost look like color wheels, but with the colors out of order."
      ]
     },
     "metadata": {},
     "output_type": "display_data"
    }
   ],
   "source": [
    "from IPython.display import clear_output\n",
    "\n",
    "from ex_color.vis import plot_latent_grid_3d\n",
    "\n",
    "y_rgb, h_rgb = await infer_with_latent_capture(model_no_unit, x_rgb, 'bottleneck')\n",
    "clear_output()\n",
    "\n",
    "with displayer_mpl(\n",
    "    f'large-assets/ex-{nbid}-latents-no-intervention-no-unit.png',\n",
    "    alt_text=\"\"\"Two rows of three spherical plots, titled \"{title}\". Each plot shows a vibrant collection of colored circles or balls scattered over the surface of a sphere. On the top row, the first plot shows a thick curve — like a tongue seen from the side — touching the top and right side of the sphere and passing through the middle. It is red at the top, purple and blue in the middle, and cyan on the right. The sphere is empty elsewhere. The other plots in the top row show different views of the same space, all with red at the top but a different horizontal axis. They look much more dome-shaped. The second row shows still more views, focused on the other dimensions. These are more spherical and almost look like color wheels, but with the colors out of order.\"\"\",\n",
    ") as show:\n",
    "    show(\n",
    "        lambda theme: plot_latent_grid_3d(\n",
    "            h_rgb,\n",
    "            y_rgb,\n",
    "            x_rgb,\n",
    "            title='Latents · no intervention · no subspace, no unitarity',\n",
    "            dims=[\n",
    "                (1, 0, 2),\n",
    "                (2, 0, 1),\n",
    "                (3, 0, 1),\n",
    "                # (4, 0, 1),\n",
    "                # (2, 1, 3),\n",
    "                # (3, 1, 2),\n",
    "                (4, 1, 2),\n",
    "                (3, 2, 4),\n",
    "                # (4, 2, 3),\n",
    "                (4, 3, 0),\n",
    "            ],\n",
    "            dot_radius=10,\n",
    "            theme=theme,\n",
    "        )\n",
    "    )"
   ]
  },
  {
   "cell_type": "markdown",
   "id": "68adcf20",
   "metadata": {},
   "source": [
    "Huh. Again that's surprisingly good: the spacing of the samples is about as regular as the model _with_ unitarity, and isolation of red colors looks significantly better. This time it has a nearly flat base (along dimension 1)."
   ]
  },
  {
   "cell_type": "markdown",
   "id": "be3b22af",
   "metadata": {},
   "source": [
    "### Ablation"
   ]
  },
  {
   "cell_type": "code",
   "execution_count": 18,
   "id": "ec8fb2d4",
   "metadata": {},
   "outputs": [
    {
     "data": {
      "text/html": [
       "<picture>\n",
       "  <source srcset=\"large-assets/ex-2.10-pred-colors-ablated-no-unit.dark.png?v=jGDuz6LYK1CUGLbO-E2OZV9p1xwj3mN-7sOOKETqWv4\" media=\"(prefers-color-scheme: dark)\" />\n",
       "  <source srcset=\"large-assets/ex-2.10-pred-colors-ablated-no-unit.png?v=jGDuz6LYK1CUGLbO-E2OZV9p1xwj3mN-7sOOKETqWv4\" media=\"(prefers-color-scheme: light)\" />\n",
       "  <img src=\"large-assets/ex-2.10-pred-colors-ablated-no-unit.png?v=jGDuz6LYK1CUGLbO-E2OZV9p1xwj3mN-7sOOKETqWv4\" alt=\"Plot showing four slices of the HSV cube, titled &quot;Predicted colors · ablated · no subspace, no unitarity · V vs H by S&quot;. Nominally, each slice has constant saturation, but varies in value (brightness) from top to bottom, and in hue from left to right. Each color value is represented as a square patch of that color. The outer portion of the patches shows the color as reconstructed by the model; the inner portion shows the true (input) color. The reconstructed and true colors agree fairly well up to yellow and purple, but disagree significantly near red. Desaturated colors and grays are almost unchanged.\" />\n",
       "</picture>"
      ],
      "text/plain": [
       "Plot showing four slices of the HSV cube, titled \"Predicted colors · ablated · no subspace, no unitarity · V vs H by S\". Nominally, each slice has constant saturation, but varies in value (brightness) from top to bottom, and in hue from left to right. Each color value is represented as a square patch of that color. The outer portion of the patches shows the color as reconstructed by the model; the inner portion shows the true (input) color. The reconstructed and true colors agree fairly well up to yellow and purple, but disagree significantly near red. Desaturated colors and grays are almost unchanged."
      ]
     },
     "metadata": {},
     "output_type": "display_data"
    },
    {
     "data": {
      "text/html": [
       "<picture>\n",
       "  <source srcset=\"large-assets/ex-2.10-loss-colors-ablated-no-unit.dark.png?v=DZTnzEDnm7QQgz1-InGj2YN8rMnO92XGuLHhuqwJPsg\" media=\"(prefers-color-scheme: dark)\" />\n",
       "  <source srcset=\"large-assets/ex-2.10-loss-colors-ablated-no-unit.png?v=DZTnzEDnm7QQgz1-InGj2YN8rMnO92XGuLHhuqwJPsg\" media=\"(prefers-color-scheme: light)\" />\n",
       "  <img src=\"large-assets/ex-2.10-loss-colors-ablated-no-unit.png?v=DZTnzEDnm7QQgz1-InGj2YN8rMnO92XGuLHhuqwJPsg\" alt=\"Line chart showing loss per color, titled &quot;Reconstruction error · ablated · no subspace, no unitarity&quot;. Y-axis: mean square error, ranging from zero to 0.39. X-axis: hue. There is very low error at yellow-green, green, cyan, blue, and purple; high error at red, and moderate error at yellow and magenta. Saturation and value show low error at white and black, with error levels gradually increasing toward vibrant red. The curves are fairly smooth, but show a high-frequency dip very close to red. In fact red-orange has higher error than pure red.\" />\n",
       "</picture>"
      ],
      "text/plain": [
       "Line chart showing loss per color, titled \"Reconstruction error · ablated · no subspace, no unitarity\". Y-axis: mean square error, ranging from zero to 0.39. X-axis: hue. There is very low error at yellow-green, green, cyan, blue, and purple; high error at red, and moderate error at yellow and magenta. Saturation and value show low error at white and black, with error levels gradually increasing toward vibrant red. The curves are fairly smooth, but show a high-frequency dip very close to red. In fact red-orange has higher error than pure red."
      ]
     },
     "metadata": {},
     "output_type": "display_data"
    },
    {
     "name": "stdout",
     "output_type": "stream",
     "text": [
      "Max loss: 0.39\n",
      "Median MSE: 6.1e-05\n"
     ]
    }
   ],
   "source": [
    "from ex_color.surgery import ablate\n",
    "\n",
    "ablated_model = ablate(model_no_unit, 'bottleneck', [0])\n",
    "\n",
    "y_hsv = await infer(ablated_model, x_hsv)\n",
    "hd_y_hsv = await infer(ablated_model, hd_x_hsv)\n",
    "clear_output()\n",
    "\n",
    "with displayer_mpl(\n",
    "    f'large-assets/ex-{nbid}-pred-colors-ablated-no-unit.png',\n",
    "    alt_text=\"\"\"Plot showing four slices of the HSV cube, titled \"{title}\". Nominally, each slice has constant saturation, but varies in value (brightness) from top to bottom, and in hue from left to right. Each color value is represented as a square patch of that color. The outer portion of the patches shows the color as reconstructed by the model; the inner portion shows the true (input) color. The reconstructed and true colors agree fairly well up to yellow and purple, but disagree significantly near red. Desaturated colors and grays are almost unchanged.\"\"\",\n",
    ") as show:\n",
    "    show(\n",
    "        lambda: plot_colors(\n",
    "            hsv_cube,\n",
    "            title='Predicted colors · ablated · no subspace, no unitarity',\n",
    "            colors=y_hsv.numpy(),\n",
    "            colors_compare=x_hsv.numpy(),\n",
    "        )\n",
    "    )\n",
    "\n",
    "per_color_loss = F.mse_loss(hd_y_hsv, hd_x_hsv, reduction='none').mean(dim=-1)\n",
    "loss_cube = hd_hsv_cube.assign('MSE', per_color_loss.numpy().reshape(hd_hsv_cube.shape))\n",
    "max_loss = per_color_loss.max().item()\n",
    "median_loss = per_color_loss.median().item()\n",
    "with displayer_mpl(\n",
    "    f'large-assets/ex-{nbid}-loss-colors-ablated-no-unit.png',\n",
    "    alt_text=f\"\"\"Line chart showing loss per color, titled \"{{title}}\". Y-axis: mean square error, ranging from zero to {max_loss:.2g}. X-axis: hue. There is very low error at yellow-green, green, cyan, blue, and purple; high error at red, and moderate error at yellow and magenta. Saturation and value show low error at white and black, with error levels gradually increasing toward vibrant red. The curves are fairly smooth, but show a high-frequency dip very close to red. In fact red-orange has higher error than pure red.\"\"\",\n",
    ") as show:\n",
    "    show(\n",
    "        lambda: plot_cube_series(\n",
    "            loss_cube.permute('hsv')[:, -1:, :: (loss_cube.shape[2] // -5)],\n",
    "            loss_cube.permute('svh')[:, -1:, :: -(loss_cube.shape[0] // -6)],\n",
    "            loss_cube.permute('vsh')[:, -1:, :: -(loss_cube.shape[0] // -6)],\n",
    "            title='Reconstruction error · ablated · no subspace, no unitarity',\n",
    "            var='MSE',\n",
    "            figsize=(12, 3),\n",
    "        )\n",
    "    )\n",
    "print(f'Max loss: {max_loss:.2g}')\n",
    "print(f'Median MSE: {median_loss:.2g}')"
   ]
  },
  {
   "cell_type": "markdown",
   "id": "c10e10dc",
   "metadata": {},
   "source": [
    "Wow OK that's _much_ better. Apart from _yellow_ which has a slightly higher reconstruction loss than in [Ex 2.9](ex-2.9-delete-only-red-5d.ipynb), there's less collateral damage across the board. The median error is particularly low, and the curves near _red_ look less noisy than the results in 2.9."
   ]
  },
  {
   "cell_type": "code",
   "execution_count": 19,
   "id": "aac0acbc",
   "metadata": {},
   "outputs": [
    {
     "data": {
      "text/html": [
       "<picture>\n",
       "  <source srcset=\"large-assets/ex-2.10-latents-ablated-no-unit.dark.png?v=1CjxtZ9y-xZhJ6PQ2Vbq3LZ9Eq3hCL-Aq8OywjCsC7I\" media=\"(prefers-color-scheme: dark)\" />\n",
       "  <source srcset=\"large-assets/ex-2.10-latents-ablated-no-unit.png?v=1CjxtZ9y-xZhJ6PQ2Vbq3LZ9Eq3hCL-Aq8OywjCsC7I\" media=\"(prefers-color-scheme: light)\" />\n",
       "  <img src=\"large-assets/ex-2.10-latents-ablated-no-unit.png?v=1CjxtZ9y-xZhJ6PQ2Vbq3LZ9Eq3hCL-Aq8OywjCsC7I\" alt=\"Two rows of three spherical plots, titled &quot;Latents · ablated · no subspace, no unitarity&quot;. Each plot shows a vibrant collection of colored circles or balls scattered over the surface of a sphere. The vertical axis of each plot in the top row is the first dimension of latent space. The plots in the top row all have a line across the equator varying between purple, blue, green, and white. The bottom row shows similar colors, but with more of a ball-like appearance. Each circle has a point in the middle showing the true color of the sample; the bottom row shows that many of the warmer colors have been shifted to purple or black.\" />\n",
       "</picture>"
      ],
      "text/plain": [
       "Two rows of three spherical plots, titled \"Latents · ablated · no subspace, no unitarity\". Each plot shows a vibrant collection of colored circles or balls scattered over the surface of a sphere. The vertical axis of each plot in the top row is the first dimension of latent space. The plots in the top row all have a line across the equator varying between purple, blue, green, and white. The bottom row shows similar colors, but with more of a ball-like appearance. Each circle has a point in the middle showing the true color of the sample; the bottom row shows that many of the warmer colors have been shifted to purple or black."
      ]
     },
     "metadata": {},
     "output_type": "display_data"
    }
   ],
   "source": [
    "from IPython.display import clear_output\n",
    "\n",
    "from ex_color.vis import plot_latent_grid_3d\n",
    "\n",
    "y_rgb, h_rgb = await infer_with_latent_capture(ablated_model, x_rgb, 'bottleneck')\n",
    "clear_output()\n",
    "\n",
    "with displayer_mpl(\n",
    "    f'large-assets/ex-{nbid}-latents-ablated-no-unit.png',\n",
    "    alt_text=\"\"\"Two rows of three spherical plots, titled \"{title}\". Each plot shows a vibrant collection of colored circles or balls scattered over the surface of a sphere. The vertical axis of each plot in the top row is the first dimension of latent space. The plots in the top row all have a line across the equator varying between purple, blue, green, and white. The bottom row shows similar colors, but with more of a ball-like appearance. Each circle has a point in the middle showing the true color of the sample; the bottom row shows that many of the warmer colors have been shifted to purple or black.\"\"\",\n",
    ") as show:\n",
    "    show(\n",
    "        lambda theme: plot_latent_grid_3d(\n",
    "            h_rgb,\n",
    "            y_rgb,\n",
    "            x_rgb,\n",
    "            title='Latents · ablated · no subspace, no unitarity',\n",
    "            dims=[\n",
    "                (1, 0, 2),\n",
    "                (2, 0, 1),\n",
    "                (3, 0, 1),\n",
    "                # (4, 0, 1),\n",
    "                # (2, 1, 3),\n",
    "                # (3, 1, 2),\n",
    "                (4, 1, 2),\n",
    "                (3, 2, 4),\n",
    "                # (4, 2, 3),\n",
    "                (4, 3, 0),\n",
    "            ],\n",
    "            dot_radius=10,\n",
    "            theme=theme,\n",
    "        )\n",
    "    )"
   ]
  },
  {
   "cell_type": "markdown",
   "id": "bc6e4215",
   "metadata": {},
   "source": [
    "Here we clearly see that the first dimension has been removed from latent space, but it's hard to say what else has happened. I think maybe the space is now so high-dimensional that it's becoming hard to interpret."
   ]
  },
  {
   "cell_type": "markdown",
   "id": "17177769",
   "metadata": {},
   "source": [
    "## Conclusion\n",
    "\n",
    "Hypothesis 1: partially confirmed. Without the subspace regularizer pulling desaturated colors away from the first two dimensions, base reconstruction loss was good, and we were able to ablate _red_. However there was some surprising collateral damage to other colors, particularly dark shades of _green_, _cyan_, and _blue_ (but not to vibrant _cyan_).\n",
    "\n",
    "Hypothesis 2: disconfirmed! Removing the unitarity term didn't harm reconstruction at all, and in fact significantly improved the specificity of the ablation.\n",
    "\n",
    "This makes me want to re-run some of the older experiments to see if unitarity was really needed for the lower-dimensional bottlenecks."
   ]
  }
 ],
 "metadata": {
  "kernelspec": {
   "display_name": "ex-color-transformer",
   "language": "python",
   "name": "python3"
  },
  "language_info": {
   "codemirror_mode": {
    "name": "ipython",
    "version": 3
   },
   "file_extension": ".py",
   "mimetype": "text/x-python",
   "name": "python",
   "nbconvert_exporter": "python",
   "pygments_lexer": "ipython3",
   "version": "3.13.5"
  }
 },
 "nbformat": 4,
 "nbformat_minor": 5
}
