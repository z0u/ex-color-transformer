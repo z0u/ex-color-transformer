{
 "cells": [
  {
   "cell_type": "markdown",
   "metadata": {},
   "source": [
    "# Superposition by embedding bottleneck\n",
    "\n",
    "This is an experiment to squash higher-dimensional data into a lower-dimensional embedding space. We'll start with color: RGB values (3 dimensions) ranging from 0..1. If we compress them into a 2D embedding, we should expect to see superposition, with directions interpretable as they would be in a classic color wheel: three primary color directions (RGB) spaced 120° apart.\n"
   ]
  },
  {
   "cell_type": "markdown",
   "metadata": {},
   "source": [
    "## Training data\n",
    "\n",
    "While we describe colors in terms of hue (the color wheel), saturation (color intensity), and value (brightness), RGB values combine these properties in a non-intuitive way.\n",
    "\n",
    "Primary colors are fully-saturated, and are vectors of length 1:\n",
    "\n",
    "| Color |  R  |  G  |  B  | Length |\n",
    "| ----- | :-: | :-: | :-: | :----: |\n",
    "| red   | $1$ | $0$ | $0$ |  $1$   |\n",
    "| green | $0$ | $1$ | $0$ |  $1$   |\n",
    "| blue  | $1$ | $0$ | $1$ |  $1$   |\n",
    "\n",
    "Secondary colors are also fully-saturated, but have length $\\sqrt2$:\n",
    "\n",
    "| Color   |  R  |  G  |  B  |  Length  |\n",
    "| ------- | :-: | :-: | :-: | :------: |\n",
    "| yellow  | $1$ | $1$ | $0$ | $\\sqrt2$ |\n",
    "| cyan    | $0$ | $1$ | $1$ | $\\sqrt2$ |\n",
    "| magenta | $0$ | $0$ | $1$ | $\\sqrt2$ |\n",
    "\n",
    "Whereas grayscale values are fully _desaturated_ (have no defined hue), and have various lengths:\n",
    "\n",
    "| Color |     R      |     G      |     B      |  Length  |\n",
    "| ----- | :--------: | :--------: | :--------: | :------: |\n",
    "| black |    $0$     |    $0$     |    $0$     |   $0$    |\n",
    "| gray  | $\\sqrt{⅓}$ | $\\sqrt{⅓}$ | $\\sqrt{⅓}$ |   $1$    |\n",
    "| white |    $1$     |    $1$     |    $1$     | $\\sqrt3$ |\n",
    "\n",
    "We could pick random RGB values, but even if the vectors were normalized, we wouldn't necessarily get data that compresses well to a 2D embedding. So we will use `colorsys` — a builtin Python module that lets us work with perceptual properties. For our superposition experiment, generating colors by varying hue while keeping saturation and value fixed gives us a much more intuitive and evenly distributed set of training examples that isolate the property we're most interested in studying.\n",
    "\n",
    "Let's do a quick test to see if we can reproduce the primary and secondary RGB values just by varying the hue.\n"
   ]
  },
  {
   "cell_type": "code",
   "execution_count": 1,
   "metadata": {},
   "outputs": [
    {
     "name": "stdout",
     "output_type": "stream",
     "text": [
      "[[  0.   1.   0.   0.]\n",
      " [ 60.   1.   1.   0.]\n",
      " [120.   0.   1.   0.]\n",
      " [180.   0.   1.   1.]\n",
      " [240.   0.   0.   1.]\n",
      " [300.   1.   0.   1.]]\n"
     ]
    }
   ],
   "source": [
    "import colorsys\n",
    "import numpy as np\n",
    "\n",
    "# Create an array of evenly spaced hues (every 60 degrees)\n",
    "hues = np.arange(0, 360, 60, dtype=float)\n",
    "\n",
    "# Convert each HSV value to RGB\n",
    "rgb_colors = np.array([(h,) + colorsys.hsv_to_rgb(h / 360, 1, 1) for h in hues])\n",
    "\n",
    "print(rgb_colors)"
   ]
  },
  {
   "cell_type": "code",
   "execution_count": 36,
   "metadata": {},
   "outputs": [],
   "source": [
    "from math import ceil\n",
    "import skimage as ski\n",
    "import numpy as np\n",
    "\n",
    "\n",
    "class ColorCube:\n",
    "    def __init__(self, rgb_grid: np.ndarray, coordinates: tuple[np.ndarray, ...], space: str, canonical_space: str):\n",
    "        self.space = space\n",
    "        self.canonical_space = canonical_space\n",
    "        self.coordinates = coordinates\n",
    "        self.rgb_grid = rgb_grid\n",
    "\n",
    "    @classmethod\n",
    "    def from_hsv(cls, h: np.ndarray, s: np.ndarray, v: np.ndarray):\n",
    "        grid = ski.color.hsv2rgb(coordinate_grid(h, s, v))\n",
    "        return cls(grid, (h, s, v), 'hsv', 'hsv')\n",
    "\n",
    "    @classmethod\n",
    "    def from_rgb(cls, r: np.ndarray, g: np.ndarray, b: np.ndarray):\n",
    "        grid = coordinate_grid(r, g, b)\n",
    "        return cls(grid, (r, g, b), 'rgb', 'rgb')\n",
    "\n",
    "    def permute(self, new_space: str):\n",
    "        if set(self.space) != set(new_space):\n",
    "            raise ValueError(f'Cannot permute {self.space} to {new_space}: different axes')\n",
    "        indices = tuple(self.space.index(axis) for axis in new_space)\n",
    "        new_grid = np.transpose(self.rgb_grid, indices + (-1,))\n",
    "        new_coordinates = tuple(self.coordinates[i] for i in indices)\n",
    "        return ColorCube(new_grid, new_coordinates, new_space, self.canonical_space)\n",
    "\n",
    "\n",
    "def plot_colors(cube: ColorCube):\n",
    "    import matplotlib.pyplot as plt\n",
    "    from itertools import chain\n",
    "\n",
    "    # Create a figure with subplots\n",
    "\n",
    "    primary_axis, secondary_axis, tertiary_axis = cube.space\n",
    "    primary_coords, secondary_coords, tertiary_coords = cube.coordinates\n",
    "\n",
    "    n_plots = len(primary_coords)\n",
    "    nominal_width = 70\n",
    "    full_width = len(tertiary_coords) * n_plots + (n_plots - 1)\n",
    "    n_rows = ceil(full_width / nominal_width)\n",
    "    n_cols = ceil(n_plots / n_rows)\n",
    "\n",
    "    # Calculate appropriate figure size based on data dimensions\n",
    "    # Base size per subplot, adjusted by the data dimensions\n",
    "    subplot_width = 0.25 * len(tertiary_coords)\n",
    "    subplot_height = 0.25 * len(secondary_coords) + 0.5\n",
    "\n",
    "    # Calculate total figure size with some margins between plots\n",
    "    figsize = (n_cols * subplot_width, n_rows * subplot_height)\n",
    "\n",
    "    fig, axes = plt.subplots(\n",
    "        n_rows,\n",
    "        n_cols,\n",
    "        figsize=figsize,\n",
    "        sharex=True,\n",
    "        sharey=True,\n",
    "        squeeze=False,\n",
    "    )\n",
    "    axes = list(chain(*axes))  # Flatten the axes array\n",
    "\n",
    "    # Plot each slice of the cube (one for each value)\n",
    "    for i, ax in enumerate(axes):\n",
    "        if i >= len(primary_coords):\n",
    "            ax.set_visible(False)\n",
    "            continue\n",
    "        row = i // n_cols\n",
    "        col = i % n_cols\n",
    "\n",
    "        ax.imshow(cube.rgb_grid[i])\n",
    "        ax.set_title(f'{primary_axis} = {primary_coords[i]:.2g}', fontsize=8)\n",
    "\n",
    "        # Add axes labels without cluttering the display\n",
    "        if row == n_rows - 1:\n",
    "            ax.xaxis.set_ticks([0, len(tertiary_coords) - 1])\n",
    "            ax.xaxis.set_ticklabels([f'{tertiary_coords[0]:.2g}', f'{tertiary_coords[-1]:.2g}'])\n",
    "            ax.xaxis.set_tick_params(labelsize=8)\n",
    "            ax.set_xlabel(tertiary_axis.upper(), fontsize=8)\n",
    "        else:\n",
    "            ax.xaxis.set_visible(False)\n",
    "\n",
    "        if col == 0:\n",
    "            ax.yaxis.set_ticks([0, len(secondary_coords) - 1])\n",
    "            ax.yaxis.set_ticklabels([f'{secondary_coords[0]:.2g}', f'{secondary_coords[-1]:.2g}'])\n",
    "            ax.yaxis.set_tick_params(labelsize=8)\n",
    "            ax.set_ylabel(secondary_axis.upper(), fontsize=8)\n",
    "        else:\n",
    "            ax.yaxis.set_visible(False)\n",
    "\n",
    "    plt.suptitle(\n",
    "        f'{cube.canonical_space.upper()} as {tertiary_axis.upper()},{secondary_axis.upper()} per {primary_axis.upper()}', color='gray'\n",
    "    )\n",
    "\n",
    "    # Light and dark mode compatibility = compromise on both!\n",
    "    fig.patch.set_alpha(0)\n",
    "    for ax in axes:\n",
    "        ax.patch.set_alpha(0)\n",
    "        ax.title.set_color('gray')\n",
    "        ax.xaxis.label.set_color('gray')\n",
    "        ax.yaxis.label.set_color('gray')\n",
    "        ax.tick_params(colors='gray')\n",
    "\n",
    "    plt.show()\n",
    "\n",
    "\n",
    "def coordinate_grid(*coordinates: list | np.ndarray) -> np.ndarray:\n",
    "    \"\"\"\n",
    "    Create a coordinate grid for n-dimensional space.\n",
    "\n",
    "    Parameters\n",
    "        `coordinates`: List of 1D arrays representing the coordinates along each axis.\n",
    "\n",
    "    Returns\n",
    "        An n+1D array where the last dimension contains the indices for each coordinate.\n",
    "    \"\"\"\n",
    "    # Create meshgrid\n",
    "    grids = np.meshgrid(*coordinates, indexing='ij')\n",
    "\n",
    "    # Stack along a new last dimension\n",
    "    return np.stack(grids, axis=-1)\n"
   ]
  },
  {
   "cell_type": "code",
   "execution_count": 37,
   "metadata": {},
   "outputs": [
    {
     "data": {
      "image/png": "[encoded data removed]",
      "text/plain": [
       "<Figure size 1125x175 with 9 Axes>"
      ]
     },
     "metadata": {
      "needs_background": "dark"
     },
     "output_type": "display_data"
    },
    {
     "data": {
      "image/png": "[encoded data removed]",
      "text/plain": [
       "<Figure size 1125x175 with 5 Axes>"
      ]
     },
     "metadata": {
      "needs_background": "dark"
     },
     "output_type": "display_data"
    },
    {
     "data": {
      "image/png": "[encoded data removed]",
      "text/plain": [
       "<Figure size 1125x175 with 5 Axes>"
      ]
     },
     "metadata": {
      "needs_background": "dark"
     },
     "output_type": "display_data"
    },
    {
     "data": {
      "image/png": "[encoded data removed]",
      "text/plain": [
       "<Figure size 1250x175 with 10 Axes>"
      ]
     },
     "metadata": {
      "needs_background": "dark"
     },
     "output_type": "display_data"
    }
   ],
   "source": [
    "def isclose_cyclic(a: int | float | np.ndarray, b: int | float | np.ndarray, atol: float = 1e-8, period = 1.0) -> np.ndarray:\n",
    "    \"\"\"Check if two arrays are close in a cyclic manner (e.g., angles).\"\"\"\n",
    "    return np.isclose(a, b, atol=atol) | np.isclose(a + period, b, atol=atol) | np.isclose(a - period, b, atol=atol)\n",
    "\n",
    "red = 0/6\n",
    "yellow = 1/6\n",
    "green = 2/6\n",
    "cyan = 3/6\n",
    "blue = 4/6\n",
    "magenta = 5/6\n",
    "\n",
    "all_hues = np.arange(0, 1, 1/12)\n",
    "holdout = isclose_cyclic(all_hues, cyan, atol=1/12 + 1e-8)\n",
    "\n",
    "hsv_cube = ColorCube.from_hsv(\n",
    "    all_hues[~holdout],\n",
    "    np.linspace(0, 1, 5),\n",
    "    np.linspace(0, 1, 5),\n",
    ")\n",
    "\n",
    "plot_colors(hsv_cube)\n",
    "plot_colors(hsv_cube.permute('vsh'))\n",
    "plot_colors(hsv_cube.permute('svh'))\n",
    "\n",
    "rgb_cube = ColorCube.from_rgb(\n",
    "    np.linspace(0, 1, 10),\n",
    "    np.linspace(0, 1, 5),\n",
    "    np.linspace(0, 1, 5),\n",
    ")\n",
    "plot_colors(rgb_cube)"
   ]
  },
  {
   "cell_type": "code",
   "execution_count": null,
   "metadata": {},
   "outputs": [],
   "source": []
  },
  {
   "cell_type": "code",
   "execution_count": null,
   "metadata": {},
   "outputs": [],
   "source": []
  }
 ],
 "metadata": {
  "kernelspec": {
   "display_name": ".venv",
   "language": "python",
   "name": "python3"
  },
  "language_info": {
   "codemirror_mode": {
    "name": "ipython",
    "version": 3
   },
   "file_extension": ".py",
   "mimetype": "text/x-python",
   "name": "python",
   "nbconvert_exporter": "python",
   "pygments_lexer": "ipython3",
   "version": "3.13.2"
  }
 },
 "nbformat": 4,
 "nbformat_minor": 2
}
