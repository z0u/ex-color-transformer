{
 "cells": [
  {
   "cell_type": "markdown",
   "id": "30ce673f",
   "metadata": {},
   "source": [
    "# Image displayer\n",
    "\n",
    "This context manager provides a function to display a figure. When it is called multiple times, it updates the image in-place. Inside the context manager, the figure is displayed _inline_, directly in the notebook. On exit, the figure is saved to a file and the notebook displays that external file instead, to keep the filesize of the notebook small. This makes it easier to work with the notebook in Git, and avoids filling up the LLM context window when working with an AI assistant."
   ]
  },
  {
   "cell_type": "code",
   "execution_count": null,
   "id": "bd85505a",
   "metadata": {},
   "outputs": [
    {
     "data": {
      "text/html": [
       "<picture>\n",
       "  <source srcset=\"large-assets/test_plot.dark.png?v=hlm3_D08_K2awfAMX1cy688xPKNySQ0jM0geInfRVWI\" media=\"(prefers-color-scheme: dark)\" />\n",
       "  <source srcset=\"large-assets/test_plot.png?v=hlm3_D08_K2awfAMX1cy688xPKNySQ0jM0geInfRVWI\" media=\"(prefers-color-scheme: light)\" />\n",
       "  <img src=\"large-assets/test_plot.png?v=hlm3_D08_K2awfAMX1cy688xPKNySQ0jM0geInfRVWI\" alt=\"Test Plot\" />\n",
       "</picture>"
      ],
      "text/plain": [
       "Test Plot"
      ]
     },
     "metadata": {},
     "output_type": "display_data"
    },
    {
     "data": {
      "text/html": [
       "<div style=\"width: 100%; padding: 5px 0; font-family: monospace\">\n",
       "  <div style=\"position: relative; height: calc(1em * 5/3); width: 100%; margin-bottom: 1em\">\n",
       "    <div style=\"position: absolute; bottom: -4px; left: calc(100.0% - 4px)\">\n",
       "      <div style=\"border-left: 4px solid transparent; border-right: 4px solid transparent; border-bottom: 4px solid currentColor\"></div>\n",
       "    </div>\n",
       "    <div style=\"position: absolute; height: 100%; width: 100.0%; background-color: color(from currentColor srgb r g b / 0.1); border-bottom: 1px solid currentColor\"></div>\n",
       "    <div style=\"position: absolute; width: 100%; height: 100%; text-align: center; line-height: calc((1em * 5/3) / 0.9); font-size: 90%; white-space: nowrap; overflow: hidden; text-overflow: ellipsis; border-bottom: 1px dashed color(from currentColor srgb r g b / 0.5)\">100.0% [6/6] [<b>00:03</b>/<00:00, 1.51 it/s]</div>\n",
       "  </div>\n",
       "  <div style=\"display: grid; grid-template-columns: repeat(0, minmax(80px, 1fr)); gap: 5px 0px; width: 100%; margin: 1em 0; font-size: 0.85em\">\n",
       "  </div>\n",
       "</div>"
      ],
      "text/plain": [
       ": 100.0% [6/6]"
      ]
     },
     "metadata": {},
     "output_type": "display_data"
    }
   ],
   "source": [
    "from functools import partial\n",
    "from utils.nb import displayer_mpl\n",
    "\n",
    "from utils.progress import AsyncProgress\n",
    "import matplotlib.pyplot as plt\n",
    "import asyncio\n",
    "\n",
    "\n",
    "with displayer_mpl('large-assets/test_plot.png', alt_text='Test Plot') as show:\n",
    "\n",
    "    def _make_fig(n: int):\n",
    "        fig = plt.figure(figsize=(5, 3))\n",
    "        ax = fig.add_subplot(111)\n",
    "        ax.set_xlim(0, 1)\n",
    "        ax.set_ylim(0, n + 1)\n",
    "        for i in range(1, n + 1):\n",
    "            ax.plot([0, 1], [0, i])\n",
    "        ax.set_title(f'Iteration {n + 1}')\n",
    "        plt.close(fig)\n",
    "        return fig\n",
    "\n",
    "    async for n in AsyncProgress(range(6)):\n",
    "        show(partial(_make_fig, n))  # noqa: B023\n",
    "        await asyncio.sleep(0.5)"
   ]
  }
 ],
 "metadata": {
  "kernelspec": {
   "display_name": "ex-color-transformer",
   "language": "python",
   "name": "python3"
  },
  "language_info": {
   "codemirror_mode": {
    "name": "ipython",
    "version": 3
   },
   "file_extension": ".py",
   "mimetype": "text/x-python",
   "name": "python",
   "nbconvert_exporter": "python",
   "pygments_lexer": "ipython3",
   "version": "3.13.5"
  }
 },
 "nbformat": 4,
 "nbformat_minor": 5
}
