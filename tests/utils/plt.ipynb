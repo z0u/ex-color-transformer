{
 "cells": [
  {
   "cell_type": "markdown",
   "id": "30ce673f",
   "metadata": {},
   "source": [
    "# Image displayer\n",
    "\n",
    "This context manager provides a function to display a figure. When it is called multiple times, it updates the image in-place. Inside the context manager, the figure is displayed _inline_, directly in the notebook. On exit, the figure is saved to a file and the notebook displays that external file instead, to keep the filesize of the notebook small. This makes it easier to work with the notebook in Git, and avoids filling up the LLM context window when working with an AI assistant."
   ]
  },
  {
   "cell_type": "code",
   "execution_count": null,
   "id": "bd85505a",
   "metadata": {},
   "outputs": [
    {
     "data": {
      "text/html": [
       "<img src=\"large-assets/test_plot.png?v=d2nWdXD11AZrrXN2yqMetyUrom8QFYPPeax_N2b6DaY\" alt=\"Test Plot\" style=\"max-width: 50rem;\" />"
      ],
      "text/plain": [
       "Test Plot"
      ]
     },
     "metadata": {},
     "output_type": "display_data"
    },
    {
     "data": {
      "text/html": [
       "<div style=\"width: 100%; padding: 5px 0; font-family: monospace\">\n",
       "  <div style=\"position: relative; height: calc(1em * 5/3); width: 100%\">\n",
       "    <div style=\"position: absolute; bottom: -4px; left: calc(100.0% - 4px)\">\n",
       "      <div style=\"width: 0; height: 0; border-left: 4px solid transparent; border-right: 4px solid transparent; border-bottom: 4px solid currentColor\"></div>\n",
       "    </div>\n",
       "    <div style=\"position: absolute; top: 0; left: 0; height: 100%; width: 100.0%; background-color: color(from currentColor srgb r g b / 0.1); border-bottom: 1px solid currentColor\"></div>\n",
       "    <div style=\"position: absolute; top: 0; left: 0; width: 100%; height: 100%; text-align: center; line-height: calc(1em * 5/3); font-size: 0.9em; white-space: nowrap; overflow: hidden; text-overflow: ellipsis; border-bottom: 1px dashed color(from currentColor srgb r g b / 0.5)\">100.0% [5/5] [<b>00:02</b>/<00:00, 2.20 it/s]</div>\n",
       "  </div>\n",
       "  <div style=\"display: grid; grid-template-columns: repeat(0, minmax(80px, 1fr)); gap: 5px 0px; width: 100%; margin-top: 10px; font-size: 0.85em\">\n",
       "  </div>\n",
       "</div>"
      ],
      "text/plain": [
       "\n",
       ": 100.0% [5/5]"
      ]
     },
     "metadata": {},
     "output_type": "display_data"
    }
   ],
   "source": [
    "from utils.nb import displayer_img\n",
    "from utils.plt import configure_matplotlib\n",
    "from utils.progress import AsyncProgress\n",
    "import matplotlib.pyplot as plt\n",
    "import asyncio\n",
    "\n",
    "configure_matplotlib()\n",
    "\n",
    "with displayer_img('large-assets/test_plot.png', alt_text='Test Plot', max_width='50rem') as show:\n",
    "    fig = plt.figure(figsize=(5, 3))\n",
    "    ax = fig.add_subplot(111)\n",
    "    async for i in AsyncProgress(range(5)):\n",
    "        # fig.clear()  # Clear the figure for next plot\n",
    "        ax.set_xlim(0, 1)\n",
    "        ax.set_ylim(0, 5)\n",
    "        ax.plot([0, 1], [0, i])\n",
    "        ax.set_title(f'Iteration {i + 1}')\n",
    "        # fig.canvas.draw()  # Trigger the update\n",
    "\n",
    "        show(fig)\n",
    "        await asyncio.sleep(0.5)\n",
    "plt.close(fig)"
   ]
  }
 ],
 "metadata": {
  "kernelspec": {
   "display_name": "ex-color-transformer",
   "language": "python",
   "name": "python3"
  },
  "language_info": {
   "codemirror_mode": {
    "name": "ipython",
    "version": 3
   },
   "file_extension": ".py",
   "mimetype": "text/x-python",
   "name": "python",
   "nbconvert_exporter": "python",
   "pygments_lexer": "ipython3",
   "version": "3.13.5"
  }
 },
 "nbformat": 4,
 "nbformat_minor": 5
}
