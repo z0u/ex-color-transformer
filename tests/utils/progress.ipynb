{
 "cells": [
  {
   "cell_type": "markdown",
   "id": "c3c43878",
   "metadata": {},
   "source": [
    "This progress bar provides functionality like tqdm and FastProgress, but:\n",
    "- It doesn't use ipywidgets\n",
    "- Its styling _just works_ (always fills the width)\n",
    "\n",
    "_Unlike_ tqdm, `Progress` is strictly async: it doesn't run on a separate thread. That means for it to draw, your code needs to wait for some async operation. If your code doesn't do any actual async operations, you can use `asyncio.sleep(0)` to briefly allow it to draw. It will still only draw when it needs to, taking its internal rate limit into account.\n",
    "\n",
    "There's no `update` method: to get it to update, you can either use it as an iterator, or write to its attributes. For example, setting the `count` or `metrics` schedules a redraw."
   ]
  },
  {
   "cell_type": "code",
   "execution_count": 1,
   "id": "5e298391",
   "metadata": {},
   "outputs": [
    {
     "data": {
      "text/html": [
       "<div style=\"width: 100%; padding: 5px 0; font-family: monospace\">\n",
       "  <div style=\"position: relative; height: calc(1em * 5/3); width: 100%\">\n",
       "    <div style=\"position: absolute; bottom: -4px; left: calc(100.0% - 4px)\">\n",
       "      <div style=\"width: 0; height: 0; border-left: 4px solid transparent; border-right: 4px solid transparent; border-bottom: 4px solid currentColor\"></div>\n",
       "    </div>\n",
       "    <div style=\"position: absolute; top: 0; left: 0; height: 100%; width: 100.0%; background-color: color(from currentColor srgb r g b / 0.1); border-bottom: 1px solid currentColor\"></div>\n",
       "    <div style=\"position: absolute; top: 0; left: 0; width: 100%; height: 100%; text-align: center; line-height: calc(1em * 5/3); font-size: 0.9em; white-space: nowrap; overflow: hidden; text-overflow: ellipsis; border-bottom: 1px dashed color(from currentColor srgb r g b / 0.5)\">iterator: 100.0% [1000/1000] [00:02/<00:00, 487.83 it/s]</div>\n",
       "  </div>\n",
       "  <div style=\"display: grid; grid-template-columns: repeat(0, minmax(80px, 1fr)); gap: 5px 0px; width: 100%; margin-top: 10px; font-size: 0.85em\">\n",
       "  </div>\n",
       "</div>"
      ],
      "text/plain": [
       "<IPython.core.display.HTML object>"
      ]
     },
     "metadata": {},
     "output_type": "display_data"
    },
    {
     "data": {
      "text/html": [
       "<div style=\"width: 100%; padding: 5px 0; font-family: monospace\">\n",
       "  <div style=\"position: relative; height: calc(1em * 5/3); width: 100%\">\n",
       "    <div style=\"position: absolute; bottom: -4px; left: calc(100.0% - 4px)\">\n",
       "      <div style=\"width: 0; height: 0; border-left: 4px solid transparent; border-right: 4px solid transparent; border-bottom: 4px solid currentColor\"></div>\n",
       "    </div>\n",
       "    <div style=\"position: absolute; top: 0; left: 0; height: 100%; width: 100.0%; background-color: color(from currentColor srgb r g b / 0.1); border-bottom: 1px solid currentColor\"></div>\n",
       "    <div style=\"position: absolute; top: 0; left: 0; width: 100%; height: 100%; text-align: center; line-height: calc(1em * 5/3); font-size: 0.9em; white-space: nowrap; overflow: hidden; text-overflow: ellipsis; border-bottom: 1px dashed color(from currentColor srgb r g b / 0.5)\">context manager: 100.0% [1000/1000] [00:02/<00:00, 473.38 it/s]</div>\n",
       "  </div>\n",
       "  <div style=\"display: grid; grid-template-columns: repeat(0, minmax(80px, 1fr)); gap: 5px 0px; width: 100%; margin-top: 10px; font-size: 0.85em\">\n",
       "  </div>\n",
       "</div>"
      ],
      "text/plain": [
       "<IPython.core.display.HTML object>"
      ]
     },
     "metadata": {},
     "output_type": "display_data"
    },
    {
     "data": {
      "text/html": [
       "<div style=\"width: 100%; padding: 5px 0; font-family: monospace\">\n",
       "  <div style=\"position: relative; height: calc(1em * 5/3); width: 100%\">\n",
       "    <div style=\"position: absolute; bottom: -4px; left: calc(100.0% - 4px)\">\n",
       "      <div style=\"width: 0; height: 0; border-left: 4px solid transparent; border-right: 4px solid transparent; border-bottom: 4px solid currentColor\"></div>\n",
       "    </div>\n",
       "    <div style=\"position: absolute; top: 0; left: 0; height: 100%; width: 100.0%; background-color: color(from currentColor srgb r g b / 0.1); border-bottom: 1px solid currentColor\"></div>\n",
       "    <div style=\"position: absolute; top: 0; left: 0; width: 100%; height: 100%; text-align: center; line-height: calc(1em * 5/3); font-size: 0.9em; white-space: nowrap; overflow: hidden; text-overflow: ellipsis; border-bottom: 1px dashed color(from currentColor srgb r g b / 0.5)\">assigned iter: 100.0% [1000/1000] [00:02/<00:00, 481.52 it/s]</div>\n",
       "  </div>\n",
       "  <div style=\"display: grid; grid-template-columns: repeat(1, minmax(80px, 1fr)); gap: 5px 0px; width: 100%; margin-top: 10px; font-size: 0.85em\">\n",
       "    <div style=\"font-weight: bold; border-bottom: 1px solid currentColor; padding-block: 2px; padding-inline: 10px; text-align: left; overflow: hidden; text-overflow: ellipsis; white-space: nowrap\">x**2</div>\n",
       "    <div style=\"padding-block: 2px; padding-inline: 10px; text-align: left; overflow: hidden; text-overflow: ellipsis; white-space: nowrap\">1000000</div>\n",
       "  </div>\n",
       "</div>"
      ],
      "text/plain": [
       "<IPython.core.display.HTML object>"
      ]
     },
     "metadata": {},
     "output_type": "display_data"
    },
    {
     "data": {
      "text/html": [
       "<div style=\"width: 100%; padding: 5px 0; font-family: monospace\">\n",
       "  <div style=\"position: relative; height: calc(1em * 5/3); width: 100%\">\n",
       "    <div style=\"position: absolute; bottom: -4px; left: calc(100.0% - 4px)\">\n",
       "      <div style=\"width: 0; height: 0; border-left: 4px solid transparent; border-right: 4px solid transparent; border-bottom: 4px solid currentColor\"></div>\n",
       "    </div>\n",
       "    <div style=\"position: absolute; top: 0; left: 0; height: 100%; width: 100.0%; background-color: color(from currentColor srgb r g b / 0.1); border-bottom: 1px solid currentColor\"></div>\n",
       "    <div style=\"position: absolute; top: 0; left: 0; width: 100%; height: 100%; text-align: center; line-height: calc(1em * 5/3); font-size: 0.9em; white-space: nowrap; overflow: hidden; text-overflow: ellipsis; border-bottom: 1px dashed color(from currentColor srgb r g b / 0.5)\">manual: 100.0% [1000/1000] [00:02/<00:00, 487.33 it/s]</div>\n",
       "  </div>\n",
       "  <div style=\"display: grid; grid-template-columns: repeat(0, minmax(80px, 1fr)); gap: 5px 0px; width: 100%; margin-top: 10px; font-size: 0.85em\">\n",
       "  </div>\n",
       "</div>"
      ],
      "text/plain": [
       "<IPython.core.display.HTML object>"
      ]
     },
     "metadata": {},
     "output_type": "display_data"
    }
   ],
   "source": [
    "import asyncio\n",
    "import time\n",
    "\n",
    "from utils.progress import Progress\n",
    "\n",
    "# As an iterator\n",
    "async for _ in Progress(range(1000), description='iterator'):\n",
    "    await asyncio.sleep(0.001)\n",
    "\n",
    "# As a context manager (auto-closes)\n",
    "async with Progress(total=1000, description='context manager') as p:\n",
    "    for _ in range(1000):\n",
    "        p.count += 1\n",
    "        await asyncio.sleep(0.001)\n",
    "\n",
    "# As an iterator with assignment, to allow setting other attributes\n",
    "async for i in (p := Progress(range(1000), description=('assigned iter'))):\n",
    "    x = i + 1\n",
    "    p.metrics |= {'x**2': x**2}\n",
    "    await asyncio.sleep(0.001)\n",
    "\n",
    "# Fully manual\n",
    "p = Progress(total=1000, description='manual')\n",
    "for _ in range(1000):\n",
    "    p.count += 1\n",
    "    await asyncio.sleep(0.001)\n",
    "p.close()\n"
   ]
  },
  {
   "cell_type": "markdown",
   "id": "94fabc0d",
   "metadata": {},
   "source": [
    "## Auto-yield\n",
    "\n",
    "If you don't care when other async tasks run, you can use the `co_op` utility. It wraps an iterable (such as `Progress`), calling `asyncio.sleep(0)` once per iteration. You still need to use `async for`, but you don't need to do other async operations."
   ]
  },
  {
   "cell_type": "code",
   "execution_count": 2,
   "id": "35f3a7ee",
   "metadata": {},
   "outputs": [
    {
     "data": {
      "text/html": [
       "<div style=\"width: 100%; padding: 5px 0; font-family: monospace\">\n",
       "  <div style=\"position: relative; height: calc(1em * 5/3); width: 100%\">\n",
       "    <div style=\"position: absolute; bottom: -4px; left: calc(100.0% - 4px)\">\n",
       "      <div style=\"width: 0; height: 0; border-left: 4px solid transparent; border-right: 4px solid transparent; border-bottom: 4px solid currentColor\"></div>\n",
       "    </div>\n",
       "    <div style=\"position: absolute; top: 0; left: 0; height: 100%; width: 100.0%; background-color: color(from currentColor srgb r g b / 0.1); border-bottom: 1px solid currentColor\"></div>\n",
       "    <div style=\"position: absolute; top: 0; left: 0; width: 100%; height: 100%; text-align: center; line-height: calc(1em * 5/3); font-size: 0.9em; white-space: nowrap; overflow: hidden; text-overflow: ellipsis; border-bottom: 1px dashed color(from currentColor srgb r g b / 0.5)\">100.0% [2000/2000] [00:04/<00:00, 460.44 it/s]</div>\n",
       "  </div>\n",
       "  <div style=\"display: grid; grid-template-columns: repeat(0, minmax(80px, 1fr)); gap: 5px 0px; width: 100%; margin-top: 10px; font-size: 0.85em\">\n",
       "  </div>\n",
       "</div>"
      ],
      "text/plain": [
       "<IPython.core.display.HTML object>"
      ]
     },
     "metadata": {},
     "output_type": "display_data"
    }
   ],
   "source": [
    "import time\n",
    "\n",
    "from utils.progress import Progress\n",
    "from utils.progress.iterators import co_op\n",
    "\n",
    "# Automatically allow other tasks to run.\n",
    "async for _ in co_op(Progress(range(2000))):\n",
    "    # This sleep statement isn't async, so it does _not_ allow other tasks to run.\n",
    "    # It's just here to simulate work.\n",
    "    time.sleep(0.001)"
   ]
  }
 ],
 "metadata": {
  "kernelspec": {
   "display_name": "ex-color-transformer",
   "language": "python",
   "name": "python3"
  },
  "language_info": {
   "codemirror_mode": {
    "name": "ipython",
    "version": 3
   },
   "file_extension": ".py",
   "mimetype": "text/x-python",
   "name": "python",
   "nbconvert_exporter": "python",
   "pygments_lexer": "ipython3",
   "version": "3.12.10"
  }
 },
 "nbformat": 4,
 "nbformat_minor": 5
}
