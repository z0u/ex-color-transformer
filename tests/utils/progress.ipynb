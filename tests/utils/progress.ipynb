{
 "cells": [
  {
   "cell_type": "markdown",
   "id": "c3c43878",
   "metadata": {},
   "source": [
    "This progress bar provides functionality like tqdm and FastProgress, but:\n",
    "- It doesn't use ipywidgets\n",
    "- Its styling _just works_ (always fills the width)\n",
    "\n",
    "_Unlike_ tqdm, `AsyncProgress` is strictly async: it doesn't run on a separate thread. That means for it to draw, your code needs to wait for some async operation. If your code doesn't do any actual async operations, you can use `asyncio.sleep(0)` to briefly allow it to draw. It will still only draw when it needs to, taking its internal rate limit into account.\n",
    "\n",
    "There's no `update` method: to get it to update, you can either use it as an iterator, or write to its attributes. For example, setting the `count` or `metrics` schedules a redraw."
   ]
  },
  {
   "cell_type": "code",
   "execution_count": 1,
   "id": "5e298391",
   "metadata": {},
   "outputs": [
    {
     "data": {
      "text/html": [
       "<div style=\"width: 100%; padding: 5px 0; font-family: monospace\">\n",
       "  <div style=\"position: relative; height: calc(1em * 5/3); width: 100%; margin-bottom: 2em\">\n",
       "    <div style=\"position: absolute; top: 100%; height: 3.5px; left: 0; width: 100%; background: linear-gradient(to right, var(--h1) 0.0%, var(--h0) 2.0%, var(--h0) 4.1%, var(--h0) 6.1%, var(--h0) 8.2%, var(--h1) 10.2%, var(--h0) 12.2%, var(--h0) 14.3%, var(--h0) 16.3%, var(--h0) 18.4%, var(--h1) 20.4%, var(--h0) 22.4%, var(--h0) 24.5%, var(--h0) 26.5%, var(--h0) 28.6%, var(--h1) 30.6%, var(--h0) 32.7%, var(--h0) 34.7%, var(--h0) 36.7%, var(--h0) 38.8%, var(--h1) 40.8%, var(--h0) 42.9%, var(--h0) 44.9%, var(--h0) 46.9%, var(--h0) 49.0%, var(--h1) 51.0%, var(--h0) 53.1%, var(--h0) 55.1%, var(--h0) 57.1%, var(--h0) 59.2%, var(--h1) 61.2%, var(--h0) 63.3%, var(--h0) 65.3%, var(--h0) 67.3%, var(--h0) 69.4%, var(--h1) 71.4%, var(--h0) 73.5%, var(--h0) 75.5%, var(--h0) 77.6%, var(--h0) 79.6%, var(--h1) 81.6%, var(--h0) 83.7%, var(--h0) 85.7%, var(--h0) 87.8%, var(--h0) 89.8%, var(--h1) 91.8%, var(--h0) 93.9%, var(--h0) 95.9%, var(--h0) 98.0%, var(--h1) 100.0%);--h0:color(from currentColor srgb r g b / 0.00);--h1:color(from currentColor srgb r g b / 0.25)\"></div>\n",
       "    <div style=\"position: absolute; top: 100%; font-size: 70%; padding: 3px 2px 0; left: 0.0%; border-left: 0.5px solid currentColor\">0</div>\n",
       "    <div style=\"position: absolute; top: 100%; font-size: 70%; padding: 3px 2px 0; left: 10.0%; border-left: 0.5px solid currentColor\">100</div>\n",
       "    <div style=\"position: absolute; top: 100%; font-size: 70%; padding: 3px 2px 0; left: 20.0%; border-left: 0.5px solid currentColor\">200</div>\n",
       "    <div style=\"position: absolute; top: 100%; font-size: 70%; padding: 3px 2px 0; left: 30.0%; border-left: 0.5px solid currentColor\">300</div>\n",
       "    <div style=\"position: absolute; top: 100%; font-size: 70%; padding: 3px 2px 0; left: 40.0%; border-left: 0.5px solid currentColor\">400</div>\n",
       "    <div style=\"position: absolute; top: 100%; font-size: 70%; padding: 3px 2px 0; left: 50.0%; border-left: 0.5px solid currentColor\">500</div>\n",
       "    <div style=\"position: absolute; top: 100%; font-size: 70%; padding: 3px 2px 0; left: 60.0%; border-left: 0.5px solid currentColor\">600</div>\n",
       "    <div style=\"position: absolute; top: 100%; font-size: 70%; padding: 3px 2px 0; left: 70.0%; border-left: 0.5px solid currentColor\">700</div>\n",
       "    <div style=\"position: absolute; top: 100%; font-size: 70%; padding: 3px 2px 0; left: 80.0%; border-left: 0.5px solid currentColor\">800</div>\n",
       "    <div style=\"position: absolute; top: 100%; font-size: 70%; padding: 3px 2px 0; left: 90.0%; border-left: 0.5px solid currentColor\">900</div>\n",
       "    <div style=\"position: absolute; top: 100%; font-size: 70%; padding: 3px 2px 0; right: 0.1%; border-right: 0.5px solid currentColor\">1000</div>\n",
       "    <div style=\"position: absolute; bottom: -4px; left: calc(100.0% - 4px)\">\n",
       "      <div style=\"border-left: 4px solid transparent; border-right: 4px solid transparent; border-bottom: 4px solid currentColor\"></div>\n",
       "    </div>\n",
       "    <div style=\"position: absolute; height: 100%; width: 100.0%; background-color: color(from currentColor srgb r g b / 0.1); border-bottom: 1px solid currentColor\"></div>\n",
       "    <div style=\"position: absolute; width: 100%; height: 100%; text-align: center; line-height: calc((1em * 5/3) / 0.9); font-size: 90%; white-space: nowrap; overflow: hidden; text-overflow: ellipsis; border-bottom: 1px dashed color(from currentColor srgb r g b / 0.5)\"><b>context manager</b>: 100.0% [1000/1000] [<b>00:01</b>/<00:00, 519.13 it/s]</div>\n",
       "  </div>\n",
       "  <div style=\"display: grid; grid-template-columns: repeat(0, minmax(80px, 1fr)); gap: 5px 0px; width: 100%; margin: 1em 0; font-size: 0.85em\">\n",
       "  </div>\n",
       "</div>"
      ],
      "text/plain": [
       "context manager: 100.0% [1000/1000]"
      ]
     },
     "metadata": {},
     "output_type": "display_data"
    },
    {
     "data": {
      "text/html": [
       "<div style=\"width: 100%; padding: 5px 0; font-family: monospace\">\n",
       "  <div style=\"position: relative; height: calc(1em * 5/3); width: 100%; margin-bottom: 1em\">\n",
       "    <div style=\"position: absolute; bottom: -4px; left: calc(100.0% - 4px)\">\n",
       "      <div style=\"border-left: 4px solid transparent; border-right: 4px solid transparent; border-bottom: 4px solid currentColor\"></div>\n",
       "    </div>\n",
       "    <div style=\"position: absolute; height: 100%; width: 100.0%; background-color: color(from currentColor srgb r g b / 0.1); border-bottom: 1px solid currentColor\"></div>\n",
       "    <div style=\"position: absolute; width: 100%; height: 100%; text-align: center; line-height: calc((1em * 5/3) / 0.9); font-size: 90%; white-space: nowrap; overflow: hidden; text-overflow: ellipsis; border-bottom: 1px dashed color(from currentColor srgb r g b / 0.5)\"><b>iterator</b>: 100.0% [1000/1000] [<b>00:02</b>/<00:00, 491.00 it/s]</div>\n",
       "  </div>\n",
       "  <div style=\"display: grid; grid-template-columns: repeat(0, minmax(80px, 1fr)); gap: 5px 0px; width: 100%; margin: 1em 0; font-size: 0.85em\">\n",
       "  </div>\n",
       "</div>"
      ],
      "text/plain": [
       "iterator: 100.0% [1000/1000]"
      ]
     },
     "metadata": {},
     "output_type": "display_data"
    },
    {
     "data": {
      "text/html": [
       "<div style=\"width: 100%; padding: 5px 0; font-family: monospace\">\n",
       "  <div style=\"position: relative; height: calc(1em * 5/3); width: 100%; margin-bottom: 2em\">\n",
       "    <div style=\"position: absolute; top: 100%; height: 3.5px; left: 0; width: 100%; background: linear-gradient(to right, var(--h1) 0.0%, var(--h1) 2.0%, var(--h1) 4.1%, var(--h1) 6.1%, var(--h1) 8.2%, var(--h1) 10.2%, var(--h1) 12.2%, var(--h1) 14.3%, var(--h1) 16.3%, var(--h1) 18.4%, var(--h1) 20.4%, var(--h1) 22.4%, var(--h1) 24.5%, var(--h1) 26.5%, var(--h1) 28.6%, var(--h1) 30.6%, var(--h1) 32.7%, var(--h1) 34.7%, var(--h1) 36.7%, var(--h1) 38.8%, var(--h1) 40.8%, var(--h1) 42.9%, var(--h1) 44.9%, var(--h1) 46.9%, var(--h1) 49.0%, var(--h1) 51.0%, var(--h1) 53.1%, var(--h1) 55.1%, var(--h2) 57.1%, var(--h0) 59.2%, var(--h1) 61.2%, var(--h1) 63.3%, var(--h1) 65.3%, var(--h1) 67.3%, var(--h1) 69.4%, var(--h1) 71.4%, var(--h1) 73.5%, var(--h1) 75.5%, var(--h1) 77.6%, var(--h1) 79.6%, var(--h1) 81.6%, var(--h1) 83.7%, var(--h1) 85.7%, var(--h1) 87.8%, var(--h1) 89.8%, var(--h1) 91.8%, var(--h1) 93.9%, var(--h1) 95.9%, var(--h1) 98.0%, var(--h1) 100.0%);--h0:color(from currentColor srgb r g b / 0.06);--h1:color(from currentColor srgb r g b / 0.25);--h2:color(from currentColor srgb r g b / 0.56)\"></div>\n",
       "    <div style=\"position: absolute; top: 100%; font-size: 70%; padding: 3px 2px 0; left: 0.0%; border-left: 0.5px solid currentColor\">0</div>\n",
       "    <div style=\"position: absolute; top: 100%; font-size: 70%; padding: 3px 2px 0; left: 10.0%; border-left: 0.5px solid currentColor\">100</div>\n",
       "    <div style=\"position: absolute; top: 100%; font-size: 70%; padding: 3px 2px 0; left: 20.0%; border-left: 0.5px solid currentColor\">200</div>\n",
       "    <div style=\"position: absolute; top: 100%; font-size: 70%; padding: 3px 2px 0; left: 30.0%; border-left: 0.5px solid currentColor\">300</div>\n",
       "    <div style=\"position: absolute; top: 100%; font-size: 70%; padding: 3px 2px 0; left: 40.0%; border-left: 0.5px solid currentColor\">400</div>\n",
       "    <div style=\"position: absolute; top: 100%; font-size: 70%; padding: 3px 2px 0; left: 50.0%; border-left: 0.5px solid currentColor\">500</div>\n",
       "    <div style=\"position: absolute; top: 100%; font-size: 70%; padding: 3px 2px 0; left: 60.0%; border-left: 0.5px solid currentColor\">600</div>\n",
       "    <div style=\"position: absolute; top: 100%; font-size: 70%; padding: 3px 2px 0; left: 70.0%; border-left: 0.5px solid currentColor\">700</div>\n",
       "    <div style=\"position: absolute; top: 100%; font-size: 70%; padding: 3px 2px 0; left: 80.0%; border-left: 0.5px solid currentColor\">800</div>\n",
       "    <div style=\"position: absolute; top: 100%; font-size: 70%; padding: 3px 2px 0; right: 1.0%; border-right: 0.5px solid currentColor\">990</div>\n",
       "    <div style=\"position: absolute; bottom: -4px; left: calc(100.0% - 4px)\">\n",
       "      <div style=\"border-left: 4px solid transparent; border-right: 4px solid transparent; border-bottom: 4px solid currentColor\"></div>\n",
       "    </div>\n",
       "    <div style=\"position: absolute; height: 100%; width: 100.0%; background-color: color(from currentColor srgb r g b / 0.1); border-bottom: 1px solid currentColor\"></div>\n",
       "    <div style=\"position: absolute; width: 100%; height: 100%; text-align: center; line-height: calc((1em * 5/3) / 0.9); font-size: 90%; white-space: nowrap; overflow: hidden; text-overflow: ellipsis; border-bottom: 1px dashed color(from currentColor srgb r g b / 0.5)\"><b>assigned iter</b>: 100.0% [1000/1000] [<b>00:02</b>/<00:00, 485.55 it/s]</div>\n",
       "  </div>\n",
       "  <div style=\"display: grid; grid-template-columns: repeat(1, minmax(80px, 1fr)); gap: 5px 0px; width: 100%; margin: 1em 0; font-size: 0.85em\">\n",
       "    <div style=\"font-weight: bold; border-bottom: 0.5px solid currentColor; padding: 2px 10px; text-align: left; overflow: hidden; text-overflow: ellipsis; white-space: nowrap\">x**2</div>\n",
       "    <div style=\"padding: 2px 10px; text-align: left; overflow: hidden; text-overflow: ellipsis; white-space: nowrap\">1000000</div>\n",
       "  </div>\n",
       "</div>"
      ],
      "text/plain": [
       "assigned iter: 100.0% [1000/1000]"
      ]
     },
     "metadata": {},
     "output_type": "display_data"
    },
    {
     "data": {
      "text/html": [
       "<div style=\"width: 100%; padding: 5px 0; font-family: monospace\">\n",
       "  <div style=\"position: relative; height: calc(1em * 5/3); width: 100%; margin-bottom: 1em\">\n",
       "    <div style=\"position: absolute; bottom: -4px; left: calc(100.0% - 4px)\">\n",
       "      <div style=\"border-left: 4px solid transparent; border-right: 4px solid transparent; border-bottom: 4px solid currentColor\"></div>\n",
       "    </div>\n",
       "    <div style=\"position: absolute; height: 100%; width: 100.0%; background-color: color(from currentColor srgb r g b / 0.1); border-bottom: 1px solid currentColor\"></div>\n",
       "    <div style=\"position: absolute; width: 100%; height: 100%; text-align: center; line-height: calc((1em * 5/3) / 0.9); font-size: 90%; white-space: nowrap; overflow: hidden; text-overflow: ellipsis; border-bottom: 1px dashed color(from currentColor srgb r g b / 0.5)\"><b>manual</b>: 100.0% [1000/1000] [<b>00:02</b>/<00:00, 494.24 it/s]</div>\n",
       "  </div>\n",
       "  <div style=\"display: grid; grid-template-columns: repeat(0, minmax(80px, 1fr)); gap: 5px 0px; width: 100%; margin: 1em 0; font-size: 0.85em\">\n",
       "  </div>\n",
       "</div>"
      ],
      "text/plain": [
       "manual: 100.0% [1000/1000]"
      ]
     },
     "metadata": {},
     "output_type": "display_data"
    }
   ],
   "source": [
    "import asyncio\n",
    "\n",
    "from utils.progress import AsyncProgress\n",
    "\n",
    "\n",
    "# As a context manager (auto-closes)\n",
    "async with AsyncProgress(total=1000, description='context manager') as p:\n",
    "    for i in range(1000):\n",
    "        p.count += 1\n",
    "        if i % 100 == 0:\n",
    "            p.mark(f'{i:d}')\n",
    "        await asyncio.sleep(0.001)\n",
    "    p.mark(f'{1000:d}')\n",
    "\n",
    "# As an iterator\n",
    "async for _ in AsyncProgress(range(1000), description='iterator'):\n",
    "    await asyncio.sleep(0.001)\n",
    "\n",
    "# As an iterator with assignment, to allow setting other attributes\n",
    "async for i in (p := AsyncProgress(range(1000), description=('assigned iter'))):\n",
    "    x = i + 1\n",
    "    p.metrics |= {'x**2': x**2}\n",
    "    if i % 10 == 0:\n",
    "        p.mark(f'{i:d}')\n",
    "    await asyncio.sleep(0.001)\n",
    "\n",
    "# Fully manual\n",
    "p = AsyncProgress(total=1000, description='manual')\n",
    "for _ in range(1000):\n",
    "    p.count += 1\n",
    "    await asyncio.sleep(0.001)\n",
    "p.close()"
   ]
  },
  {
   "cell_type": "markdown",
   "id": "94fabc0d",
   "metadata": {},
   "source": [
    "## Automatic task cooperation\n",
    "\n",
    "If you don't care when other async tasks run, you can use the `co_op` utility. It wraps an iterable (such as `AsyncProgress`), calling `asyncio.sleep(0)` once per iteration. You still need to use `async for`, but you don't need to do other async operations."
   ]
  },
  {
   "cell_type": "code",
   "execution_count": 2,
   "id": "35f3a7ee",
   "metadata": {},
   "outputs": [
    {
     "data": {
      "text/html": [
       "<div style=\"width: 100%; padding: 5px 0; font-family: monospace\">\n",
       "  <div style=\"position: relative; height: calc(1em * 5/3); width: 100%; margin-bottom: 1em\">\n",
       "    <div style=\"position: absolute; bottom: -4px; left: calc(100.0% - 4px)\">\n",
       "      <div style=\"border-left: 4px solid transparent; border-right: 4px solid transparent; border-bottom: 4px solid currentColor\"></div>\n",
       "    </div>\n",
       "    <div style=\"position: absolute; height: 100%; width: 100.0%; background-color: color(from currentColor srgb r g b / 0.1); border-bottom: 1px solid currentColor\"></div>\n",
       "    <div style=\"position: absolute; width: 100%; height: 100%; text-align: center; line-height: calc((1em * 5/3) / 0.9); font-size: 90%; white-space: nowrap; overflow: hidden; text-overflow: ellipsis; border-bottom: 1px dashed color(from currentColor srgb r g b / 0.5)\"><b>task co-op</b>: 100.0% [1000/1000] [<b>00:02</b>/<00:00, 467.06 it/s]</div>\n",
       "  </div>\n",
       "  <div style=\"display: grid; grid-template-columns: repeat(0, minmax(80px, 1fr)); gap: 5px 0px; width: 100%; margin: 1em 0; font-size: 0.85em\">\n",
       "  </div>\n",
       "</div>"
      ],
      "text/plain": [
       "task co-op: 100.0% [1000/1000]"
      ]
     },
     "metadata": {},
     "output_type": "display_data"
    }
   ],
   "source": [
    "import time\n",
    "\n",
    "from utils.progress import AsyncProgress\n",
    "from utils.progress.iterators import co_op\n",
    "\n",
    "# Automatically allow other tasks to run.\n",
    "async for _ in co_op(AsyncProgress(range(1000), description='task co-op')):\n",
    "    # This sleep statement isn't async, so it does _not_ allow other tasks to run.\n",
    "    # It's just here to simulate work.\n",
    "    time.sleep(0.001)"
   ]
  },
  {
   "cell_type": "markdown",
   "id": "0390a5be",
   "metadata": {},
   "source": [
    "## Synchronous version"
   ]
  },
  {
   "cell_type": "code",
   "execution_count": 3,
   "id": "d1804c6f",
   "metadata": {},
   "outputs": [
    {
     "data": {
      "text/html": [
       "<div style=\"width: 100%; padding: 5px 0; font-family: monospace\">\n",
       "  <div style=\"position: relative; height: calc(1em * 5/3); width: 100%; margin-bottom: 1em\">\n",
       "    <div style=\"position: absolute; bottom: -4px; left: calc(100.0% - 4px)\">\n",
       "      <div style=\"border-left: 4px solid transparent; border-right: 4px solid transparent; border-bottom: 4px solid currentColor\"></div>\n",
       "    </div>\n",
       "    <div style=\"position: absolute; height: 100%; width: 100.0%; background-color: color(from currentColor srgb r g b / 0.1); border-bottom: 1px solid currentColor\"></div>\n",
       "    <div style=\"position: absolute; width: 100%; height: 100%; text-align: center; line-height: calc((1em * 5/3) / 0.9); font-size: 90%; white-space: nowrap; overflow: hidden; text-overflow: ellipsis; border-bottom: 1px dashed color(from currentColor srgb r g b / 0.5)\"><b>sync iterator</b>: 100.0% [1000/1000] [<b>00:02</b>/<00:00, 466.32 it/s]</div>\n",
       "  </div>\n",
       "  <div style=\"display: grid; grid-template-columns: repeat(0, minmax(80px, 1fr)); gap: 5px 0px; width: 100%; margin: 1em 0; font-size: 0.85em\">\n",
       "  </div>\n",
       "</div>"
      ],
      "text/plain": [
       "sync iterator: 100.0% [1000/1000]"
      ]
     },
     "metadata": {},
     "output_type": "display_data"
    },
    {
     "data": {
      "text/html": [
       "<div style=\"width: 100%; padding: 5px 0; font-family: monospace\">\n",
       "  <div style=\"position: relative; height: calc(1em * 5/3); width: 100%; margin-bottom: 1em\">\n",
       "    <div style=\"position: absolute; bottom: -4px; left: calc(100.0% - 4px)\">\n",
       "      <div style=\"border-left: 4px solid transparent; border-right: 4px solid transparent; border-bottom: 4px solid currentColor\"></div>\n",
       "    </div>\n",
       "    <div style=\"position: absolute; height: 100%; width: 100.0%; background-color: color(from currentColor srgb r g b / 0.1); border-bottom: 1px solid currentColor\"></div>\n",
       "    <div style=\"position: absolute; width: 100%; height: 100%; text-align: center; line-height: calc((1em * 5/3) / 0.9); font-size: 90%; white-space: nowrap; overflow: hidden; text-overflow: ellipsis; border-bottom: 1px dashed color(from currentColor srgb r g b / 0.5)\"><b>sync context manager</b>: 100.0% [1000/1000] [<b>00:02</b>/<00:00, 459.74 it/s]</div>\n",
       "  </div>\n",
       "  <div style=\"display: grid; grid-template-columns: repeat(0, minmax(80px, 1fr)); gap: 5px 0px; width: 100%; margin: 1em 0; font-size: 0.85em\">\n",
       "  </div>\n",
       "</div>"
      ],
      "text/plain": [
       "sync context manager: 100.0% [1000/1000]"
      ]
     },
     "metadata": {},
     "output_type": "display_data"
    }
   ],
   "source": [
    "import time\n",
    "from utils.progress import SyncProgress\n",
    "\n",
    "# As an iterator\n",
    "for _ in SyncProgress(range(1000), description='sync iterator'):\n",
    "    time.sleep(0.001)\n",
    "\n",
    "# As a context manager (auto-closes)\n",
    "with SyncProgress(total=1000, description='sync context manager') as p:\n",
    "    for _ in range(1000):\n",
    "        p.count += 1\n",
    "        time.sleep(0.001)"
   ]
  }
 ],
 "metadata": {
  "kernelspec": {
   "display_name": "ex-color-transformer",
   "language": "python",
   "name": "python3"
  },
  "language_info": {
   "codemirror_mode": {
    "name": "ipython",
    "version": 3
   },
   "file_extension": ".py",
   "mimetype": "text/x-python",
   "name": "python",
   "nbconvert_exporter": "python",
   "pygments_lexer": "ipython3",
   "version": "3.12.10"
  }
 },
 "nbformat": 4,
 "nbformat_minor": 5
}
