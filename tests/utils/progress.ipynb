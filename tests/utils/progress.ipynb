{
 "cells": [
  {
   "cell_type": "markdown",
   "id": "c3c43878",
   "metadata": {},
   "source": [
    "This progress bar provides functionality like tqdm and FastProgress, but:\n",
    "- It doesn't use ipywidgets\n",
    "- Its styling _just works_ (always fills the width)\n",
    "\n",
    "_Unlike_ tqdm, `Progress` is strictly async: it doesn't run on a separate thread. That means for it to draw, your code needs to wait for some async operation. If your code doesn't do any actual async operations, you can use `asyncio.sleep(0)` to briefly allow it to draw. It will still only draw when it needs to, taking its internal rate limit into account.\n",
    "\n",
    "There's no `update` method: to get it to update, you can either use it as an iterator, or write to its attributes. For example, setting the `count` or `metrics` schedules a redraw."
   ]
  },
  {
   "cell_type": "code",
   "execution_count": 1,
   "id": "5e298391",
   "metadata": {},
   "outputs": [
    {
     "data": {
      "text/html": [
       "<div style=\"width: 100%; padding: 5px 0; font-family: monospace\">\n",
       "  <div style=\"position: relative; height: calc(1em * 5/3); width: 100%\">\n",
       "    <div style=\"position: absolute; top: 100%; font-size: 70%; left: calc(0.1% - 1px); border-left: 0.5px solid currentColor; padding: 1px 1px 0\">0</div>\n",
       "    <div style=\"position: absolute; top: 100%; font-size: 70%; left: calc(10.1% - 1px); border-left: 0.5px solid currentColor; padding: 1px 1px 0\">100</div>\n",
       "    <div style=\"position: absolute; top: 100%; font-size: 70%; left: calc(20.1% - 1px); border-left: 0.5px solid currentColor; padding: 1px 1px 0\">200</div>\n",
       "    <div style=\"position: absolute; top: 100%; font-size: 70%; left: calc(30.1% - 1px); border-left: 0.5px solid currentColor; padding: 1px 1px 0\">300</div>\n",
       "    <div style=\"position: absolute; top: 100%; font-size: 70%; left: calc(40.1% - 1px); border-left: 0.5px solid currentColor; padding: 1px 1px 0\">400</div>\n",
       "    <div style=\"position: absolute; top: 100%; font-size: 70%; left: calc(50.1% - 1px); border-left: 0.5px solid currentColor; padding: 1px 1px 0\">500</div>\n",
       "    <div style=\"position: absolute; top: 100%; font-size: 70%; left: calc(60.1% - 1px); border-left: 0.5px solid currentColor; padding: 1px 1px 0\">600</div>\n",
       "    <div style=\"position: absolute; top: 100%; font-size: 70%; left: calc(70.1% - 1px); border-left: 0.5px solid currentColor; padding: 1px 1px 0\">700</div>\n",
       "    <div style=\"position: absolute; top: 100%; font-size: 70%; left: calc(80.1% - 1px); border-left: 0.5px solid currentColor; padding: 1px 1px 0\">800</div>\n",
       "    <div style=\"position: absolute; top: 100%; font-size: 70%; left: calc(90.1% - 1px); border-left: 0.5px solid currentColor; padding: 1px 1px 0\">900</div>\n",
       "    <div style=\"position: absolute; top: 100%; font-size: 70%; right: -0.1%; border-right: 0.5px solid currentColor; padding: 1px 1px 0\">1000</div>\n",
       "    <div style=\"position: absolute; bottom: -4px; left: calc(100.1% - 4px)\">\n",
       "      <div style=\"border-left: 4px solid transparent; border-right: 4px solid transparent; border-bottom: 4px solid currentColor\"></div>\n",
       "    </div>\n",
       "    <div style=\"position: absolute; height: 100%; width: 100.1%; background-color: color(from currentColor srgb r g b / 0.1); border-bottom: 1px solid currentColor\"></div>\n",
       "    <div style=\"position: absolute; width: 100%; height: 100%; text-align: center; line-height: calc(1em * 5/3); font-size: 0.9em; white-space: nowrap; overflow: hidden; text-overflow: ellipsis; border-bottom: 1px dashed color(from currentColor srgb r g b / 0.5)\"><b>context manager</b>: 100.1% [1001/1000] [<b>00:02</b>/<00:00, 488.65 it/s]</div>\n",
       "  </div>\n",
       "  <div style=\"display: grid; grid-template-columns: repeat(0, minmax(80px, 1fr)); gap: 5px 0px; width: 100%; margin-top: 10px; font-size: 0.85em\">\n",
       "  </div>\n",
       "</div>"
      ],
      "text/plain": [
       "\n",
       "context manager: 100.1% [1001/1000]"
      ]
     },
     "metadata": {},
     "output_type": "display_data"
    },
    {
     "data": {
      "text/html": [
       "<div style=\"width: 100%; padding: 5px 0; font-family: monospace\">\n",
       "  <div style=\"position: relative; height: calc(1em * 5/3); width: 100%\">\n",
       "    <div style=\"position: absolute; bottom: -4px; left: calc(100.0% - 4px)\">\n",
       "      <div style=\"border-left: 4px solid transparent; border-right: 4px solid transparent; border-bottom: 4px solid currentColor\"></div>\n",
       "    </div>\n",
       "    <div style=\"position: absolute; height: 100%; width: 100.0%; background-color: color(from currentColor srgb r g b / 0.1); border-bottom: 1px solid currentColor\"></div>\n",
       "    <div style=\"position: absolute; width: 100%; height: 100%; text-align: center; line-height: calc(1em * 5/3); font-size: 0.9em; white-space: nowrap; overflow: hidden; text-overflow: ellipsis; border-bottom: 1px dashed color(from currentColor srgb r g b / 0.5)\"><b>iterator</b>: 100.0% [1000/1000] [<b>00:02</b>/<00:00, 478.01 it/s]</div>\n",
       "  </div>\n",
       "  <div style=\"display: grid; grid-template-columns: repeat(0, minmax(80px, 1fr)); gap: 5px 0px; width: 100%; margin-top: 10px; font-size: 0.85em\">\n",
       "  </div>\n",
       "</div>"
      ],
      "text/plain": [
       "\n",
       "iterator: 100.0% [1000/1000]"
      ]
     },
     "metadata": {},
     "output_type": "display_data"
    },
    {
     "data": {
      "text/html": [
       "<div style=\"width: 100%; padding: 5px 0; font-family: monospace\">\n",
       "  <div style=\"position: relative; height: calc(1em * 5/3); width: 100%\">\n",
       "    <div style=\"position: absolute; bottom: -4px; left: calc(100.0% - 4px)\">\n",
       "      <div style=\"border-left: 4px solid transparent; border-right: 4px solid transparent; border-bottom: 4px solid currentColor\"></div>\n",
       "    </div>\n",
       "    <div style=\"position: absolute; height: 100%; width: 100.0%; background-color: color(from currentColor srgb r g b / 0.1); border-bottom: 1px solid currentColor\"></div>\n",
       "    <div style=\"position: absolute; width: 100%; height: 100%; text-align: center; line-height: calc(1em * 5/3); font-size: 0.9em; white-space: nowrap; overflow: hidden; text-overflow: ellipsis; border-bottom: 1px dashed color(from currentColor srgb r g b / 0.5)\"><b>assigned iter</b>: 100.0% [1000/1000] [<b>00:02</b>/<00:00, 490.90 it/s]</div>\n",
       "  </div>\n",
       "  <div style=\"display: grid; grid-template-columns: repeat(1, minmax(80px, 1fr)); gap: 5px 0px; width: 100%; margin-top: 10px; font-size: 0.85em\">\n",
       "    <div style=\"font-weight: bold; border-bottom: 1px solid currentColor; padding: 2px 10px; text-align: left; overflow: hidden; text-overflow: ellipsis; white-space: nowrap\">x**2</div>\n",
       "    <div style=\"padding: 2px 10px; text-align: left; overflow: hidden; text-overflow: ellipsis; white-space: nowrap\">1000000</div>\n",
       "  </div>\n",
       "</div>"
      ],
      "text/plain": [
       "\n",
       "assigned iter: 100.0% [1000/1000]"
      ]
     },
     "metadata": {},
     "output_type": "display_data"
    },
    {
     "data": {
      "text/html": [
       "<div style=\"width: 100%; padding: 5px 0; font-family: monospace\">\n",
       "  <div style=\"position: relative; height: calc(1em * 5/3); width: 100%\">\n",
       "    <div style=\"position: absolute; bottom: -4px; left: calc(100.0% - 4px)\">\n",
       "      <div style=\"border-left: 4px solid transparent; border-right: 4px solid transparent; border-bottom: 4px solid currentColor\"></div>\n",
       "    </div>\n",
       "    <div style=\"position: absolute; height: 100%; width: 100.0%; background-color: color(from currentColor srgb r g b / 0.1); border-bottom: 1px solid currentColor\"></div>\n",
       "    <div style=\"position: absolute; width: 100%; height: 100%; text-align: center; line-height: calc(1em * 5/3); font-size: 0.9em; white-space: nowrap; overflow: hidden; text-overflow: ellipsis; border-bottom: 1px dashed color(from currentColor srgb r g b / 0.5)\"><b>manual</b>: 100.0% [1000/1000] [<b>00:02</b>/<00:00, 496.61 it/s]</div>\n",
       "  </div>\n",
       "  <div style=\"display: grid; grid-template-columns: repeat(0, minmax(80px, 1fr)); gap: 5px 0px; width: 100%; margin-top: 10px; font-size: 0.85em\">\n",
       "  </div>\n",
       "</div>"
      ],
      "text/plain": [
       "\n",
       "manual: 100.0% [1000/1000]"
      ]
     },
     "metadata": {},
     "output_type": "display_data"
    }
   ],
   "source": [
    "import asyncio\n",
    "import time\n",
    "\n",
    "from utils.progress import Progress\n",
    "\n",
    "\n",
    "# As a context manager (auto-closes)\n",
    "async with Progress(total=1000, description='context manager') as p:\n",
    "    for i in range(1001):\n",
    "        p.count += 1\n",
    "        if i % 100 == 0:\n",
    "            p.mark(f'{i:d}')\n",
    "        await asyncio.sleep(0.001)\n",
    "\n",
    "# As an iterator\n",
    "async for _ in Progress(range(1000), description='iterator'):\n",
    "    await asyncio.sleep(0.001)\n",
    "\n",
    "# As an iterator with assignment, to allow setting other attributes\n",
    "async for i in (p := Progress(range(1000), description=('assigned iter'))):\n",
    "    x = i + 1\n",
    "    p.metrics |= {'x**2': x**2}\n",
    "    await asyncio.sleep(0.001)\n",
    "\n",
    "# Fully manual\n",
    "p = Progress(total=1000, description='manual')\n",
    "for _ in range(1000):\n",
    "    p.count += 1\n",
    "    await asyncio.sleep(0.001)\n",
    "p.close()"
   ]
  },
  {
   "cell_type": "markdown",
   "id": "94fabc0d",
   "metadata": {},
   "source": [
    "## Automatic task cooperation\n",
    "\n",
    "If you don't care when other async tasks run, you can use the `co_op` utility. It wraps an iterable (such as `Progress`), calling `asyncio.sleep(0)` once per iteration. You still need to use `async for`, but you don't need to do other async operations."
   ]
  },
  {
   "cell_type": "code",
   "execution_count": 2,
   "id": "35f3a7ee",
   "metadata": {},
   "outputs": [
    {
     "data": {
      "text/html": [
       "<div style=\"width: 100%; padding: 5px 0; font-family: monospace\">\n",
       "  <div style=\"position: relative; height: calc(1em * 5/3); width: 100%\">\n",
       "    <div style=\"position: absolute; bottom: -4px; left: calc(100.0% - 4px)\">\n",
       "      <div style=\"width: 0; height: 0; border-left: 4px solid transparent; border-right: 4px solid transparent; border-bottom: 4px solid currentColor\"></div>\n",
       "    </div>\n",
       "    <div style=\"position: absolute; top: 0; left: 0; height: 100%; width: 100.0%; background-color: color(from currentColor srgb r g b / 0.1); border-bottom: 1px solid currentColor\"></div>\n",
       "    <div style=\"position: absolute; top: 0; left: 0; width: 100%; height: 100%; text-align: center; line-height: calc(1em * 5/3); font-size: 0.9em; white-space: nowrap; overflow: hidden; text-overflow: ellipsis; border-bottom: 1px dashed color(from currentColor srgb r g b / 0.5)\"><b>task co-op</b>: 100.0% [1000/1000] [<b>00:02</b>/<00:00, 465.31 it/s]</div>\n",
       "  </div>\n",
       "  <div style=\"display: grid; grid-template-columns: repeat(0, minmax(80px, 1fr)); gap: 5px 0px; width: 100%; margin-top: 10px; font-size: 0.85em\">\n",
       "  </div>\n",
       "</div>"
      ],
      "text/plain": [
       "\n",
       "task co-op: 100.0% [1000/1000]"
      ]
     },
     "metadata": {},
     "output_type": "display_data"
    }
   ],
   "source": [
    "import time\n",
    "\n",
    "from utils.progress import Progress\n",
    "from utils.progress.iterators import co_op\n",
    "\n",
    "# Automatically allow other tasks to run.\n",
    "async for _ in co_op(Progress(range(1000), description='task co-op')):\n",
    "    # This sleep statement isn't async, so it does _not_ allow other tasks to run.\n",
    "    # It's just here to simulate work.\n",
    "    time.sleep(0.001)"
   ]
  },
  {
   "cell_type": "markdown",
   "id": "0390a5be",
   "metadata": {},
   "source": [
    "## Synchronous version"
   ]
  },
  {
   "cell_type": "code",
   "execution_count": null,
   "id": "d1804c6f",
   "metadata": {},
   "outputs": [
    {
     "data": {
      "text/html": [
       "<div style=\"width: 100%; padding: 5px 0; font-family: monospace\">\n",
       "  <div style=\"position: relative; height: calc(1em * 5/3); width: 100%\">\n",
       "    <div style=\"position: absolute; bottom: -4px; left: calc(100.0% - 4px)\">\n",
       "      <div style=\"width: 0; height: 0; border-left: 4px solid transparent; border-right: 4px solid transparent; border-bottom: 4px solid currentColor\"></div>\n",
       "    </div>\n",
       "    <div style=\"position: absolute; top: 0; left: 0; height: 100%; width: 100.0%; background-color: color(from currentColor srgb r g b / 0.1); border-bottom: 1px solid currentColor\"></div>\n",
       "    <div style=\"position: absolute; top: 0; left: 0; width: 100%; height: 100%; text-align: center; line-height: calc(1em * 5/3); font-size: 0.9em; white-space: nowrap; overflow: hidden; text-overflow: ellipsis; border-bottom: 1px dashed color(from currentColor srgb r g b / 0.5)\"><b>sync iterator</b>: 100.0% [1000/1000] [<b>00:02</b>/<00:00, 456.61 it/s]</div>\n",
       "  </div>\n",
       "  <div style=\"display: grid; grid-template-columns: repeat(0, minmax(80px, 1fr)); gap: 5px 0px; width: 100%; margin-top: 10px; font-size: 0.85em\">\n",
       "  </div>\n",
       "</div>"
      ],
      "text/plain": [
       "\n",
       "sync iterator: 100.0% [1000/1000]"
      ]
     },
     "metadata": {},
     "output_type": "display_data"
    },
    {
     "data": {
      "text/html": [
       "<div style=\"width: 100%; padding: 5px 0; font-family: monospace\">\n",
       "  <div style=\"position: relative; height: calc(1em * 5/3); width: 100%\">\n",
       "    <div style=\"position: absolute; bottom: -4px; left: calc(100.0% - 4px)\">\n",
       "      <div style=\"width: 0; height: 0; border-left: 4px solid transparent; border-right: 4px solid transparent; border-bottom: 4px solid currentColor\"></div>\n",
       "    </div>\n",
       "    <div style=\"position: absolute; top: 0; left: 0; height: 100%; width: 100.0%; background-color: color(from currentColor srgb r g b / 0.1); border-bottom: 1px solid currentColor\"></div>\n",
       "    <div style=\"position: absolute; top: 0; left: 0; width: 100%; height: 100%; text-align: center; line-height: calc(1em * 5/3); font-size: 0.9em; white-space: nowrap; overflow: hidden; text-overflow: ellipsis; border-bottom: 1px dashed color(from currentColor srgb r g b / 0.5)\"><b>sync context manager</b>: 100.0% [1000/1000] [<b>00:02</b>/<00:00, 443.74 it/s]</div>\n",
       "  </div>\n",
       "  <div style=\"display: grid; grid-template-columns: repeat(0, minmax(80px, 1fr)); gap: 5px 0px; width: 100%; margin-top: 10px; font-size: 0.85em\">\n",
       "  </div>\n",
       "</div>"
      ],
      "text/plain": [
       "\n",
       "sync context manager: 100.0% [1000/1000]"
      ]
     },
     "metadata": {},
     "output_type": "display_data"
    }
   ],
   "source": [
    "import time\n",
    "from utils.progress import SyncProgress\n",
    "\n",
    "# As an iterator\n",
    "for _ in SyncProgress(range(1000), description='sync iterator'):\n",
    "    time.sleep(0.001)\n",
    "\n",
    "# As a context manager (auto-closes)\n",
    "with SyncProgress(total=1000, description='sync context manager') as p:\n",
    "    for _ in range(1000):\n",
    "        p.count += 1\n",
    "        time.sleep(0.001)"
   ]
  }
 ],
 "metadata": {
  "kernelspec": {
   "display_name": "ex-color-transformer",
   "language": "python",
   "name": "python3"
  },
  "language_info": {
   "codemirror_mode": {
    "name": "ipython",
    "version": 3
   },
   "file_extension": ".py",
   "mimetype": "text/x-python",
   "name": "python",
   "nbconvert_exporter": "python",
   "pygments_lexer": "ipython3",
   "version": "3.12.10"
  }
 },
 "nbformat": 4,
 "nbformat_minor": 5
}
