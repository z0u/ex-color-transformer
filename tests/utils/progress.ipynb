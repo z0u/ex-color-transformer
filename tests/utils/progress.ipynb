{
 "cells": [
  {
   "cell_type": "markdown",
   "id": "c3c43878",
   "metadata": {},
   "source": [
    "This progress bar provides functionality like tqdm and FastProgress, but:\n",
    "- It doesn't use ipywidgets\n",
    "- Its styling _just works_ (always fills the width)\n",
    "\n",
    "_Unlike_ tqdm, `AsyncProgress` is strictly async: it doesn't run on a separate thread. That means for it to draw, your code needs to wait for some async operation. If your code doesn't do any actual async operations, you can use `asyncio.sleep(0)` to briefly allow it to draw. It will still only draw when it needs to, taking its internal rate limit into account.\n",
    "\n",
    "There's no `update` method: to get it to update, you can either use it as an iterator, or write to its attributes. For example, setting the `count` or `metrics` schedules a redraw."
   ]
  },
  {
   "cell_type": "code",
   "execution_count": 1,
   "id": "5e298391",
   "metadata": {},
   "outputs": [
    {
     "data": {
      "text/html": [
       "<div style=\"width: 100%; padding: 5px 0; font-family: monospace\">\n",
       "  <div style=\"position: relative; height: calc(1em * 5/3); width: 100%; margin-bottom: 2em\">\n",
       "    <div style=\"position: absolute; left: 0.0%; border-left: 0.5px solid currentColor; top: 100%; font-size: 70%; padding: 3px 2px 0\">0</div>\n",
       "    <div style=\"position: absolute; left: 10.0%; border-left: 0.5px solid currentColor; top: 100%; font-size: 70%; padding: 3px 2px 0\">100</div>\n",
       "    <div style=\"position: absolute; left: 20.0%; border-left: 0.5px solid currentColor; top: 100%; font-size: 70%; padding: 3px 2px 0\">200</div>\n",
       "    <div style=\"position: absolute; left: 30.0%; border-left: 0.5px solid currentColor; top: 100%; font-size: 70%; padding: 3px 2px 0\">300</div>\n",
       "    <div style=\"position: absolute; left: 40.0%; border-left: 0.5px solid currentColor; top: 100%; font-size: 70%; padding: 3px 2px 0\">400</div>\n",
       "    <div style=\"position: absolute; left: 50.0%; border-left: 0.5px solid currentColor; top: 100%; font-size: 70%; padding: 3px 2px 0\">500</div>\n",
       "    <div style=\"position: absolute; left: 60.0%; border-left: 0.5px solid currentColor; top: 100%; font-size: 70%; padding: 3px 2px 0\">600</div>\n",
       "    <div style=\"position: absolute; left: 70.0%; border-left: 0.5px solid currentColor; top: 100%; font-size: 70%; padding: 3px 2px 0\">700</div>\n",
       "    <div style=\"position: absolute; left: 80.0%; border-left: 0.5px solid currentColor; top: 100%; font-size: 70%; padding: 3px 2px 0\">800</div>\n",
       "    <div style=\"position: absolute; left: 90.0%; border-left: 0.5px solid currentColor; top: 100%; font-size: 70%; padding: 3px 2px 0\">900</div>\n",
       "    <div style=\"position: absolute; right: 0.1%; border-right: 0.5px solid currentColor; top: 100%; font-size: 70%; padding: 3px 2px 0\">1000</div>\n",
       "    <div style=\"position: absolute; bottom: -4px; left: calc(100.0% - 4px)\">\n",
       "      <div style=\"border-left: 4px solid transparent; border-right: 4px solid transparent; border-bottom: 4px solid currentColor\"></div>\n",
       "    </div>\n",
       "    <div style=\"position: absolute; height: 100%; width: 100.0%; background-color: color(from currentColor srgb r g b / 0.1); border-bottom: 1px solid currentColor\"></div>\n",
       "    <div style=\"position: absolute; width: 100%; height: 100%; text-align: center; line-height: calc((1em * 5/3) / 0.9); font-size: 90%; white-space: nowrap; overflow: hidden; text-overflow: ellipsis; border-bottom: 1px dashed color(from currentColor srgb r g b / 0.5)\"><b>context manager</b>: 100.0% [1000/1000] [<b>00:02</b>/<00:00, 492.62 it/s]</div>\n",
       "  </div>\n",
       "  <div style=\"display: grid; grid-template-columns: repeat(0, minmax(80px, 1fr)); gap: 5px 0px; width: 100%; margin: 1em 0; font-size: 0.85em\">\n",
       "  </div>\n",
       "</div>"
      ],
      "text/plain": [
       "context manager: 100.0% [1000/1000]"
      ]
     },
     "metadata": {},
     "output_type": "display_data"
    },
    {
     "data": {
      "text/html": [
       "<div style=\"width: 100%; padding: 5px 0; font-family: monospace\">\n",
       "  <div style=\"position: relative; height: calc(1em * 5/3); width: 100%; margin-bottom: 1em\">\n",
       "    <div style=\"position: absolute; bottom: -4px; left: calc(100.0% - 4px)\">\n",
       "      <div style=\"border-left: 4px solid transparent; border-right: 4px solid transparent; border-bottom: 4px solid currentColor\"></div>\n",
       "    </div>\n",
       "    <div style=\"position: absolute; height: 100%; width: 100.0%; background-color: color(from currentColor srgb r g b / 0.1); border-bottom: 1px solid currentColor\"></div>\n",
       "    <div style=\"position: absolute; width: 100%; height: 100%; text-align: center; line-height: calc((1em * 5/3) / 0.9); font-size: 90%; white-space: nowrap; overflow: hidden; text-overflow: ellipsis; border-bottom: 1px dashed color(from currentColor srgb r g b / 0.5)\"><b>iterator</b>: 100.0% [1000/1000] [<b>00:02</b>/<00:00, 491.19 it/s]</div>\n",
       "  </div>\n",
       "  <div style=\"display: grid; grid-template-columns: repeat(0, minmax(80px, 1fr)); gap: 5px 0px; width: 100%; margin: 1em 0; font-size: 0.85em\">\n",
       "  </div>\n",
       "</div>"
      ],
      "text/plain": [
       "iterator: 100.0% [1000/1000]"
      ]
     },
     "metadata": {},
     "output_type": "display_data"
    },
    {
     "data": {
      "text/html": [
       "<div style=\"width: 100%; padding: 5px 0; font-family: monospace\">\n",
       "  <div style=\"position: relative; height: calc(1em * 5/3); width: 100%; margin-bottom: 2em\">\n",
       "    <div style=\"position: absolute; left: 0.0%; border-left: 0.5px solid currentColor; top: 100%; font-size: 70%; padding: 3px 2px 0\">0</div>\n",
       "    <div style=\"position: absolute; left: 1.0%; border-left: 0.5px solid currentColor; top: 100%; height: 3.5px; font-size: 0\">10</div>\n",
       "    <div style=\"position: absolute; left: 2.0%; border-left: 0.5px solid currentColor; top: 100%; height: 3.5px; font-size: 0\">20</div>\n",
       "    <div style=\"position: absolute; left: 3.0%; border-left: 0.5px solid currentColor; top: 100%; height: 3.5px; font-size: 0\">30</div>\n",
       "    <div style=\"position: absolute; left: 4.0%; border-left: 0.5px solid currentColor; top: 100%; height: 3.5px; font-size: 0\">40</div>\n",
       "    <div style=\"position: absolute; left: 5.0%; border-left: 0.5px solid currentColor; top: 100%; height: 3.5px; font-size: 0\">50</div>\n",
       "    <div style=\"position: absolute; left: 6.0%; border-left: 0.5px solid currentColor; top: 100%; height: 3.5px; font-size: 0\">60</div>\n",
       "    <div style=\"position: absolute; left: 7.0%; border-left: 0.5px solid currentColor; top: 100%; height: 3.5px; font-size: 0\">70</div>\n",
       "    <div style=\"position: absolute; left: 8.0%; border-left: 0.5px solid currentColor; top: 100%; height: 3.5px; font-size: 0\">80</div>\n",
       "    <div style=\"position: absolute; left: 9.0%; border-left: 0.5px solid currentColor; top: 100%; height: 3.5px; font-size: 0\">90</div>\n",
       "    <div style=\"position: absolute; left: 10.0%; border-left: 0.5px solid currentColor; top: 100%; font-size: 70%; padding: 3px 2px 0\">100</div>\n",
       "    <div style=\"position: absolute; left: 11.0%; border-left: 0.5px solid currentColor; top: 100%; height: 3.5px; font-size: 0\">110</div>\n",
       "    <div style=\"position: absolute; left: 12.0%; border-left: 0.5px solid currentColor; top: 100%; height: 3.5px; font-size: 0\">120</div>\n",
       "    <div style=\"position: absolute; left: 13.0%; border-left: 0.5px solid currentColor; top: 100%; height: 3.5px; font-size: 0\">130</div>\n",
       "    <div style=\"position: absolute; left: 14.0%; border-left: 0.5px solid currentColor; top: 100%; height: 3.5px; font-size: 0\">140</div>\n",
       "    <div style=\"position: absolute; left: 15.0%; border-left: 0.5px solid currentColor; top: 100%; height: 3.5px; font-size: 0\">150</div>\n",
       "    <div style=\"position: absolute; left: 16.0%; border-left: 0.5px solid currentColor; top: 100%; height: 3.5px; font-size: 0\">160</div>\n",
       "    <div style=\"position: absolute; left: 17.0%; border-left: 0.5px solid currentColor; top: 100%; height: 3.5px; font-size: 0\">170</div>\n",
       "    <div style=\"position: absolute; left: 18.0%; border-left: 0.5px solid currentColor; top: 100%; height: 3.5px; font-size: 0\">180</div>\n",
       "    <div style=\"position: absolute; left: 19.0%; border-left: 0.5px solid currentColor; top: 100%; height: 3.5px; font-size: 0\">190</div>\n",
       "    <div style=\"position: absolute; left: 20.0%; border-left: 0.5px solid currentColor; top: 100%; font-size: 70%; padding: 3px 2px 0\">200</div>\n",
       "    <div style=\"position: absolute; left: 21.0%; border-left: 0.5px solid currentColor; top: 100%; height: 3.5px; font-size: 0\">210</div>\n",
       "    <div style=\"position: absolute; left: 22.0%; border-left: 0.5px solid currentColor; top: 100%; height: 3.5px; font-size: 0\">220</div>\n",
       "    <div style=\"position: absolute; left: 23.0%; border-left: 0.5px solid currentColor; top: 100%; height: 3.5px; font-size: 0\">230</div>\n",
       "    <div style=\"position: absolute; left: 24.0%; border-left: 0.5px solid currentColor; top: 100%; height: 3.5px; font-size: 0\">240</div>\n",
       "    <div style=\"position: absolute; left: 25.0%; border-left: 0.5px solid currentColor; top: 100%; height: 3.5px; font-size: 0\">250</div>\n",
       "    <div style=\"position: absolute; left: 26.0%; border-left: 0.5px solid currentColor; top: 100%; height: 3.5px; font-size: 0\">260</div>\n",
       "    <div style=\"position: absolute; left: 27.0%; border-left: 0.5px solid currentColor; top: 100%; height: 3.5px; font-size: 0\">270</div>\n",
       "    <div style=\"position: absolute; left: 28.0%; border-left: 0.5px solid currentColor; top: 100%; height: 3.5px; font-size: 0\">280</div>\n",
       "    <div style=\"position: absolute; left: 29.0%; border-left: 0.5px solid currentColor; top: 100%; height: 3.5px; font-size: 0\">290</div>\n",
       "    <div style=\"position: absolute; left: 30.0%; border-left: 0.5px solid currentColor; top: 100%; font-size: 70%; padding: 3px 2px 0\">300</div>\n",
       "    <div style=\"position: absolute; left: 31.0%; border-left: 0.5px solid currentColor; top: 100%; height: 3.5px; font-size: 0\">310</div>\n",
       "    <div style=\"position: absolute; left: 32.0%; border-left: 0.5px solid currentColor; top: 100%; height: 3.5px; font-size: 0\">320</div>\n",
       "    <div style=\"position: absolute; left: 33.0%; border-left: 0.5px solid currentColor; top: 100%; height: 3.5px; font-size: 0\">330</div>\n",
       "    <div style=\"position: absolute; left: 34.0%; border-left: 0.5px solid currentColor; top: 100%; height: 3.5px; font-size: 0\">340</div>\n",
       "    <div style=\"position: absolute; left: 35.0%; border-left: 0.5px solid currentColor; top: 100%; height: 3.5px; font-size: 0\">350</div>\n",
       "    <div style=\"position: absolute; left: 36.0%; border-left: 0.5px solid currentColor; top: 100%; height: 3.5px; font-size: 0\">360</div>\n",
       "    <div style=\"position: absolute; left: 37.0%; border-left: 0.5px solid currentColor; top: 100%; height: 3.5px; font-size: 0\">370</div>\n",
       "    <div style=\"position: absolute; left: 38.0%; border-left: 0.5px solid currentColor; top: 100%; height: 3.5px; font-size: 0\">380</div>\n",
       "    <div style=\"position: absolute; left: 39.0%; border-left: 0.5px solid currentColor; top: 100%; height: 3.5px; font-size: 0\">390</div>\n",
       "    <div style=\"position: absolute; left: 40.0%; border-left: 0.5px solid currentColor; top: 100%; font-size: 70%; padding: 3px 2px 0\">400</div>\n",
       "    <div style=\"position: absolute; left: 41.0%; border-left: 0.5px solid currentColor; top: 100%; height: 3.5px; font-size: 0\">410</div>\n",
       "    <div style=\"position: absolute; left: 42.0%; border-left: 0.5px solid currentColor; top: 100%; height: 3.5px; font-size: 0\">420</div>\n",
       "    <div style=\"position: absolute; left: 43.0%; border-left: 0.5px solid currentColor; top: 100%; height: 3.5px; font-size: 0\">430</div>\n",
       "    <div style=\"position: absolute; left: 44.0%; border-left: 0.5px solid currentColor; top: 100%; height: 3.5px; font-size: 0\">440</div>\n",
       "    <div style=\"position: absolute; left: 45.0%; border-left: 0.5px solid currentColor; top: 100%; height: 3.5px; font-size: 0\">450</div>\n",
       "    <div style=\"position: absolute; left: 46.0%; border-left: 0.5px solid currentColor; top: 100%; height: 3.5px; font-size: 0\">460</div>\n",
       "    <div style=\"position: absolute; left: 47.0%; border-left: 0.5px solid currentColor; top: 100%; height: 3.5px; font-size: 0\">470</div>\n",
       "    <div style=\"position: absolute; left: 48.0%; border-left: 0.5px solid currentColor; top: 100%; height: 3.5px; font-size: 0\">480</div>\n",
       "    <div style=\"position: absolute; left: 49.0%; border-left: 0.5px solid currentColor; top: 100%; height: 3.5px; font-size: 0\">490</div>\n",
       "    <div style=\"position: absolute; left: 50.0%; border-left: 0.5px solid currentColor; top: 100%; font-size: 70%; padding: 3px 2px 0\">500</div>\n",
       "    <div style=\"position: absolute; left: 51.0%; border-left: 0.5px solid currentColor; top: 100%; height: 3.5px; font-size: 0\">510</div>\n",
       "    <div style=\"position: absolute; left: 52.0%; border-left: 0.5px solid currentColor; top: 100%; height: 3.5px; font-size: 0\">520</div>\n",
       "    <div style=\"position: absolute; left: 53.0%; border-left: 0.5px solid currentColor; top: 100%; height: 3.5px; font-size: 0\">530</div>\n",
       "    <div style=\"position: absolute; left: 54.0%; border-left: 0.5px solid currentColor; top: 100%; height: 3.5px; font-size: 0\">540</div>\n",
       "    <div style=\"position: absolute; left: 55.0%; border-left: 0.5px solid currentColor; top: 100%; height: 3.5px; font-size: 0\">550</div>\n",
       "    <div style=\"position: absolute; left: 56.0%; border-left: 0.5px solid currentColor; top: 100%; height: 3.5px; font-size: 0\">560</div>\n",
       "    <div style=\"position: absolute; left: 57.0%; border-left: 0.5px solid currentColor; top: 100%; height: 3.5px; font-size: 0\">570</div>\n",
       "    <div style=\"position: absolute; left: 58.0%; border-left: 0.5px solid currentColor; top: 100%; height: 3.5px; font-size: 0\">580</div>\n",
       "    <div style=\"position: absolute; left: 59.0%; border-left: 0.5px solid currentColor; top: 100%; height: 3.5px; font-size: 0\">590</div>\n",
       "    <div style=\"position: absolute; left: 60.0%; border-left: 0.5px solid currentColor; top: 100%; font-size: 70%; padding: 3px 2px 0\">600</div>\n",
       "    <div style=\"position: absolute; left: 61.0%; border-left: 0.5px solid currentColor; top: 100%; height: 3.5px; font-size: 0\">610</div>\n",
       "    <div style=\"position: absolute; left: 62.0%; border-left: 0.5px solid currentColor; top: 100%; height: 3.5px; font-size: 0\">620</div>\n",
       "    <div style=\"position: absolute; left: 63.0%; border-left: 0.5px solid currentColor; top: 100%; height: 3.5px; font-size: 0\">630</div>\n",
       "    <div style=\"position: absolute; left: 64.0%; border-left: 0.5px solid currentColor; top: 100%; height: 3.5px; font-size: 0\">640</div>\n",
       "    <div style=\"position: absolute; left: 65.0%; border-left: 0.5px solid currentColor; top: 100%; height: 3.5px; font-size: 0\">650</div>\n",
       "    <div style=\"position: absolute; left: 66.0%; border-left: 0.5px solid currentColor; top: 100%; height: 3.5px; font-size: 0\">660</div>\n",
       "    <div style=\"position: absolute; left: 67.0%; border-left: 0.5px solid currentColor; top: 100%; height: 3.5px; font-size: 0\">670</div>\n",
       "    <div style=\"position: absolute; left: 68.0%; border-left: 0.5px solid currentColor; top: 100%; height: 3.5px; font-size: 0\">680</div>\n",
       "    <div style=\"position: absolute; left: 69.0%; border-left: 0.5px solid currentColor; top: 100%; height: 3.5px; font-size: 0\">690</div>\n",
       "    <div style=\"position: absolute; left: 70.0%; border-left: 0.5px solid currentColor; top: 100%; font-size: 70%; padding: 3px 2px 0\">700</div>\n",
       "    <div style=\"position: absolute; left: 71.0%; border-left: 0.5px solid currentColor; top: 100%; height: 3.5px; font-size: 0\">710</div>\n",
       "    <div style=\"position: absolute; left: 72.0%; border-left: 0.5px solid currentColor; top: 100%; height: 3.5px; font-size: 0\">720</div>\n",
       "    <div style=\"position: absolute; left: 73.0%; border-left: 0.5px solid currentColor; top: 100%; height: 3.5px; font-size: 0\">730</div>\n",
       "    <div style=\"position: absolute; left: 74.0%; border-left: 0.5px solid currentColor; top: 100%; height: 3.5px; font-size: 0\">740</div>\n",
       "    <div style=\"position: absolute; left: 75.0%; border-left: 0.5px solid currentColor; top: 100%; height: 3.5px; font-size: 0\">750</div>\n",
       "    <div style=\"position: absolute; left: 76.0%; border-left: 0.5px solid currentColor; top: 100%; height: 3.5px; font-size: 0\">760</div>\n",
       "    <div style=\"position: absolute; left: 77.0%; border-left: 0.5px solid currentColor; top: 100%; height: 3.5px; font-size: 0\">770</div>\n",
       "    <div style=\"position: absolute; left: 78.0%; border-left: 0.5px solid currentColor; top: 100%; height: 3.5px; font-size: 0\">780</div>\n",
       "    <div style=\"position: absolute; left: 79.0%; border-left: 0.5px solid currentColor; top: 100%; height: 3.5px; font-size: 0\">790</div>\n",
       "    <div style=\"position: absolute; left: 80.0%; border-left: 0.5px solid currentColor; top: 100%; font-size: 70%; padding: 3px 2px 0\">800</div>\n",
       "    <div style=\"position: absolute; left: 81.0%; border-left: 0.5px solid currentColor; top: 100%; height: 3.5px; font-size: 0\">810</div>\n",
       "    <div style=\"position: absolute; left: 82.0%; border-left: 0.5px solid currentColor; top: 100%; height: 3.5px; font-size: 0\">820</div>\n",
       "    <div style=\"position: absolute; left: 83.0%; border-left: 0.5px solid currentColor; top: 100%; height: 3.5px; font-size: 0\">830</div>\n",
       "    <div style=\"position: absolute; left: 84.0%; border-left: 0.5px solid currentColor; top: 100%; height: 3.5px; font-size: 0\">840</div>\n",
       "    <div style=\"position: absolute; left: 85.0%; border-left: 0.5px solid currentColor; top: 100%; height: 3.5px; font-size: 0\">850</div>\n",
       "    <div style=\"position: absolute; left: 86.0%; border-left: 0.5px solid currentColor; top: 100%; height: 3.5px; font-size: 0\">860</div>\n",
       "    <div style=\"position: absolute; left: 87.0%; border-left: 0.5px solid currentColor; top: 100%; height: 3.5px; font-size: 0\">870</div>\n",
       "    <div style=\"position: absolute; left: 88.0%; border-left: 0.5px solid currentColor; top: 100%; height: 3.5px; font-size: 0\">880</div>\n",
       "    <div style=\"position: absolute; left: 89.0%; border-left: 0.5px solid currentColor; top: 100%; height: 3.5px; font-size: 0\">890</div>\n",
       "    <div style=\"position: absolute; left: 90.0%; border-left: 0.5px solid currentColor; top: 100%; height: 3.5px; font-size: 0\">900</div>\n",
       "    <div style=\"position: absolute; left: 91.0%; border-left: 0.5px solid currentColor; top: 100%; height: 3.5px; font-size: 0\">910</div>\n",
       "    <div style=\"position: absolute; left: 92.0%; border-left: 0.5px solid currentColor; top: 100%; height: 3.5px; font-size: 0\">920</div>\n",
       "    <div style=\"position: absolute; left: 93.0%; border-left: 0.5px solid currentColor; top: 100%; height: 3.5px; font-size: 0\">930</div>\n",
       "    <div style=\"position: absolute; left: 94.0%; border-left: 0.5px solid currentColor; top: 100%; height: 3.5px; font-size: 0\">940</div>\n",
       "    <div style=\"position: absolute; left: 95.0%; border-left: 0.5px solid currentColor; top: 100%; height: 3.5px; font-size: 0\">950</div>\n",
       "    <div style=\"position: absolute; right: 4.0%; border-right: 0.5px solid currentColor; top: 100%; height: 3.5px; font-size: 0\">960</div>\n",
       "    <div style=\"position: absolute; right: 3.0%; border-right: 0.5px solid currentColor; top: 100%; height: 3.5px; font-size: 0\">970</div>\n",
       "    <div style=\"position: absolute; right: 2.0%; border-right: 0.5px solid currentColor; top: 100%; height: 3.5px; font-size: 0\">980</div>\n",
       "    <div style=\"position: absolute; right: 1.0%; border-right: 0.5px solid currentColor; top: 100%; font-size: 70%; padding: 3px 2px 0\">990</div>\n",
       "    <div style=\"position: absolute; bottom: -4px; left: calc(100.0% - 4px)\">\n",
       "      <div style=\"border-left: 4px solid transparent; border-right: 4px solid transparent; border-bottom: 4px solid currentColor\"></div>\n",
       "    </div>\n",
       "    <div style=\"position: absolute; height: 100%; width: 100.0%; background-color: color(from currentColor srgb r g b / 0.1); border-bottom: 1px solid currentColor\"></div>\n",
       "    <div style=\"position: absolute; width: 100%; height: 100%; text-align: center; line-height: calc((1em * 5/3) / 0.9); font-size: 90%; white-space: nowrap; overflow: hidden; text-overflow: ellipsis; border-bottom: 1px dashed color(from currentColor srgb r g b / 0.5)\"><b>assigned iter</b>: 100.0% [1000/1000] [<b>00:02</b>/<00:00, 494.73 it/s]</div>\n",
       "  </div>\n",
       "  <div style=\"display: grid; grid-template-columns: repeat(1, minmax(80px, 1fr)); gap: 5px 0px; width: 100%; margin: 1em 0; font-size: 0.85em\">\n",
       "    <div style=\"font-weight: bold; border-bottom: 0.5px solid currentColor; padding: 2px 10px; text-align: left; overflow: hidden; text-overflow: ellipsis; white-space: nowrap\">x**2</div>\n",
       "    <div style=\"padding: 2px 10px; text-align: left; overflow: hidden; text-overflow: ellipsis; white-space: nowrap\">1000000</div>\n",
       "  </div>\n",
       "</div>"
      ],
      "text/plain": [
       "assigned iter: 100.0% [1000/1000]"
      ]
     },
     "metadata": {},
     "output_type": "display_data"
    },
    {
     "data": {
      "text/html": [
       "<div style=\"width: 100%; padding: 5px 0; font-family: monospace\">\n",
       "  <div style=\"position: relative; height: calc(1em * 5/3); width: 100%; margin-bottom: 1em\">\n",
       "    <div style=\"position: absolute; bottom: -4px; left: calc(100.0% - 4px)\">\n",
       "      <div style=\"border-left: 4px solid transparent; border-right: 4px solid transparent; border-bottom: 4px solid currentColor\"></div>\n",
       "    </div>\n",
       "    <div style=\"position: absolute; height: 100%; width: 100.0%; background-color: color(from currentColor srgb r g b / 0.1); border-bottom: 1px solid currentColor\"></div>\n",
       "    <div style=\"position: absolute; width: 100%; height: 100%; text-align: center; line-height: calc((1em * 5/3) / 0.9); font-size: 90%; white-space: nowrap; overflow: hidden; text-overflow: ellipsis; border-bottom: 1px dashed color(from currentColor srgb r g b / 0.5)\"><b>manual</b>: 100.0% [1000/1000] [<b>00:02</b>/<00:00, 491.24 it/s]</div>\n",
       "  </div>\n",
       "  <div style=\"display: grid; grid-template-columns: repeat(0, minmax(80px, 1fr)); gap: 5px 0px; width: 100%; margin: 1em 0; font-size: 0.85em\">\n",
       "  </div>\n",
       "</div>"
      ],
      "text/plain": [
       "manual: 100.0% [1000/1000]"
      ]
     },
     "metadata": {},
     "output_type": "display_data"
    }
   ],
   "source": [
    "import asyncio\n",
    "\n",
    "from utils.progress import AsyncProgress\n",
    "\n",
    "\n",
    "# As a context manager (auto-closes)\n",
    "async with AsyncProgress(total=1000, description='context manager') as p:\n",
    "    for i in range(1000):\n",
    "        p.count += 1\n",
    "        if i % 100 == 0:\n",
    "            p.mark(f'{i:d}')\n",
    "        await asyncio.sleep(0.001)\n",
    "    p.mark(f'{1000:d}')\n",
    "\n",
    "# As an iterator\n",
    "async for _ in AsyncProgress(range(1000), description='iterator'):\n",
    "    await asyncio.sleep(0.001)\n",
    "\n",
    "# As an iterator with assignment, to allow setting other attributes\n",
    "async for i in (p := AsyncProgress(range(1000), description=('assigned iter'))):\n",
    "    x = i + 1\n",
    "    p.metrics |= {'x**2': x**2}\n",
    "    if i % 10 == 0:\n",
    "        p.mark(f'{i:d}')\n",
    "    await asyncio.sleep(0.001)\n",
    "\n",
    "# Fully manual\n",
    "p = AsyncProgress(total=1000, description='manual')\n",
    "for _ in range(1000):\n",
    "    p.count += 1\n",
    "    await asyncio.sleep(0.001)\n",
    "p.close()"
   ]
  },
  {
   "cell_type": "markdown",
   "id": "94fabc0d",
   "metadata": {},
   "source": [
    "## Automatic task cooperation\n",
    "\n",
    "If you don't care when other async tasks run, you can use the `co_op` utility. It wraps an iterable (such as `AsyncProgress`), calling `asyncio.sleep(0)` once per iteration. You still need to use `async for`, but you don't need to do other async operations."
   ]
  },
  {
   "cell_type": "code",
   "execution_count": 2,
   "id": "35f3a7ee",
   "metadata": {},
   "outputs": [
    {
     "data": {
      "text/html": [
       "<div style=\"width: 100%; padding: 5px 0; font-family: monospace\">\n",
       "  <div style=\"position: relative; height: calc(1em * 5/3); width: 100%; margin-bottom: 1em\">\n",
       "    <div style=\"position: absolute; bottom: -4px; left: calc(100.0% - 4px)\">\n",
       "      <div style=\"border-left: 4px solid transparent; border-right: 4px solid transparent; border-bottom: 4px solid currentColor\"></div>\n",
       "    </div>\n",
       "    <div style=\"position: absolute; height: 100%; width: 100.0%; background-color: color(from currentColor srgb r g b / 0.1); border-bottom: 1px solid currentColor\"></div>\n",
       "    <div style=\"position: absolute; width: 100%; height: 100%; text-align: center; line-height: calc((1em * 5/3) / 0.9); font-size: 90%; white-space: nowrap; overflow: hidden; text-overflow: ellipsis; border-bottom: 1px dashed color(from currentColor srgb r g b / 0.5)\"><b>task co-op</b>: 100.0% [1000/1000] [<b>00:02</b>/<00:00, 469.15 it/s]</div>\n",
       "  </div>\n",
       "  <div style=\"display: grid; grid-template-columns: repeat(0, minmax(80px, 1fr)); gap: 5px 0px; width: 100%; margin: 1em 0; font-size: 0.85em\">\n",
       "  </div>\n",
       "</div>"
      ],
      "text/plain": [
       "task co-op: 100.0% [1000/1000]"
      ]
     },
     "metadata": {},
     "output_type": "display_data"
    }
   ],
   "source": [
    "import time\n",
    "\n",
    "from utils.progress import AsyncProgress\n",
    "from utils.progress.iterators import co_op\n",
    "\n",
    "# Automatically allow other tasks to run.\n",
    "async for _ in co_op(AsyncProgress(range(1000), description='task co-op')):\n",
    "    # This sleep statement isn't async, so it does _not_ allow other tasks to run.\n",
    "    # It's just here to simulate work.\n",
    "    time.sleep(0.001)"
   ]
  },
  {
   "cell_type": "markdown",
   "id": "0390a5be",
   "metadata": {},
   "source": [
    "## Synchronous version"
   ]
  },
  {
   "cell_type": "code",
   "execution_count": 3,
   "id": "d1804c6f",
   "metadata": {},
   "outputs": [
    {
     "data": {
      "text/html": [
       "<div style=\"width: 100%; padding: 5px 0; font-family: monospace\">\n",
       "  <div style=\"position: relative; height: calc(1em * 5/3); width: 100%; margin-bottom: 1em\">\n",
       "    <div style=\"position: absolute; bottom: -4px; left: calc(100.0% - 4px)\">\n",
       "      <div style=\"border-left: 4px solid transparent; border-right: 4px solid transparent; border-bottom: 4px solid currentColor\"></div>\n",
       "    </div>\n",
       "    <div style=\"position: absolute; height: 100%; width: 100.0%; background-color: color(from currentColor srgb r g b / 0.1); border-bottom: 1px solid currentColor\"></div>\n",
       "    <div style=\"position: absolute; width: 100%; height: 100%; text-align: center; line-height: calc((1em * 5/3) / 0.9); font-size: 90%; white-space: nowrap; overflow: hidden; text-overflow: ellipsis; border-bottom: 1px dashed color(from currentColor srgb r g b / 0.5)\"><b>sync iterator</b>: 100.0% [1000/1000] [<b>00:02</b>/<00:00, 469.39 it/s]</div>\n",
       "  </div>\n",
       "  <div style=\"display: grid; grid-template-columns: repeat(0, minmax(80px, 1fr)); gap: 5px 0px; width: 100%; margin: 1em 0; font-size: 0.85em\">\n",
       "  </div>\n",
       "</div>"
      ],
      "text/plain": [
       "sync iterator: 100.0% [1000/1000]"
      ]
     },
     "metadata": {},
     "output_type": "display_data"
    },
    {
     "data": {
      "text/html": [
       "<div style=\"width: 100%; padding: 5px 0; font-family: monospace\">\n",
       "  <div style=\"position: relative; height: calc(1em * 5/3); width: 100%; margin-bottom: 1em\">\n",
       "    <div style=\"position: absolute; bottom: -4px; left: calc(100.0% - 4px)\">\n",
       "      <div style=\"border-left: 4px solid transparent; border-right: 4px solid transparent; border-bottom: 4px solid currentColor\"></div>\n",
       "    </div>\n",
       "    <div style=\"position: absolute; height: 100%; width: 100.0%; background-color: color(from currentColor srgb r g b / 0.1); border-bottom: 1px solid currentColor\"></div>\n",
       "    <div style=\"position: absolute; width: 100%; height: 100%; text-align: center; line-height: calc((1em * 5/3) / 0.9); font-size: 90%; white-space: nowrap; overflow: hidden; text-overflow: ellipsis; border-bottom: 1px dashed color(from currentColor srgb r g b / 0.5)\"><b>sync context manager</b>: 100.0% [1000/1000] [<b>00:02</b>/<00:00, 456.14 it/s]</div>\n",
       "  </div>\n",
       "  <div style=\"display: grid; grid-template-columns: repeat(0, minmax(80px, 1fr)); gap: 5px 0px; width: 100%; margin: 1em 0; font-size: 0.85em\">\n",
       "  </div>\n",
       "</div>"
      ],
      "text/plain": [
       "sync context manager: 100.0% [1000/1000]"
      ]
     },
     "metadata": {},
     "output_type": "display_data"
    }
   ],
   "source": [
    "import time\n",
    "from utils.progress import SyncProgress\n",
    "\n",
    "# As an iterator\n",
    "for _ in SyncProgress(range(1000), description='sync iterator'):\n",
    "    time.sleep(0.001)\n",
    "\n",
    "# As a context manager (auto-closes)\n",
    "with SyncProgress(total=1000, description='sync context manager') as p:\n",
    "    for _ in range(1000):\n",
    "        p.count += 1\n",
    "        time.sleep(0.001)"
   ]
  }
 ],
 "metadata": {
  "kernelspec": {
   "display_name": "ex-color-transformer",
   "language": "python",
   "name": "python3"
  },
  "language_info": {
   "codemirror_mode": {
    "name": "ipython",
    "version": 3
   },
   "file_extension": ".py",
   "mimetype": "text/x-python",
   "name": "python",
   "nbconvert_exporter": "python",
   "pygments_lexer": "ipython3",
   "version": "3.12.10"
  }
 },
 "nbformat": 4,
 "nbformat_minor": 5
}
