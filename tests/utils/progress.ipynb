{
 "cells": [
  {
   "cell_type": "markdown",
   "id": "c3c43878",
   "metadata": {},
   "source": [
    "This progress bar provides functionality like tqdm and FastProgress, but:\n",
    "- It doesn't use ipywidgets\n",
    "- Its styling _just works_ (always fills the width)\n",
    "\n",
    "_Unlike_ tqdm, `Progress` is strictly async."
   ]
  },
  {
   "cell_type": "code",
   "execution_count": null,
   "id": "5e298391",
   "metadata": {},
   "outputs": [
    {
     "data": {
      "text/html": [
       "<div style=\"width: 100%; padding: 5px 0; font-family: monospace\">\n",
       "  <div style=\"position: relative; height: calc(1em * 5/3); width: 100%\">\n",
       "    <div style=\"position: absolute; bottom: -4px; left: calc(100.0% - 4px)\">\n",
       "      <div style=\"width: 0; height: 0; border-left: 4px solid transparent; border-right: 4px solid transparent; border-bottom: 4px solid currentColor\"></div>\n",
       "    </div>\n",
       "    <div style=\"position: absolute; top: 0; left: 0; height: 100%; width: 100.0%; background-color: color(from currentColor srgb r g b / 0.1); border-bottom: 1px solid currentColor\"></div>\n",
       "    <div style=\"position: absolute; top: 0; left: 0; width: 100%; height: 100%; text-align: center; line-height: calc(1em * 5/3); font-size: 0.9em; white-space: nowrap; overflow: hidden; text-overflow: ellipsis; border-bottom: 1px dashed color(from currentColor srgb r g b / 0.5)\">iterator: 100.0% [1000/1000] [00:02/<00:00, 486.41 it/s]</div>\n",
       "  </div>\n",
       "  <div style=\"display: grid; grid-template-columns: repeat(0, minmax(80px, 1fr)); gap: 5px 0px; width: 100%; margin-top: 10px; font-size: 0.85em\">\n",
       "  </div>\n",
       "</div>"
      ],
      "text/plain": [
       "<IPython.core.display.HTML object>"
      ]
     },
     "metadata": {},
     "output_type": "display_data"
    },
    {
     "data": {
      "text/html": [
       "<div style=\"width: 100%; padding: 5px 0; font-family: monospace\">\n",
       "  <div style=\"position: relative; height: calc(1em * 5/3); width: 100%\">\n",
       "    <div style=\"position: absolute; bottom: -4px; left: calc(100.0% - 4px)\">\n",
       "      <div style=\"width: 0; height: 0; border-left: 4px solid transparent; border-right: 4px solid transparent; border-bottom: 4px solid currentColor\"></div>\n",
       "    </div>\n",
       "    <div style=\"position: absolute; top: 0; left: 0; height: 100%; width: 100.0%; background-color: color(from currentColor srgb r g b / 0.1); border-bottom: 1px solid currentColor\"></div>\n",
       "    <div style=\"position: absolute; top: 0; left: 0; width: 100%; height: 100%; text-align: center; line-height: calc(1em * 5/3); font-size: 0.9em; white-space: nowrap; overflow: hidden; text-overflow: ellipsis; border-bottom: 1px dashed color(from currentColor srgb r g b / 0.5)\">context manager: 100.0% [1000/1000] [00:02/<00:00, 451.76 it/s]</div>\n",
       "  </div>\n",
       "  <div style=\"display: grid; grid-template-columns: repeat(0, minmax(80px, 1fr)); gap: 5px 0px; width: 100%; margin-top: 10px; font-size: 0.85em\">\n",
       "  </div>\n",
       "</div>"
      ],
      "text/plain": [
       "<IPython.core.display.HTML object>"
      ]
     },
     "metadata": {},
     "output_type": "display_data"
    },
    {
     "data": {
      "text/html": [
       "<div style=\"width: 100%; padding: 5px 0; font-family: monospace\">\n",
       "  <div style=\"position: relative; height: calc(1em * 5/3); width: 100%\">\n",
       "    <div style=\"position: absolute; bottom: -4px; left: calc(100.0% - 4px)\">\n",
       "      <div style=\"width: 0; height: 0; border-left: 4px solid transparent; border-right: 4px solid transparent; border-bottom: 4px solid currentColor\"></div>\n",
       "    </div>\n",
       "    <div style=\"position: absolute; top: 0; left: 0; height: 100%; width: 100.0%; background-color: color(from currentColor srgb r g b / 0.1); border-bottom: 1px solid currentColor\"></div>\n",
       "    <div style=\"position: absolute; top: 0; left: 0; width: 100%; height: 100%; text-align: center; line-height: calc(1em * 5/3); font-size: 0.9em; white-space: nowrap; overflow: hidden; text-overflow: ellipsis; border-bottom: 1px dashed color(from currentColor srgb r g b / 0.5)\">assigned iter: 100.0% [1000/1000] [00:02/<00:00, 481.01 it/s]</div>\n",
       "  </div>\n",
       "  <div style=\"display: grid; grid-template-columns: repeat(1, minmax(80px, 1fr)); gap: 5px 0px; width: 100%; margin-top: 10px; font-size: 0.85em\">\n",
       "    <div style=\"font-weight: bold; border-bottom: 1px solid currentColor; padding-block: 2px; padding-inline: 10px; text-align: left; overflow: hidden; text-overflow: ellipsis; white-space: nowrap\">x**2</div>\n",
       "    <div style=\"padding-block: 2px; padding-inline: 10px; text-align: left; overflow: hidden; text-overflow: ellipsis; white-space: nowrap\">1000000</div>\n",
       "  </div>\n",
       "</div>"
      ],
      "text/plain": [
       "<IPython.core.display.HTML object>"
      ]
     },
     "metadata": {},
     "output_type": "display_data"
    },
    {
     "data": {
      "text/html": [
       "<div style=\"width: 100%; padding: 5px 0; font-family: monospace\">\n",
       "  <div style=\"position: relative; height: calc(1em * 5/3); width: 100%\">\n",
       "    <div style=\"position: absolute; bottom: -4px; left: calc(100.0% - 4px)\">\n",
       "      <div style=\"width: 0; height: 0; border-left: 4px solid transparent; border-right: 4px solid transparent; border-bottom: 4px solid currentColor\"></div>\n",
       "    </div>\n",
       "    <div style=\"position: absolute; top: 0; left: 0; height: 100%; width: 100.0%; background-color: color(from currentColor srgb r g b / 0.1); border-bottom: 1px solid currentColor\"></div>\n",
       "    <div style=\"position: absolute; top: 0; left: 0; width: 100%; height: 100%; text-align: center; line-height: calc(1em * 5/3); font-size: 0.9em; white-space: nowrap; overflow: hidden; text-overflow: ellipsis; border-bottom: 1px dashed color(from currentColor srgb r g b / 0.5)\">manual: 100.0% [1000/1000] [00:02/<00:00, 447.47 it/s]</div>\n",
       "  </div>\n",
       "  <div style=\"display: grid; grid-template-columns: repeat(0, minmax(80px, 1fr)); gap: 5px 0px; width: 100%; margin-top: 10px; font-size: 0.85em\">\n",
       "  </div>\n",
       "</div>"
      ],
      "text/plain": [
       "<IPython.core.display.HTML object>"
      ]
     },
     "metadata": {},
     "output_type": "display_data"
    }
   ],
   "source": [
    "import asyncio\n",
    "import time\n",
    "\n",
    "from utils.progress import Progress\n",
    "\n",
    "# As an iterator\n",
    "async for _ in Progress(range(1000), description='iterator'):\n",
    "    await asyncio.sleep(0.001)\n",
    "\n",
    "# As a context manager (auto-closes)\n",
    "async with Progress(total=1000, description='context manager') as p:\n",
    "    for _ in range(1000):\n",
    "        p.count += 1\n",
    "        await asyncio.sleep(0.001)\n",
    "\n",
    "# As an iterator with assignment, to allow setting other attributes\n",
    "async for i in (p := Progress(range(1000), description=('assigned iter'))):\n",
    "    x = i + 1\n",
    "    p.metrics |= {'x**2': x**2}\n",
    "    await asyncio.sleep(0.001)\n",
    "\n",
    "# Fully manual\n",
    "p = Progress(total=1000, description='manual')\n",
    "for _ in range(1000):\n",
    "    p.count += 1\n",
    "    await asyncio.sleep(0.001)\n",
    "# p.close()  # Force it to draw; not strictly required\n"
   ]
  },
  {
   "cell_type": "markdown",
   "id": "94fabc0d",
   "metadata": {},
   "source": [
    "## Auto-yield"
   ]
  },
  {
   "cell_type": "code",
   "execution_count": null,
   "id": "35f3a7ee",
   "metadata": {},
   "outputs": [],
   "source": [
    "\n",
    "async with Progress(total=2000, auto_yield=True) as p:\n",
    "    for _ in range(2000):\n",
    "        p.update()\n",
    "        time.sleep(0.001)\n",
    "\n",
    "async for _ in Progress(range(2000)):\n",
    "    time.sleep(0.001)"
   ]
  }
 ],
 "metadata": {
  "kernelspec": {
   "display_name": "ex-color-transformer",
   "language": "python",
   "name": "python3"
  },
  "language_info": {
   "codemirror_mode": {
    "name": "ipython",
    "version": 3
   },
   "file_extension": ".py",
   "mimetype": "text/x-python",
   "name": "python",
   "nbconvert_exporter": "python",
   "pygments_lexer": "ipython3",
   "version": "3.12.10"
  }
 },
 "nbformat": 4,
 "nbformat_minor": 5
}
