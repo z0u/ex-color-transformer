{
 "cells": [
  {
   "cell_type": "markdown",
   "id": "dce6413c",
   "metadata": {},
   "source": [
    "# Experiment tracking\n",
    "\n",
    "In this notebook, we use our self-hosted experiment tracker to record some metrics."
   ]
  },
  {
   "cell_type": "code",
   "execution_count": 1,
   "id": "f24a451d",
   "metadata": {},
   "outputs": [],
   "source": [
    "import asyncio\n",
    "import modal\n",
    "from aim import Run\n",
    "from track.aim import get_repo\n",
    "from infra.requirements import freeze, project_packages\n",
    "from mini.experiment import Experiment\n",
    "\n",
    "from utils.logging import SimpleLoggingConfig\n",
    "\n",
    "logging_config = SimpleLoggingConfig().info('track')\n",
    "logging_config.apply()\n",
    "\n",
    "# app = modal.App(\n",
    "#     'aim test',\n",
    "#     image=image,\n",
    "# )\n",
    "run = Experiment('aim test')\n",
    "run.image = modal.Image.debian_slim().pip_install(*freeze(all=True)).add_local_python_source(*project_packages())\n",
    "\n",
    "\n",
    "@run.thither\n",
    "async def emit_some_metrics():\n",
    "    logging_config.apply()\n",
    "\n",
    "    repo = get_repo()\n",
    "    run = Run(repo=repo)\n",
    "    for x in range(20):\n",
    "        print(x)\n",
    "        run.track(x, 'foo')\n",
    "        run.track(x**2, 'bar')\n",
    "        await asyncio.sleep(1)\n",
    "    run.close()"
   ]
  },
  {
   "cell_type": "code",
   "execution_count": 2,
   "id": "037d971c",
   "metadata": {},
   "outputs": [],
   "source": [
    "from unittest import mock\n",
    "from IPython.display import clear_output\n",
    "\n",
    "with mock.patch('rich.console._is_jupyter', return_value=False), modal.enable_output():\n",
    "    # Build images, if needed.\n",
    "    # By entering the experiment as a context, the thither functions will have their images built.\n",
    "    # We also need to actually call `get_repo`, because it comes from another app, so it won't be built otherwise.\n",
    "    # This would all happen automatically in the next cell when the function is actually called, but due to Modal's output handling, it's hard to tell whether the function has started and hung or if it's still building.\n",
    "    async with run():\n",
    "        get_repo()\n",
    "clear_output()"
   ]
  },
  {
   "cell_type": "code",
   "execution_count": 3,
   "id": "4d053013",
   "metadata": {},
   "outputs": [
    {
     "name": "stdout",
     "output_type": "stream",
     "text": [
      "I 1.6 tr.pa.cl:Patching Aim Client to use Basic auth\n",
      "I 1.6 tr.pa.cl:Setting bearer token\n",
      "0\n",
      "1\n",
      "2\n",
      "3\n",
      "4\n",
      "5\n",
      "6\n",
      "7\n",
      "8\n",
      "9\n",
      "10\n",
      "11\n",
      "12\n",
      "13\n",
      "14\n",
      "15\n",
      "16\n",
      "17\n",
      "18\n",
      "19\n"
     ]
    }
   ],
   "source": [
    "async with run():\n",
    "    await emit_some_metrics()"
   ]
  }
 ],
 "metadata": {
  "kernelspec": {
   "display_name": "ex-color-transformer",
   "language": "python",
   "name": "python3"
  },
  "language_info": {
   "codemirror_mode": {
    "name": "ipython",
    "version": 3
   },
   "file_extension": ".py",
   "mimetype": "text/x-python",
   "name": "python",
   "nbconvert_exporter": "python",
   "pygments_lexer": "ipython3",
   "version": "3.12.10"
  }
 },
 "nbformat": 4,
 "nbformat_minor": 5
}
